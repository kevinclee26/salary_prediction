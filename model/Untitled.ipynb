{
 "cells": [
  {
   "cell_type": "code",
   "execution_count": 1,
   "metadata": {},
   "outputs": [],
   "source": [
    "import pandas as pd\n",
    "import requests\n",
    "import matplotlib.pyplot as plt\n",
    "import random\n",
    "import math"
   ]
  },
  {
   "cell_type": "code",
   "execution_count": 2,
   "metadata": {},
   "outputs": [],
   "source": [
    "df=pd.read_csv('../data/survey_results_public.csv')"
   ]
  },
  {
   "cell_type": "code",
   "execution_count": 3,
   "metadata": {},
   "outputs": [
    {
     "name": "stdout",
     "output_type": "stream",
     "text": [
      "df has 64461 rows and 61 columns\n"
     ]
    }
   ],
   "source": [
    "print('df has {} rows and {} columns'.format(*df.shape))"
   ]
  },
  {
   "cell_type": "code",
   "execution_count": 4,
   "metadata": {},
   "outputs": [
    {
     "data": {
      "text/plain": [
       "Index(['Respondent', 'MainBranch', 'Hobbyist', 'Age', 'Age1stCode', 'CompFreq',\n",
       "       'CompTotal', 'ConvertedComp', 'Country', 'CurrencyDesc',\n",
       "       'CurrencySymbol', 'DatabaseDesireNextYear', 'DatabaseWorkedWith',\n",
       "       'DevType', 'EdLevel', 'Employment', 'Ethnicity', 'Gender', 'JobFactors',\n",
       "       'JobSat', 'JobSeek', 'LanguageDesireNextYear', 'LanguageWorkedWith',\n",
       "       'MiscTechDesireNextYear', 'MiscTechWorkedWith',\n",
       "       'NEWCollabToolsDesireNextYear', 'NEWCollabToolsWorkedWith', 'NEWDevOps',\n",
       "       'NEWDevOpsImpt', 'NEWEdImpt', 'NEWJobHunt', 'NEWJobHuntResearch',\n",
       "       'NEWLearn', 'NEWOffTopic', 'NEWOnboardGood', 'NEWOtherComms',\n",
       "       'NEWOvertime', 'NEWPurchaseResearch', 'NEWPurpleLink', 'NEWSOSites',\n",
       "       'NEWStuck', 'OpSys', 'OrgSize', 'PlatformDesireNextYear',\n",
       "       'PlatformWorkedWith', 'PurchaseWhat', 'Sexuality', 'SOAccount',\n",
       "       'SOComm', 'SOPartFreq', 'SOVisitFreq', 'SurveyEase', 'SurveyLength',\n",
       "       'Trans', 'UndergradMajor', 'WebframeDesireNextYear',\n",
       "       'WebframeWorkedWith', 'WelcomeChange', 'WorkWeekHrs', 'YearsCode',\n",
       "       'YearsCodePro'],\n",
       "      dtype='object')"
      ]
     },
     "execution_count": 4,
     "metadata": {},
     "output_type": "execute_result"
    }
   ],
   "source": [
    "df.columns"
   ]
  },
  {
   "cell_type": "code",
   "execution_count": 5,
   "metadata": {
    "scrolled": true
   },
   "outputs": [
    {
     "data": {
      "text/html": [
       "<div>\n",
       "<style scoped>\n",
       "    .dataframe tbody tr th:only-of-type {\n",
       "        vertical-align: middle;\n",
       "    }\n",
       "\n",
       "    .dataframe tbody tr th {\n",
       "        vertical-align: top;\n",
       "    }\n",
       "\n",
       "    .dataframe thead th {\n",
       "        text-align: right;\n",
       "    }\n",
       "</style>\n",
       "<table border=\"1\" class=\"dataframe\">\n",
       "  <thead>\n",
       "    <tr style=\"text-align: right;\">\n",
       "      <th></th>\n",
       "      <th>Respondent</th>\n",
       "      <th>MainBranch</th>\n",
       "      <th>Hobbyist</th>\n",
       "      <th>Age</th>\n",
       "      <th>Age1stCode</th>\n",
       "      <th>CompFreq</th>\n",
       "      <th>CompTotal</th>\n",
       "      <th>ConvertedComp</th>\n",
       "      <th>Country</th>\n",
       "      <th>CurrencyDesc</th>\n",
       "      <th>...</th>\n",
       "      <th>SurveyEase</th>\n",
       "      <th>SurveyLength</th>\n",
       "      <th>Trans</th>\n",
       "      <th>UndergradMajor</th>\n",
       "      <th>WebframeDesireNextYear</th>\n",
       "      <th>WebframeWorkedWith</th>\n",
       "      <th>WelcomeChange</th>\n",
       "      <th>WorkWeekHrs</th>\n",
       "      <th>YearsCode</th>\n",
       "      <th>YearsCodePro</th>\n",
       "    </tr>\n",
       "  </thead>\n",
       "  <tbody>\n",
       "    <tr>\n",
       "      <td>0</td>\n",
       "      <td>1</td>\n",
       "      <td>I am a developer by profession</td>\n",
       "      <td>Yes</td>\n",
       "      <td>NaN</td>\n",
       "      <td>13</td>\n",
       "      <td>Monthly</td>\n",
       "      <td>NaN</td>\n",
       "      <td>NaN</td>\n",
       "      <td>Germany</td>\n",
       "      <td>European Euro</td>\n",
       "      <td>...</td>\n",
       "      <td>Neither easy nor difficult</td>\n",
       "      <td>Appropriate in length</td>\n",
       "      <td>No</td>\n",
       "      <td>Computer science, computer engineering, or sof...</td>\n",
       "      <td>ASP.NET Core</td>\n",
       "      <td>ASP.NET;ASP.NET Core</td>\n",
       "      <td>Just as welcome now as I felt last year</td>\n",
       "      <td>50.0</td>\n",
       "      <td>36</td>\n",
       "      <td>27</td>\n",
       "    </tr>\n",
       "    <tr>\n",
       "      <td>1</td>\n",
       "      <td>2</td>\n",
       "      <td>I am a developer by profession</td>\n",
       "      <td>No</td>\n",
       "      <td>NaN</td>\n",
       "      <td>19</td>\n",
       "      <td>NaN</td>\n",
       "      <td>NaN</td>\n",
       "      <td>NaN</td>\n",
       "      <td>United Kingdom</td>\n",
       "      <td>Pound sterling</td>\n",
       "      <td>...</td>\n",
       "      <td>NaN</td>\n",
       "      <td>NaN</td>\n",
       "      <td>NaN</td>\n",
       "      <td>Computer science, computer engineering, or sof...</td>\n",
       "      <td>NaN</td>\n",
       "      <td>NaN</td>\n",
       "      <td>Somewhat more welcome now than last year</td>\n",
       "      <td>NaN</td>\n",
       "      <td>7</td>\n",
       "      <td>4</td>\n",
       "    </tr>\n",
       "    <tr>\n",
       "      <td>2</td>\n",
       "      <td>3</td>\n",
       "      <td>I code primarily as a hobby</td>\n",
       "      <td>Yes</td>\n",
       "      <td>NaN</td>\n",
       "      <td>15</td>\n",
       "      <td>NaN</td>\n",
       "      <td>NaN</td>\n",
       "      <td>NaN</td>\n",
       "      <td>Russian Federation</td>\n",
       "      <td>NaN</td>\n",
       "      <td>...</td>\n",
       "      <td>Neither easy nor difficult</td>\n",
       "      <td>Appropriate in length</td>\n",
       "      <td>NaN</td>\n",
       "      <td>NaN</td>\n",
       "      <td>NaN</td>\n",
       "      <td>NaN</td>\n",
       "      <td>Somewhat more welcome now than last year</td>\n",
       "      <td>NaN</td>\n",
       "      <td>4</td>\n",
       "      <td>NaN</td>\n",
       "    </tr>\n",
       "    <tr>\n",
       "      <td>3</td>\n",
       "      <td>4</td>\n",
       "      <td>I am a developer by profession</td>\n",
       "      <td>Yes</td>\n",
       "      <td>25.0</td>\n",
       "      <td>18</td>\n",
       "      <td>NaN</td>\n",
       "      <td>NaN</td>\n",
       "      <td>NaN</td>\n",
       "      <td>Albania</td>\n",
       "      <td>Albanian lek</td>\n",
       "      <td>...</td>\n",
       "      <td>NaN</td>\n",
       "      <td>NaN</td>\n",
       "      <td>No</td>\n",
       "      <td>Computer science, computer engineering, or sof...</td>\n",
       "      <td>NaN</td>\n",
       "      <td>NaN</td>\n",
       "      <td>Somewhat less welcome now than last year</td>\n",
       "      <td>40.0</td>\n",
       "      <td>7</td>\n",
       "      <td>4</td>\n",
       "    </tr>\n",
       "    <tr>\n",
       "      <td>4</td>\n",
       "      <td>5</td>\n",
       "      <td>I used to be a developer by profession, but no...</td>\n",
       "      <td>Yes</td>\n",
       "      <td>31.0</td>\n",
       "      <td>16</td>\n",
       "      <td>NaN</td>\n",
       "      <td>NaN</td>\n",
       "      <td>NaN</td>\n",
       "      <td>United States</td>\n",
       "      <td>NaN</td>\n",
       "      <td>...</td>\n",
       "      <td>Easy</td>\n",
       "      <td>Too short</td>\n",
       "      <td>No</td>\n",
       "      <td>Computer science, computer engineering, or sof...</td>\n",
       "      <td>Django;Ruby on Rails</td>\n",
       "      <td>Ruby on Rails</td>\n",
       "      <td>Just as welcome now as I felt last year</td>\n",
       "      <td>NaN</td>\n",
       "      <td>15</td>\n",
       "      <td>8</td>\n",
       "    </tr>\n",
       "  </tbody>\n",
       "</table>\n",
       "<p>5 rows × 61 columns</p>\n",
       "</div>"
      ],
      "text/plain": [
       "   Respondent                                         MainBranch Hobbyist  \\\n",
       "0           1                     I am a developer by profession      Yes   \n",
       "1           2                     I am a developer by profession       No   \n",
       "2           3                        I code primarily as a hobby      Yes   \n",
       "3           4                     I am a developer by profession      Yes   \n",
       "4           5  I used to be a developer by profession, but no...      Yes   \n",
       "\n",
       "    Age Age1stCode CompFreq  CompTotal  ConvertedComp             Country  \\\n",
       "0   NaN         13  Monthly        NaN            NaN             Germany   \n",
       "1   NaN         19      NaN        NaN            NaN      United Kingdom   \n",
       "2   NaN         15      NaN        NaN            NaN  Russian Federation   \n",
       "3  25.0         18      NaN        NaN            NaN             Albania   \n",
       "4  31.0         16      NaN        NaN            NaN       United States   \n",
       "\n",
       "     CurrencyDesc  ...                  SurveyEase           SurveyLength  \\\n",
       "0   European Euro  ...  Neither easy nor difficult  Appropriate in length   \n",
       "1  Pound sterling  ...                         NaN                    NaN   \n",
       "2             NaN  ...  Neither easy nor difficult  Appropriate in length   \n",
       "3    Albanian lek  ...                         NaN                    NaN   \n",
       "4             NaN  ...                        Easy              Too short   \n",
       "\n",
       "  Trans                                     UndergradMajor  \\\n",
       "0    No  Computer science, computer engineering, or sof...   \n",
       "1   NaN  Computer science, computer engineering, or sof...   \n",
       "2   NaN                                                NaN   \n",
       "3    No  Computer science, computer engineering, or sof...   \n",
       "4    No  Computer science, computer engineering, or sof...   \n",
       "\n",
       "  WebframeDesireNextYear    WebframeWorkedWith  \\\n",
       "0           ASP.NET Core  ASP.NET;ASP.NET Core   \n",
       "1                    NaN                   NaN   \n",
       "2                    NaN                   NaN   \n",
       "3                    NaN                   NaN   \n",
       "4   Django;Ruby on Rails         Ruby on Rails   \n",
       "\n",
       "                              WelcomeChange WorkWeekHrs YearsCode YearsCodePro  \n",
       "0   Just as welcome now as I felt last year        50.0        36           27  \n",
       "1  Somewhat more welcome now than last year         NaN         7            4  \n",
       "2  Somewhat more welcome now than last year         NaN         4          NaN  \n",
       "3  Somewhat less welcome now than last year        40.0         7            4  \n",
       "4   Just as welcome now as I felt last year         NaN        15            8  \n",
       "\n",
       "[5 rows x 61 columns]"
      ]
     },
     "execution_count": 5,
     "metadata": {},
     "output_type": "execute_result"
    }
   ],
   "source": [
    "df.head()"
   ]
  },
  {
   "cell_type": "code",
   "execution_count": 6,
   "metadata": {},
   "outputs": [],
   "source": [
    "categoricals=[]\n",
    "multi_options=[]\n",
    "numericals=[]"
   ]
  },
  {
   "cell_type": "code",
   "execution_count": 7,
   "metadata": {},
   "outputs": [
    {
     "data": {
      "text/plain": [
       "array(['I am a developer by profession', 'I code primarily as a hobby',\n",
       "       'I used to be a developer by profession, but no longer am',\n",
       "       'I am not primarily a developer, but I write code sometimes as part of my work',\n",
       "       'I am a student who is learning to code', nan], dtype=object)"
      ]
     },
     "execution_count": 7,
     "metadata": {},
     "output_type": "execute_result"
    }
   ],
   "source": [
    "categoricals.append('MainBranch')\n",
    "df['MainBranch'].unique()"
   ]
  },
  {
   "cell_type": "code",
   "execution_count": 8,
   "metadata": {
    "scrolled": true
   },
   "outputs": [
    {
     "data": {
      "text/plain": [
       "0         NaN\n",
       "1         NaN\n",
       "2         NaN\n",
       "3        25.0\n",
       "4        31.0\n",
       "         ... \n",
       "64456     NaN\n",
       "64457     NaN\n",
       "64458     NaN\n",
       "64459     NaN\n",
       "64460     NaN\n",
       "Name: Age, Length: 64461, dtype: float64"
      ]
     },
     "execution_count": 8,
     "metadata": {},
     "output_type": "execute_result"
    }
   ],
   "source": [
    "numericals.append('Age')\n",
    "pd.to_numeric(df['Age'], errors='coerce')"
   ]
  },
  {
   "cell_type": "code",
   "execution_count": 9,
   "metadata": {},
   "outputs": [
    {
     "data": {
      "text/plain": [
       "0        13.0\n",
       "1        19.0\n",
       "2        15.0\n",
       "3        18.0\n",
       "4        16.0\n",
       "         ... \n",
       "64456    16.0\n",
       "64457     NaN\n",
       "64458     NaN\n",
       "64459     NaN\n",
       "64460     NaN\n",
       "Name: Age1stCode, Length: 64461, dtype: float64"
      ]
     },
     "execution_count": 9,
     "metadata": {},
     "output_type": "execute_result"
    }
   ],
   "source": [
    "numericals.append('Age1stCode')\n",
    "pd.to_numeric(df['Age1stCode'], errors='coerce')"
   ]
  },
  {
   "cell_type": "code",
   "execution_count": 10,
   "metadata": {},
   "outputs": [
    {
     "data": {
      "text/plain": [
       "array(['Germany', 'United Kingdom', 'Russian Federation', 'Albania',\n",
       "       'United States', 'India', 'Tunisia', 'Spain', 'Netherlands',\n",
       "       'France', 'Belgium', 'Portugal', 'Canada', 'China', 'Ukraine',\n",
       "       'Italy', 'Brazil', 'Austria', 'Mexico', 'Sweden', 'Poland',\n",
       "       'Indonesia', 'Greece', 'Israel', 'Czech Republic',\n",
       "       'Bosnia and Herzegovina', 'Bulgaria', 'Serbia', 'Switzerland',\n",
       "       'Hungary', 'Nepal', 'Slovenia', 'Uruguay', 'Denmark', 'Pakistan',\n",
       "       'Taiwan', 'Romania', 'Finland', 'Costa Rica', 'Nigeria', 'Chile',\n",
       "       'Turkey', 'Panama', 'Ireland', 'Estonia', 'Philippines',\n",
       "       'Australia', 'Nomadic', 'Peru', 'Cyprus', 'Sri Lanka', 'Kenya',\n",
       "       'Norway', 'Kyrgyzstan', 'Iran', 'Croatia', 'Egypt', 'Argentina',\n",
       "       'Ghana', 'Latvia', 'Morocco', 'Bangladesh', 'Ecuador', 'Haiti',\n",
       "       'Venezuela, Bolivarian Republic of...', 'Colombia', 'Lithuania',\n",
       "       'El Salvador', 'Honduras', 'Ethiopia', 'Lebanon', 'Uganda',\n",
       "       'Algeria', 'Viet Nam', 'Guatemala', 'Syrian Arab Republic',\n",
       "       'Afghanistan', 'Slovakia', 'United Arab Emirates', 'Belarus',\n",
       "       'Sudan', 'South Africa', 'Jordan', 'Georgia',\n",
       "       'United Republic of Tanzania', 'Antigua and Barbuda',\n",
       "       'Saudi Arabia', 'New Zealand', 'Kuwait', 'Armenia',\n",
       "       'Republic of Moldova', 'Cuba', 'Luxembourg', 'Singapore',\n",
       "       'Azerbaijan', 'Dominican Republic', 'Iceland', 'Isle of Man',\n",
       "       'Uzbekistan', 'Trinidad and Tobago', 'Senegal', 'Andorra',\n",
       "       'Turkmenistan', 'Hong Kong (S.A.R.)', 'Benin', 'Bolivia',\n",
       "       'Republic of Korea', 'Japan', 'Malta', 'Iraq', 'South Korea',\n",
       "       'Paraguay', 'Malaysia', 'Thailand', 'Myanmar', 'Kazakhstan',\n",
       "       'Cambodia', 'Jamaica', 'Nicaragua', 'Maldives',\n",
       "       'Democratic Republic of the Congo', 'Papua New Guinea', 'Oman',\n",
       "       'The former Yugoslav Republic of Macedonia', 'Malawi', 'Qatar',\n",
       "       'Madagascar', 'Botswana', 'Angola', 'Montenegro', 'Yemen',\n",
       "       'Mongolia', 'Kosovo', 'Zambia', 'Zimbabwe',\n",
       "       'Libyan Arab Jamahiriya', 'Mozambique', 'Somalia', 'Eritrea',\n",
       "       'Namibia', 'Rwanda', 'Burkina Faso', 'Congo, Republic of the...',\n",
       "       'Swaziland', 'Bhutan', 'Cameroon', 'Bahrain', \"Côte d'Ivoire\",\n",
       "       'Sierra Leone', 'Togo', 'Niger', 'Barbados', 'Belize',\n",
       "       'Saint Vincent and the Grenadines',\n",
       "       \"Lao People's Democratic Republic\", 'Tajikistan', 'Mauritius',\n",
       "       'Guinea', 'Brunei Darussalam', 'Bahamas', 'Mauritania',\n",
       "       'Saint Lucia', 'Djibouti', 'San Marino', 'Lesotho', 'Nauru', nan,\n",
       "       'Burundi', 'Fiji', 'Kiribati', 'Grenada', 'Chad', 'Mali', 'Guyana',\n",
       "       'Micronesia, Federated States of...', 'Gambia', 'North Korea',\n",
       "       'Liechtenstein', 'Monaco', 'Timor-Leste', 'Solomon Islands',\n",
       "       'Cape Verde', 'Gabon', 'Marshall Islands'], dtype=object)"
      ]
     },
     "execution_count": 10,
     "metadata": {},
     "output_type": "execute_result"
    }
   ],
   "source": [
    "categoricals.append('Country')\n",
    "df['Country'].unique()"
   ]
  },
  {
   "cell_type": "code",
   "execution_count": 11,
   "metadata": {},
   "outputs": [
    {
     "data": {
      "text/plain": [
       "Index(['Cassandra', 'Couchbase', 'DynamoDB', 'Elasticsearch', 'Firebase',\n",
       "       'IBM DB2', 'MariaDB', 'Microsoft SQL Server', 'MongoDB', 'MySQL',\n",
       "       'Oracle', 'PostgreSQL', 'Redis', 'SQLite'],\n",
       "      dtype='object')"
      ]
     },
     "execution_count": 11,
     "metadata": {},
     "output_type": "execute_result"
    }
   ],
   "source": [
    "multi_options.append('DatabaseWorkedWith')\n",
    "df['DatabaseWorkedWith'].str.get_dummies(sep=';').columns"
   ]
  },
  {
   "cell_type": "code",
   "execution_count": 12,
   "metadata": {},
   "outputs": [
    {
     "data": {
      "text/plain": [
       "Index(['Academic researcher', 'Data or business analyst',\n",
       "       'Data scientist or machine learning specialist',\n",
       "       'Database administrator', 'Designer', 'DevOps specialist',\n",
       "       'Developer, QA or test', 'Developer, back-end',\n",
       "       'Developer, desktop or enterprise applications',\n",
       "       'Developer, embedded applications or devices', 'Developer, front-end',\n",
       "       'Developer, full-stack', 'Developer, game or graphics',\n",
       "       'Developer, mobile', 'Educator', 'Engineer, data',\n",
       "       'Engineer, site reliability', 'Engineering manager',\n",
       "       'Marketing or sales professional', 'Product manager', 'Scientist',\n",
       "       'Senior executive/VP', 'System administrator'],\n",
       "      dtype='object')"
      ]
     },
     "execution_count": 12,
     "metadata": {},
     "output_type": "execute_result"
    }
   ],
   "source": [
    "multi_options.append('DevType')\n",
    "df['DevType'].str.get_dummies(sep=';').columns"
   ]
  },
  {
   "cell_type": "code",
   "execution_count": 13,
   "metadata": {},
   "outputs": [
    {
     "data": {
      "text/plain": [
       "array(['Master’s degree (M.A., M.S., M.Eng., MBA, etc.)',\n",
       "       'Bachelor’s degree (B.A., B.S., B.Eng., etc.)', nan,\n",
       "       'Secondary school (e.g. American high school, German Realschule or Gymnasium, etc.)',\n",
       "       'Professional degree (JD, MD, etc.)',\n",
       "       'Some college/university study without earning a degree',\n",
       "       'Associate degree (A.A., A.S., etc.)',\n",
       "       'Other doctoral degree (Ph.D., Ed.D., etc.)',\n",
       "       'Primary/elementary school',\n",
       "       'I never completed any formal education'], dtype=object)"
      ]
     },
     "execution_count": 13,
     "metadata": {},
     "output_type": "execute_result"
    }
   ],
   "source": [
    "categoricals.append('EdLevel')\n",
    "df['EdLevel'].unique()"
   ]
  },
  {
   "cell_type": "code",
   "execution_count": 14,
   "metadata": {},
   "outputs": [
    {
     "data": {
      "text/plain": [
       "array(['Independent contractor, freelancer, or self-employed',\n",
       "       'Employed full-time', nan, 'Student',\n",
       "       'Not employed, but looking for work', 'Employed part-time',\n",
       "       'Retired', 'Not employed, and not looking for work'], dtype=object)"
      ]
     },
     "execution_count": 14,
     "metadata": {},
     "output_type": "execute_result"
    }
   ],
   "source": [
    "categoricals.append('Employment')\n",
    "df['Employment'].unique()"
   ]
  },
  {
   "cell_type": "code",
   "execution_count": 15,
   "metadata": {},
   "outputs": [],
   "source": [
    "# multi_options.append('Ethnicity')\n",
    "# df['Ethnicity'].str.get_dummies(sep=';')"
   ]
  },
  {
   "cell_type": "code",
   "execution_count": 16,
   "metadata": {},
   "outputs": [
    {
     "data": {
      "text/plain": [
       "Index(['Man', 'Non-binary, genderqueer, or gender non-conforming', 'Woman'], dtype='object')"
      ]
     },
     "execution_count": 16,
     "metadata": {},
     "output_type": "execute_result"
    }
   ],
   "source": [
    "multi_options.append('Gender')\n",
    "df['Gender'].str.get_dummies(sep=';').columns"
   ]
  },
  {
   "cell_type": "code",
   "execution_count": 17,
   "metadata": {},
   "outputs": [
    {
     "data": {
      "text/plain": [
       "Index(['Assembly', 'Bash/Shell/PowerShell', 'C', 'C#', 'C++', 'Dart', 'Go',\n",
       "       'HTML/CSS', 'Haskell', 'Java', 'JavaScript', 'Julia', 'Kotlin',\n",
       "       'Objective-C', 'PHP', 'Perl', 'Python', 'R', 'Ruby', 'Rust', 'SQL',\n",
       "       'Scala', 'Swift', 'TypeScript', 'VBA'],\n",
       "      dtype='object')"
      ]
     },
     "execution_count": 17,
     "metadata": {},
     "output_type": "execute_result"
    }
   ],
   "source": [
    "multi_options.append('LanguageWorkedWith')\n",
    "df['LanguageWorkedWith'].str.get_dummies(sep=';').columns"
   ]
  },
  {
   "cell_type": "code",
   "execution_count": 18,
   "metadata": {},
   "outputs": [
    {
     "data": {
      "text/plain": [
       "Index(['.NET', '.NET Core', 'Ansible', 'Apache Spark', 'Chef', 'Cordova',\n",
       "       'Flutter', 'Hadoop', 'Keras', 'Node.js', 'Pandas', 'Puppet',\n",
       "       'React Native', 'TensorFlow', 'Teraform', 'Torch/PyTorch', 'Unity 3D',\n",
       "       'Unreal Engine', 'Xamarin'],\n",
       "      dtype='object')"
      ]
     },
     "execution_count": 18,
     "metadata": {},
     "output_type": "execute_result"
    }
   ],
   "source": [
    "multi_options.append('MiscTechWorkedWith')\n",
    "df['MiscTechWorkedWith'].str.get_dummies(sep=';').columns"
   ]
  },
  {
   "cell_type": "code",
   "execution_count": 19,
   "metadata": {},
   "outputs": [
    {
     "data": {
      "text/plain": [
       "Index(['Confluence', 'Facebook Workplace', 'Github', 'Gitlab',\n",
       "       'Google Suite (Docs, Meet, etc)', 'Jira', 'Microsoft Azure',\n",
       "       'Microsoft Teams', 'Slack', 'Stack Overflow for Teams', 'Trello'],\n",
       "      dtype='object')"
      ]
     },
     "execution_count": 19,
     "metadata": {},
     "output_type": "execute_result"
    }
   ],
   "source": [
    "multi_options.append('NEWCollabToolsWorkedWith')\n",
    "df['NEWCollabToolsWorkedWith'].str.get_dummies(sep=';').columns"
   ]
  },
  {
   "cell_type": "code",
   "execution_count": 20,
   "metadata": {},
   "outputs": [
    {
     "data": {
      "text/plain": [
       "array(['Windows', 'MacOS', 'Linux-based', nan, 'BSD'], dtype=object)"
      ]
     },
     "execution_count": 20,
     "metadata": {},
     "output_type": "execute_result"
    }
   ],
   "source": [
    "categoricals.append('OpSys')\n",
    "df['OpSys'].unique()"
   ]
  },
  {
   "cell_type": "code",
   "execution_count": 21,
   "metadata": {},
   "outputs": [
    {
     "data": {
      "text/plain": [
       "Index(['AWS', 'Android', 'Arduino', 'Docker', 'Google Cloud Platform',\n",
       "       'Heroku', 'IBM Cloud or Watson', 'Kubernetes', 'Linux', 'MacOS',\n",
       "       'Microsoft Azure', 'Raspberry Pi', 'Slack Apps and Integrations',\n",
       "       'Windows', 'WordPress', 'iOS'],\n",
       "      dtype='object')"
      ]
     },
     "execution_count": 21,
     "metadata": {},
     "output_type": "execute_result"
    }
   ],
   "source": [
    "multi_options.append('PlatformWorkedWith')\n",
    "df['PlatformWorkedWith'].str.get_dummies(sep=';').columns"
   ]
  },
  {
   "cell_type": "code",
   "execution_count": 22,
   "metadata": {},
   "outputs": [
    {
     "data": {
      "text/plain": [
       "array(['Computer science, computer engineering, or software engineering',\n",
       "       nan, 'Mathematics or statistics',\n",
       "       'Another engineering discipline (such as civil, electrical, mechanical, etc.)',\n",
       "       'A humanities discipline (such as literature, history, philosophy, etc.)',\n",
       "       'A health science (such as nursing, pharmacy, radiology, etc.)',\n",
       "       'Information systems, information technology, or system administration',\n",
       "       'Web development or web design',\n",
       "       'A natural science (such as biology, chemistry, physics, etc.)',\n",
       "       'Fine arts or performing arts (such as graphic design, music, studio art, etc.)',\n",
       "       'I never declared a major',\n",
       "       'A social science (such as anthropology, psychology, political science, etc.)',\n",
       "       'A business discipline (such as accounting, finance, marketing, etc.)'],\n",
       "      dtype=object)"
      ]
     },
     "execution_count": 22,
     "metadata": {},
     "output_type": "execute_result"
    }
   ],
   "source": [
    "categoricals.append('UndergradMajor')\n",
    "df['UndergradMajor'].unique()"
   ]
  },
  {
   "cell_type": "code",
   "execution_count": 23,
   "metadata": {},
   "outputs": [
    {
     "data": {
      "text/plain": [
       "Index(['ASP.NET', 'ASP.NET Core', 'Angular', 'Angular.js', 'Django', 'Drupal',\n",
       "       'Express', 'Flask', 'Gatsby', 'Laravel', 'React.js', 'Ruby on Rails',\n",
       "       'Spring', 'Symfony', 'Vue.js', 'jQuery'],\n",
       "      dtype='object')"
      ]
     },
     "execution_count": 23,
     "metadata": {},
     "output_type": "execute_result"
    }
   ],
   "source": [
    "multi_options.append('WebframeWorkedWith')\n",
    "df['WebframeWorkedWith'].str.get_dummies(sep=';').columns"
   ]
  },
  {
   "cell_type": "code",
   "execution_count": 24,
   "metadata": {
    "scrolled": true
   },
   "outputs": [
    {
     "data": {
      "text/plain": [
       "0        36.0\n",
       "1         7.0\n",
       "2         4.0\n",
       "3         7.0\n",
       "4        15.0\n",
       "         ... \n",
       "64456    10.0\n",
       "64457     NaN\n",
       "64458     NaN\n",
       "64459     NaN\n",
       "64460     NaN\n",
       "Name: YearsCode, Length: 64461, dtype: float64"
      ]
     },
     "execution_count": 24,
     "metadata": {},
     "output_type": "execute_result"
    }
   ],
   "source": [
    "numericals.append('YearsCode')\n",
    "pd.to_numeric(df['YearsCode'], errors='coerce')"
   ]
  },
  {
   "cell_type": "code",
   "execution_count": 25,
   "metadata": {
    "scrolled": true
   },
   "outputs": [
    {
     "data": {
      "text/plain": [
       "0        27.0\n",
       "1         4.0\n",
       "2         NaN\n",
       "3         4.0\n",
       "4         8.0\n",
       "         ... \n",
       "64456     NaN\n",
       "64457     NaN\n",
       "64458     NaN\n",
       "64459     NaN\n",
       "64460     NaN\n",
       "Name: YearsCodePro, Length: 64461, dtype: float64"
      ]
     },
     "execution_count": 25,
     "metadata": {},
     "output_type": "execute_result"
    }
   ],
   "source": [
    "numericals.append('YearsCodePro')\n",
    "pd.to_numeric(df['YearsCodePro'], errors='coerce')"
   ]
  },
  {
   "cell_type": "code",
   "execution_count": null,
   "metadata": {},
   "outputs": [],
   "source": []
  },
  {
   "cell_type": "code",
   "execution_count": null,
   "metadata": {},
   "outputs": [],
   "source": []
  },
  {
   "cell_type": "code",
   "execution_count": null,
   "metadata": {},
   "outputs": [],
   "source": []
  },
  {
   "cell_type": "code",
   "execution_count": null,
   "metadata": {},
   "outputs": [],
   "source": []
  },
  {
   "cell_type": "markdown",
   "metadata": {},
   "source": [
    "['Age', 'Age1stCode', 'YearsCode', 'YearsCodePro']\n",
    "\n",
    "['MainBranch', 'Country', 'EdLevel', 'Employment', 'OpSys', 'UndergradMajor']\n",
    "\n",
    "['DatabaseWorkedWith', 'DevType', 'Gender', 'LanguageWorkedWith', 'MiscTechWorkedWith', 'NEWCollabToolsWorkedWith', 'PlatformWorkedWith', 'WebframeWorkedWith']"
   ]
  },
  {
   "cell_type": "code",
   "execution_count": 126,
   "metadata": {},
   "outputs": [
    {
     "name": "stdout",
     "output_type": "stream",
     "text": [
      "['Age', 'Age1stCode', 'YearsCode', 'YearsCodePro']\n"
     ]
    }
   ],
   "source": [
    "print(numericals)\n",
    "# print(categoricals)\n",
    "categoricals=['MainBranch', 'EdLevel', 'UndergradMajor']#, 'Country']\n",
    "# print(multi_options)\n",
    "multi_options=['DevType', 'Gender', 'LanguageWorkedWith']"
   ]
  },
  {
   "cell_type": "code",
   "execution_count": 127,
   "metadata": {},
   "outputs": [
    {
     "data": {
      "text/plain": [
       "3"
      ]
     },
     "execution_count": 127,
     "metadata": {},
     "output_type": "execute_result"
    }
   ],
   "source": [
    "import math\n",
    "math.ceil(5/2)"
   ]
  },
  {
   "cell_type": "code",
   "execution_count": 28,
   "metadata": {
    "scrolled": true
   },
   "outputs": [
    {
     "ename": "NameError",
     "evalue": "name 'input_ary' is not defined",
     "output_type": "error",
     "traceback": [
      "\u001b[1;31m---------------------------------------------------------------------------\u001b[0m",
      "\u001b[1;31mNameError\u001b[0m                                 Traceback (most recent call last)",
      "\u001b[1;32m<ipython-input-28-ecd2476240e0>\u001b[0m in \u001b[0;36m<module>\u001b[1;34m\u001b[0m\n\u001b[0;32m      3\u001b[0m \u001b[1;32mfor\u001b[0m \u001b[0midx\u001b[0m\u001b[1;33m,\u001b[0m \u001b[0meach_col\u001b[0m \u001b[1;32min\u001b[0m \u001b[0menumerate\u001b[0m\u001b[1;33m(\u001b[0m\u001b[0mnumericals\u001b[0m\u001b[1;33m)\u001b[0m\u001b[1;33m:\u001b[0m\u001b[1;33m\u001b[0m\u001b[1;33m\u001b[0m\u001b[0m\n\u001b[0;32m      4\u001b[0m \u001b[1;31m#     plt.scatter(input_ary[each_col], y, ax=ax[int(idx/2)][int(idx%2)])\u001b[0m\u001b[1;33m\u001b[0m\u001b[1;33m\u001b[0m\u001b[1;33m\u001b[0m\u001b[0m\n\u001b[1;32m----> 5\u001b[1;33m     \u001b[0mplt\u001b[0m\u001b[1;33m.\u001b[0m\u001b[0mscatter\u001b[0m\u001b[1;33m(\u001b[0m\u001b[0minput_ary\u001b[0m\u001b[1;33m[\u001b[0m\u001b[0meach_col\u001b[0m\u001b[1;33m]\u001b[0m\u001b[1;33m,\u001b[0m \u001b[0my\u001b[0m\u001b[1;33m)\u001b[0m\u001b[1;33m\u001b[0m\u001b[1;33m\u001b[0m\u001b[0m\n\u001b[0m\u001b[0;32m      6\u001b[0m     \u001b[0mplt\u001b[0m\u001b[1;33m.\u001b[0m\u001b[0mshow\u001b[0m\u001b[1;33m(\u001b[0m\u001b[1;33m)\u001b[0m\u001b[1;33m\u001b[0m\u001b[1;33m\u001b[0m\u001b[0m\n\u001b[0;32m      7\u001b[0m \u001b[1;31m#     print(ax[0][0])\u001b[0m\u001b[1;33m\u001b[0m\u001b[1;33m\u001b[0m\u001b[1;33m\u001b[0m\u001b[0m\n",
      "\u001b[1;31mNameError\u001b[0m: name 'input_ary' is not defined"
     ]
    }
   ],
   "source": [
    "# # fig, ax=plt.subplots(math.ceil(len(numericals)/2), 2)\n",
    "# # plt.subplots(math.ceil(5/2), 2)\n",
    "for idx, each_col in enumerate(numericals): \n",
    "#     plt.scatter(input_ary[each_col], y, ax=ax[int(idx/2)][int(idx%2)])\n",
    "    plt.scatter(input_ary[each_col], y)\n",
    "    plt.show()\n",
    "#     print(ax[0][0])"
   ]
  },
  {
   "cell_type": "code",
   "execution_count": 128,
   "metadata": {},
   "outputs": [],
   "source": [
    "# X=df[['ConvertedComp']]\n",
    "X=df[(df['ConvertedComp']<=500000) & (df['ConvertedComp']>=40000)]#[['ConvertedComp']]\n",
    "X=X[X['Country']=='United States'][['ConvertedComp']]\n",
    "for each_col in numericals:\n",
    "    X=pd.concat([X, pd.to_numeric(df[each_col], errors='coerce')], axis=1)\n",
    "for each_col in categoricals: \n",
    "    X=pd.concat([X, pd.get_dummies(df[each_col])], axis=1)\n",
    "# for each_col in multi_options: \n",
    "#     X=pd.concat([X, df[each_col].str.get_dummies(sep=';')], axis=1)    "
   ]
  },
  {
   "cell_type": "code",
   "execution_count": 91,
   "metadata": {},
   "outputs": [
    {
     "data": {
      "image/png": "[encoded data removed]",
      "text/plain": [
       "<Figure size 432x288 with 2 Axes>"
      ]
     },
     "metadata": {
      "needs_background": "light"
     },
     "output_type": "display_data"
    },
    {
     "data": {
      "image/png": "[encoded data removed]",
      "text/plain": [
       "<Figure size 432x288 with 2 Axes>"
      ]
     },
     "metadata": {
      "needs_background": "light"
     },
     "output_type": "display_data"
    },
    {
     "data": {
      "image/png": "[encoded data removed]",
      "text/plain": [
       "<Figure size 432x288 with 2 Axes>"
      ]
     },
     "metadata": {
      "needs_background": "light"
     },
     "output_type": "display_data"
    },
    {
     "data": {
      "image/png": "[encoded data removed]",
      "text/plain": [
       "<Figure size 432x288 with 2 Axes>"
      ]
     },
     "metadata": {
      "needs_background": "light"
     },
     "output_type": "display_data"
    },
    {
     "data": {
      "image/png": "[encoded data removed]",
      "text/plain": [
       "<Figure size 432x288 with 2 Axes>"
      ]
     },
     "metadata": {
      "needs_background": "light"
     },
     "output_type": "display_data"
    },
    {
     "data": {
      "image/png": "[encoded data removed]",
      "text/plain": [
       "<Figure size 432x288 with 2 Axes>"
      ]
     },
     "metadata": {
      "needs_background": "light"
     },
     "output_type": "display_data"
    },
    {
     "data": {
      "image/png": "[encoded data removed]",
      "text/plain": [
       "<Figure size 432x288 with 2 Axes>"
      ]
     },
     "metadata": {
      "needs_background": "light"
     },
     "output_type": "display_data"
    },
    {
     "data": {
      "image/png": "[encoded data removed]",
      "text/plain": [
       "<Figure size 432x288 with 2 Axes>"
      ]
     },
     "metadata": {
      "needs_background": "light"
     },
     "output_type": "display_data"
    },
    {
     "data": {
      "image/png": "[encoded data removed]",
      "text/plain": [
       "<Figure size 432x288 with 2 Axes>"
      ]
     },
     "metadata": {
      "needs_background": "light"
     },
     "output_type": "display_data"
    },
    {
     "data": {
      "image/png": "[encoded data removed]",
      "text/plain": [
       "<Figure size 432x288 with 2 Axes>"
      ]
     },
     "metadata": {
      "needs_background": "light"
     },
     "output_type": "display_data"
    },
    {
     "data": {
      "image/png": "[encoded data removed]",
      "text/plain": [
       "<Figure size 432x288 with 2 Axes>"
      ]
     },
     "metadata": {
      "needs_background": "light"
     },
     "output_type": "display_data"
    },
    {
     "data": {
      "image/png": "[encoded data removed]",
      "text/plain": [
       "<Figure size 432x288 with 2 Axes>"
      ]
     },
     "metadata": {
      "needs_background": "light"
     },
     "output_type": "display_data"
    },
    {
     "data": {
      "image/png": "[encoded data removed]",
      "text/plain": [
       "<Figure size 432x288 with 2 Axes>"
      ]
     },
     "metadata": {
      "needs_background": "light"
     },
     "output_type": "display_data"
    },
    {
     "data": {
      "image/png": "[encoded data removed]",
      "text/plain": [
       "<Figure size 432x288 with 2 Axes>"
      ]
     },
     "metadata": {
      "needs_background": "light"
     },
     "output_type": "display_data"
    },
    {
     "data": {
      "image/png": "[encoded data removed]",
      "text/plain": [
       "<Figure size 432x288 with 2 Axes>"
      ]
     },
     "metadata": {
      "needs_background": "light"
     },
     "output_type": "display_data"
    },
    {
     "data": {
      "image/png": "[encoded data removed]",
      "text/plain": [
       "<Figure size 432x288 with 2 Axes>"
      ]
     },
     "metadata": {
      "needs_background": "light"
     },
     "output_type": "display_data"
    },
    {
     "data": {
      "image/png": "[encoded data removed]",
      "text/plain": [
       "<Figure size 432x288 with 2 Axes>"
      ]
     },
     "metadata": {
      "needs_background": "light"
     },
     "output_type": "display_data"
    },
    {
     "data": {
      "image/png": "[encoded data removed]",
      "text/plain": [
       "<Figure size 432x288 with 2 Axes>"
      ]
     },
     "metadata": {
      "needs_background": "light"
     },
     "output_type": "display_data"
    },
    {
     "data": {
      "image/png": "[encoded data removed]",
      "text/plain": [
       "<Figure size 432x288 with 2 Axes>"
      ]
     },
     "metadata": {
      "needs_background": "light"
     },
     "output_type": "display_data"
    },
    {
     "data": {
      "image/png": "[encoded data removed]",
      "text/plain": [
       "<Figure size 432x288 with 2 Axes>"
      ]
     },
     "metadata": {
      "needs_background": "light"
     },
     "output_type": "display_data"
    },
    {
     "data": {
      "image/png": "[encoded data removed]",
      "text/plain": [
       "<Figure size 432x288 with 2 Axes>"
      ]
     },
     "metadata": {
      "needs_background": "light"
     },
     "output_type": "display_data"
    },
    {
     "data": {
      "image/png": "[encoded data removed]",
      "text/plain": [
       "<Figure size 432x288 with 2 Axes>"
      ]
     },
     "metadata": {
      "needs_background": "light"
     },
     "output_type": "display_data"
    },
    {
     "data": {
      "image/png": "[encoded data removed]",
      "text/plain": [
       "<Figure size 432x288 with 2 Axes>"
      ]
     },
     "metadata": {
      "needs_background": "light"
     },
     "output_type": "display_data"
    },
    {
     "data": {
      "image/png": "[encoded data removed]",
      "text/plain": [
       "<Figure size 432x288 with 2 Axes>"
      ]
     },
     "metadata": {
      "needs_background": "light"
     },
     "output_type": "display_data"
    },
    {
     "data": {
      "image/png": "[encoded data removed]",
      "text/plain": [
       "<Figure size 432x288 with 2 Axes>"
      ]
     },
     "metadata": {
      "needs_background": "light"
     },
     "output_type": "display_data"
    },
    {
     "data": {
      "image/png": "[encoded data removed]",
      "text/plain": [
       "<Figure size 432x288 with 2 Axes>"
      ]
     },
     "metadata": {
      "needs_background": "light"
     },
     "output_type": "display_data"
    },
    {
     "data": {
      "image/png": "[encoded data removed]",
      "text/plain": [
       "<Figure size 432x288 with 2 Axes>"
      ]
     },
     "metadata": {
      "needs_background": "light"
     },
     "output_type": "display_data"
    },
    {
     "data": {
      "image/png": "[encoded data removed]",
      "text/plain": [
       "<Figure size 432x288 with 2 Axes>"
      ]
     },
     "metadata": {
      "needs_background": "light"
     },
     "output_type": "display_data"
    },
    {
     "data": {
      "image/png": "[encoded data removed]",
      "text/plain": [
       "<Figure size 432x288 with 2 Axes>"
      ]
     },
     "metadata": {
      "needs_background": "light"
     },
     "output_type": "display_data"
    },
    {
     "data": {
      "image/png": "[encoded data removed]",
      "text/plain": [
       "<Figure size 432x288 with 2 Axes>"
      ]
     },
     "metadata": {
      "needs_background": "light"
     },
     "output_type": "display_data"
    },
    {
     "data": {
      "image/png": "[encoded data removed]",
      "text/plain": [
       "<Figure size 432x288 with 2 Axes>"
      ]
     },
     "metadata": {
      "needs_background": "light"
     },
     "output_type": "display_data"
    },
    {
     "data": {
      "image/png": "[encoded data removed]",
      "text/plain": [
       "<Figure size 432x288 with 2 Axes>"
      ]
     },
     "metadata": {
      "needs_background": "light"
     },
     "output_type": "display_data"
    },
    {
     "data": {
      "image/png": "[encoded data removed]",
      "text/plain": [
       "<Figure size 432x288 with 2 Axes>"
      ]
     },
     "metadata": {
      "needs_background": "light"
     },
     "output_type": "display_data"
    },
    {
     "data": {
      "image/png": "[encoded data removed]",
      "text/plain": [
       "<Figure size 432x288 with 2 Axes>"
      ]
     },
     "metadata": {
      "needs_background": "light"
     },
     "output_type": "display_data"
    },
    {
     "data": {
      "image/png": "[encoded data removed]",
      "text/plain": [
       "<Figure size 432x288 with 2 Axes>"
      ]
     },
     "metadata": {
      "needs_background": "light"
     },
     "output_type": "display_data"
    },
    {
     "data": {
      "image/png": "[encoded data removed]",
      "text/plain": [
       "<Figure size 432x288 with 2 Axes>"
      ]
     },
     "metadata": {
      "needs_background": "light"
     },
     "output_type": "display_data"
    },
    {
     "data": {
      "image/png": "[encoded data removed]",
      "text/plain": [
       "<Figure size 432x288 with 2 Axes>"
      ]
     },
     "metadata": {
      "needs_background": "light"
     },
     "output_type": "display_data"
    },
    {
     "data": {
      "image/png": "[encoded data removed]",
      "text/plain": [
       "<Figure size 432x288 with 2 Axes>"
      ]
     },
     "metadata": {
      "needs_background": "light"
     },
     "output_type": "display_data"
    },
    {
     "data": {
      "image/png": "[encoded data removed]",
      "text/plain": [
       "<Figure size 432x288 with 2 Axes>"
      ]
     },
     "metadata": {
      "needs_background": "light"
     },
     "output_type": "display_data"
    },
    {
     "data": {
      "image/png": "[encoded data removed]",
      "text/plain": [
       "<Figure size 432x288 with 2 Axes>"
      ]
     },
     "metadata": {
      "needs_background": "light"
     },
     "output_type": "display_data"
    },
    {
     "data": {
      "image/png": "[encoded data removed]",
      "text/plain": [
       "<Figure size 432x288 with 2 Axes>"
      ]
     },
     "metadata": {
      "needs_background": "light"
     },
     "output_type": "display_data"
    },
    {
     "data": {
      "image/png": "[encoded data removed]",
      "text/plain": [
       "<Figure size 432x288 with 2 Axes>"
      ]
     },
     "metadata": {
      "needs_background": "light"
     },
     "output_type": "display_data"
    },
    {
     "data": {
      "image/png": "[encoded data removed]",
      "text/plain": [
       "<Figure size 432x288 with 2 Axes>"
      ]
     },
     "metadata": {
      "needs_background": "light"
     },
     "output_type": "display_data"
    },
    {
     "data": {
      "image/png": "[encoded data removed]",
      "text/plain": [
       "<Figure size 432x288 with 2 Axes>"
      ]
     },
     "metadata": {
      "needs_background": "light"
     },
     "output_type": "display_data"
    },
    {
     "data": {
      "image/png": "[encoded data removed]",
      "text/plain": [
       "<Figure size 432x288 with 2 Axes>"
      ]
     },
     "metadata": {
      "needs_background": "light"
     },
     "output_type": "display_data"
    },
    {
     "data": {
      "image/png": "[encoded data removed]",
      "text/plain": [
       "<Figure size 432x288 with 2 Axes>"
      ]
     },
     "metadata": {
      "needs_background": "light"
     },
     "output_type": "display_data"
    },
    {
     "data": {
      "image/png": "[encoded data removed]",
      "text/plain": [
       "<Figure size 432x288 with 2 Axes>"
      ]
     },
     "metadata": {
      "needs_background": "light"
     },
     "output_type": "display_data"
    },
    {
     "data": {
      "image/png": "[encoded data removed]",
      "text/plain": [
       "<Figure size 432x288 with 2 Axes>"
      ]
     },
     "metadata": {
      "needs_background": "light"
     },
     "output_type": "display_data"
    },
    {
     "data": {
      "image/png": "[encoded data removed]",
      "text/plain": [
       "<Figure size 432x288 with 2 Axes>"
      ]
     },
     "metadata": {
      "needs_background": "light"
     },
     "output_type": "display_data"
    },
    {
     "data": {
      "image/png": "[encoded data removed]",
      "text/plain": [
       "<Figure size 432x288 with 2 Axes>"
      ]
     },
     "metadata": {
      "needs_background": "light"
     },
     "output_type": "display_data"
    },
    {
     "data": {
      "image/png": "[encoded data removed]",
      "text/plain": [
       "<Figure size 432x288 with 2 Axes>"
      ]
     },
     "metadata": {
      "needs_background": "light"
     },
     "output_type": "display_data"
    },
    {
     "data": {
      "image/png": "[encoded data removed]",
      "text/plain": [
       "<Figure size 432x288 with 2 Axes>"
      ]
     },
     "metadata": {
      "needs_background": "light"
     },
     "output_type": "display_data"
    },
    {
     "data": {
      "image/png": "[encoded data removed]",
      "text/plain": [
       "<Figure size 432x288 with 2 Axes>"
      ]
     },
     "metadata": {
      "needs_background": "light"
     },
     "output_type": "display_data"
    },
    {
     "data": {
      "image/png": "[encoded data removed]",
      "text/plain": [
       "<Figure size 432x288 with 2 Axes>"
      ]
     },
     "metadata": {
      "needs_background": "light"
     },
     "output_type": "display_data"
    },
    {
     "data": {
      "image/png": "[encoded data removed]",
      "text/plain": [
       "<Figure size 432x288 with 2 Axes>"
      ]
     },
     "metadata": {
      "needs_background": "light"
     },
     "output_type": "display_data"
    },
    {
     "data": {
      "image/png": "[encoded data removed]",
      "text/plain": [
       "<Figure size 432x288 with 2 Axes>"
      ]
     },
     "metadata": {
      "needs_background": "light"
     },
     "output_type": "display_data"
    },
    {
     "data": {
      "image/png": "[encoded data removed]",
      "text/plain": [
       "<Figure size 432x288 with 2 Axes>"
      ]
     },
     "metadata": {
      "needs_background": "light"
     },
     "output_type": "display_data"
    },
    {
     "data": {
      "image/png": "[encoded data removed]",
      "text/plain": [
       "<Figure size 432x288 with 2 Axes>"
      ]
     },
     "metadata": {
      "needs_background": "light"
     },
     "output_type": "display_data"
    },
    {
     "data": {
      "image/png": "[encoded data removed]",
      "text/plain": [
       "<Figure size 432x288 with 2 Axes>"
      ]
     },
     "metadata": {
      "needs_background": "light"
     },
     "output_type": "display_data"
    },
    {
     "data": {
      "image/png": "[encoded data removed]",
      "text/plain": [
       "<Figure size 432x288 with 2 Axes>"
      ]
     },
     "metadata": {
      "needs_background": "light"
     },
     "output_type": "display_data"
    },
    {
     "data": {
      "image/png": "[encoded data removed]",
      "text/plain": [
       "<Figure size 432x288 with 2 Axes>"
      ]
     },
     "metadata": {
      "needs_background": "light"
     },
     "output_type": "display_data"
    },
    {
     "data": {
      "image/png": "[encoded data removed]",
      "text/plain": [
       "<Figure size 432x288 with 2 Axes>"
      ]
     },
     "metadata": {
      "needs_background": "light"
     },
     "output_type": "display_data"
    }
   ],
   "source": [
    "country_list=X['Country'].unique()\n",
    "fig, ax=plt.subplots(1, 2)\n",
    "for idx, each_country in enumerate(country_list): \n",
    "    X[X['Country']==each_country]['ConvertedComp'].hist(ax=ax[idx%2])\n",
    "    ax[idx%2].set_title(each_country)\n",
    "    if (idx%2)!=0:\n",
    "        plt.show()\n",
    "        fig, ax=plt.subplots(1, 2)"
   ]
  },
  {
   "cell_type": "code",
   "execution_count": 129,
   "metadata": {
    "scrolled": true
   },
   "outputs": [
    {
     "data": {
      "text/plain": [
       "<matplotlib.axes._subplots.AxesSubplot at 0x26a9759f1c8>"
      ]
     },
     "execution_count": 129,
     "metadata": {},
     "output_type": "execute_result"
    },
    {
     "data": {
      "image/png": "[encoded data removed]",
      "text/plain": [
       "<Figure size 432x288 with 1 Axes>"
      ]
     },
     "metadata": {
      "needs_background": "light"
     },
     "output_type": "display_data"
    }
   ],
   "source": [
    "X['ConvertedComp'].hist()"
   ]
  },
  {
   "cell_type": "code",
   "execution_count": 130,
   "metadata": {},
   "outputs": [
    {
     "name": "stdout",
     "output_type": "stream",
     "text": [
      "(6293, 30)\n"
     ]
    },
    {
     "data": {
      "text/plain": [
       "['A business discipline (such as accounting, finance, marketing, etc.)',\n",
       " 'A health science (such as nursing, pharmacy, radiology, etc.)',\n",
       " 'A humanities discipline (such as literature, history, philosophy, etc.)',\n",
       " 'A natural science (such as biology, chemistry, physics, etc.)',\n",
       " 'A social science (such as anthropology, psychology, political science, etc.)',\n",
       " 'Age',\n",
       " 'Age1stCode',\n",
       " 'Another engineering discipline (such as civil, electrical, mechanical, etc.)',\n",
       " 'Associate degree (A.A., A.S., etc.)',\n",
       " 'Bachelor’s degree (B.A., B.S., B.Eng., etc.)',\n",
       " 'Computer science, computer engineering, or software engineering',\n",
       " 'Fine arts or performing arts (such as graphic design, music, studio art, etc.)',\n",
       " 'I am a developer by profession',\n",
       " 'I am a student who is learning to code',\n",
       " 'I am not primarily a developer, but I write code sometimes as part of my work',\n",
       " 'I code primarily as a hobby',\n",
       " 'I never completed any formal education',\n",
       " 'I never declared a major',\n",
       " 'I used to be a developer by profession, but no longer am',\n",
       " 'Information systems, information technology, or system administration',\n",
       " 'Master’s degree (M.A., M.S., M.Eng., MBA, etc.)',\n",
       " 'Mathematics or statistics',\n",
       " 'Other doctoral degree (Ph.D., Ed.D., etc.)',\n",
       " 'Primary/elementary school',\n",
       " 'Professional degree (JD, MD, etc.)',\n",
       " 'Secondary school (e.g. American high school, German Realschule or Gymnasium, etc.)',\n",
       " 'Some college/university study without earning a degree',\n",
       " 'Web development or web design',\n",
       " 'YearsCode',\n",
       " 'YearsCodePro']"
      ]
     },
     "execution_count": 130,
     "metadata": {},
     "output_type": "execute_result"
    }
   ],
   "source": [
    "input_ary=X.dropna().drop('ConvertedComp', axis=1)\n",
    "y=X.dropna()['ConvertedComp']\n",
    "print(input_ary.shape)\n",
    "sorted(input_ary.columns)"
   ]
  },
  {
   "cell_type": "code",
   "execution_count": 131,
   "metadata": {},
   "outputs": [
    {
     "name": "stdout",
     "output_type": "stream",
     "text": [
      "Train Score: 0.7922490838934325\n",
      "Test Score: -0.024573197475762813\n"
     ]
    },
    {
     "name": "stderr",
     "output_type": "stream",
     "text": [
      "C:\\ProgramData\\Anaconda3\\lib\\site-packages\\sklearn\\ensemble\\forest.py:245: FutureWarning: The default value of n_estimators will change from 10 in version 0.20 to 100 in 0.22.\n",
      "  \"10 in version 0.20 to 100 in 0.22.\", FutureWarning)\n"
     ]
    }
   ],
   "source": [
    "from sklearn.ensemble import RandomForestRegressor\n",
    "from sklearn.model_selection import train_test_split\n",
    "\n",
    "X_train, X_test, y_train, y_test=train_test_split(input_ary, y)\n",
    "rfr=RandomForestRegressor()\n",
    "rfr.fit(X_train, y_train)\n",
    "print(f'Train Score: {rfr.score(X_train, y_train)}')\n",
    "print(f'Test Score: {rfr.score(X_test, y_test)}')"
   ]
  },
  {
   "cell_type": "code",
   "execution_count": 115,
   "metadata": {},
   "outputs": [
    {
     "data": {
      "text/plain": [
       "[(0.26823044697936904, 'YearsCodePro'),\n",
       " (0.1880356905532578, 'Age'),\n",
       " (0.1623589721399133, 'YearsCode'),\n",
       " (0.16230589666771578, 'Age1stCode'),\n",
       " (0.02714877387852017,\n",
       "  'Computer science, computer engineering, or software engineering'),\n",
       " (0.021127921813154822, 'Bachelor’s degree (B.A., B.S., B.Eng., etc.)'),\n",
       " (0.017816053426100657, 'Master’s degree (M.A., M.S., M.Eng., MBA, etc.)'),\n",
       " (0.017667518650274876,\n",
       "  'Some college/university study without earning a degree'),\n",
       " (0.014495654862819545, 'Other doctoral degree (Ph.D., Ed.D., etc.)'),\n",
       " (0.013236236452631635, 'I am a developer by profession'),\n",
       " (0.01255037007938115,\n",
       "  'I am not primarily a developer, but I write code sometimes as part of my work'),\n",
       " (0.011079505728092753,\n",
       "  'Another engineering discipline (such as civil, electrical, mechanical, etc.)'),\n",
       " (0.009201614955618938, 'Mathematics or statistics'),\n",
       " (0.009166951577667712,\n",
       "  'Information systems, information technology, or system administration'),\n",
       " (0.009036198232959808,\n",
       "  'A natural science (such as biology, chemistry, physics, etc.)'),\n",
       " (0.008997919988549302,\n",
       "  'A humanities discipline (such as literature, history, philosophy, etc.)'),\n",
       " (0.007666695870935309,\n",
       "  'A social science (such as anthropology, psychology, political science, etc.)'),\n",
       " (0.007587660426997144, 'Associate degree (A.A., A.S., etc.)'),\n",
       " (0.006402531107845876,\n",
       "  'A business discipline (such as accounting, finance, marketing, etc.)'),\n",
       " (0.005895223917611118, 'Web development or web design'),\n",
       " (0.005857532994719139,\n",
       "  'Fine arts or performing arts (such as graphic design, music, studio art, etc.)'),\n",
       " (0.004339081057336509, 'Professional degree (JD, MD, etc.)'),\n",
       " (0.003761214774394108, 'I never declared a major'),\n",
       " (0.0023892041523317594,\n",
       "  'Secondary school (e.g. American high school, German Realschule or Gymnasium, etc.)'),\n",
       " (0.0020012274720880513,\n",
       "  'A health science (such as nursing, pharmacy, radiology, etc.)'),\n",
       " (0.0013510173781592207, 'I never completed any formal education'),\n",
       " (0.00029288486155452795, 'Primary/elementary school'),\n",
       " (0.0, 'Zimbabwe'),\n",
       " (0.0, 'Zambia'),\n",
       " (0.0, 'Yemen'),\n",
       " (0.0, 'Viet Nam'),\n",
       " (0.0, 'Venezuela, Bolivarian Republic of...'),\n",
       " (0.0, 'Uzbekistan'),\n",
       " (0.0, 'Uruguay'),\n",
       " (0.0, 'United States'),\n",
       " (0.0, 'United Republic of Tanzania'),\n",
       " (0.0, 'United Kingdom'),\n",
       " (0.0, 'United Arab Emirates'),\n",
       " (0.0, 'Ukraine'),\n",
       " (0.0, 'Uganda'),\n",
       " (0.0, 'Turkmenistan'),\n",
       " (0.0, 'Turkey'),\n",
       " (0.0, 'Tunisia'),\n",
       " (0.0, 'Trinidad and Tobago'),\n",
       " (0.0, 'Togo'),\n",
       " (0.0, 'Timor-Leste'),\n",
       " (0.0, 'The former Yugoslav Republic of Macedonia'),\n",
       " (0.0, 'Thailand'),\n",
       " (0.0, 'Tajikistan'),\n",
       " (0.0, 'Taiwan'),\n",
       " (0.0, 'Syrian Arab Republic'),\n",
       " (0.0, 'Switzerland'),\n",
       " (0.0, 'Sweden'),\n",
       " (0.0, 'Swaziland'),\n",
       " (0.0, 'Sudan'),\n",
       " (0.0, 'Sri Lanka'),\n",
       " (0.0, 'Spain'),\n",
       " (0.0, 'South Korea'),\n",
       " (0.0, 'South Africa'),\n",
       " (0.0, 'Somalia'),\n",
       " (0.0, 'Solomon Islands'),\n",
       " (0.0, 'Slovenia'),\n",
       " (0.0, 'Slovakia'),\n",
       " (0.0, 'Singapore'),\n",
       " (0.0, 'Sierra Leone'),\n",
       " (0.0, 'Serbia'),\n",
       " (0.0, 'Senegal'),\n",
       " (0.0, 'Saudi Arabia'),\n",
       " (0.0, 'San Marino'),\n",
       " (0.0, 'Saint Vincent and the Grenadines'),\n",
       " (0.0, 'Saint Lucia'),\n",
       " (0.0, 'Rwanda'),\n",
       " (0.0, 'Russian Federation'),\n",
       " (0.0, 'Romania'),\n",
       " (0.0, 'Republic of Moldova'),\n",
       " (0.0, 'Republic of Korea'),\n",
       " (0.0, 'Qatar'),\n",
       " (0.0, 'Portugal'),\n",
       " (0.0, 'Poland'),\n",
       " (0.0, 'Philippines'),\n",
       " (0.0, 'Peru'),\n",
       " (0.0, 'Paraguay'),\n",
       " (0.0, 'Papua New Guinea'),\n",
       " (0.0, 'Panama'),\n",
       " (0.0, 'Pakistan'),\n",
       " (0.0, 'Oman'),\n",
       " (0.0, 'Norway'),\n",
       " (0.0, 'North Korea'),\n",
       " (0.0, 'Nomadic'),\n",
       " (0.0, 'Nigeria'),\n",
       " (0.0, 'Niger'),\n",
       " (0.0, 'Nicaragua'),\n",
       " (0.0, 'New Zealand'),\n",
       " (0.0, 'Netherlands'),\n",
       " (0.0, 'Nepal'),\n",
       " (0.0, 'Nauru'),\n",
       " (0.0, 'Namibia'),\n",
       " (0.0, 'Myanmar'),\n",
       " (0.0, 'Mozambique'),\n",
       " (0.0, 'Morocco'),\n",
       " (0.0, 'Montenegro'),\n",
       " (0.0, 'Mongolia'),\n",
       " (0.0, 'Monaco'),\n",
       " (0.0, 'Micronesia, Federated States of...'),\n",
       " (0.0, 'Mexico'),\n",
       " (0.0, 'Mauritius'),\n",
       " (0.0, 'Mauritania'),\n",
       " (0.0, 'Marshall Islands'),\n",
       " (0.0, 'Malta'),\n",
       " (0.0, 'Mali'),\n",
       " (0.0, 'Maldives'),\n",
       " (0.0, 'Malaysia'),\n",
       " (0.0, 'Malawi'),\n",
       " (0.0, 'Madagascar'),\n",
       " (0.0, 'Luxembourg'),\n",
       " (0.0, 'Lithuania'),\n",
       " (0.0, 'Liechtenstein'),\n",
       " (0.0, 'Libyan Arab Jamahiriya'),\n",
       " (0.0, 'Lesotho'),\n",
       " (0.0, 'Lebanon'),\n",
       " (0.0, 'Latvia'),\n",
       " (0.0, \"Lao People's Democratic Republic\"),\n",
       " (0.0, 'Kyrgyzstan'),\n",
       " (0.0, 'Kuwait'),\n",
       " (0.0, 'Kosovo'),\n",
       " (0.0, 'Kiribati'),\n",
       " (0.0, 'Kenya'),\n",
       " (0.0, 'Kazakhstan'),\n",
       " (0.0, 'Jordan'),\n",
       " (0.0, 'Japan'),\n",
       " (0.0, 'Jamaica'),\n",
       " (0.0, 'Italy'),\n",
       " (0.0, 'Israel'),\n",
       " (0.0, 'Isle of Man'),\n",
       " (0.0, 'Ireland'),\n",
       " (0.0, 'Iraq'),\n",
       " (0.0, 'Iran'),\n",
       " (0.0, 'Indonesia'),\n",
       " (0.0, 'India'),\n",
       " (0.0, 'Iceland'),\n",
       " (0.0, 'I used to be a developer by profession, but no longer am'),\n",
       " (0.0, 'I code primarily as a hobby'),\n",
       " (0.0, 'I am a student who is learning to code'),\n",
       " (0.0, 'Hungary'),\n",
       " (0.0, 'Hong Kong (S.A.R.)'),\n",
       " (0.0, 'Honduras'),\n",
       " (0.0, 'Haiti'),\n",
       " (0.0, 'Guyana'),\n",
       " (0.0, 'Guinea'),\n",
       " (0.0, 'Guatemala'),\n",
       " (0.0, 'Grenada'),\n",
       " (0.0, 'Greece'),\n",
       " (0.0, 'Ghana'),\n",
       " (0.0, 'Germany'),\n",
       " (0.0, 'Georgia'),\n",
       " (0.0, 'Gambia'),\n",
       " (0.0, 'Gabon'),\n",
       " (0.0, 'France'),\n",
       " (0.0, 'Finland'),\n",
       " (0.0, 'Fiji'),\n",
       " (0.0, 'Ethiopia'),\n",
       " (0.0, 'Estonia'),\n",
       " (0.0, 'Eritrea'),\n",
       " (0.0, 'El Salvador'),\n",
       " (0.0, 'Egypt'),\n",
       " (0.0, 'Ecuador'),\n",
       " (0.0, 'Dominican Republic'),\n",
       " (0.0, 'Djibouti'),\n",
       " (0.0, 'Denmark'),\n",
       " (0.0, 'Democratic Republic of the Congo'),\n",
       " (0.0, \"Côte d'Ivoire\"),\n",
       " (0.0, 'Czech Republic'),\n",
       " (0.0, 'Cyprus'),\n",
       " (0.0, 'Cuba'),\n",
       " (0.0, 'Croatia'),\n",
       " (0.0, 'Costa Rica'),\n",
       " (0.0, 'Congo, Republic of the...'),\n",
       " (0.0, 'Colombia'),\n",
       " (0.0, 'China'),\n",
       " (0.0, 'Chile'),\n",
       " (0.0, 'Chad'),\n",
       " (0.0, 'Cape Verde'),\n",
       " (0.0, 'Canada'),\n",
       " (0.0, 'Cameroon'),\n",
       " (0.0, 'Cambodia'),\n",
       " (0.0, 'Burundi'),\n",
       " (0.0, 'Burkina Faso'),\n",
       " (0.0, 'Bulgaria'),\n",
       " (0.0, 'Brunei Darussalam'),\n",
       " (0.0, 'Brazil'),\n",
       " (0.0, 'Botswana'),\n",
       " (0.0, 'Bosnia and Herzegovina'),\n",
       " (0.0, 'Bolivia'),\n",
       " (0.0, 'Bhutan'),\n",
       " (0.0, 'Benin'),\n",
       " (0.0, 'Belize'),\n",
       " (0.0, 'Belgium'),\n",
       " (0.0, 'Belarus'),\n",
       " (0.0, 'Barbados'),\n",
       " (0.0, 'Bangladesh'),\n",
       " (0.0, 'Bahrain'),\n",
       " (0.0, 'Bahamas'),\n",
       " (0.0, 'Azerbaijan'),\n",
       " (0.0, 'Austria'),\n",
       " (0.0, 'Australia'),\n",
       " (0.0, 'Armenia'),\n",
       " (0.0, 'Argentina'),\n",
       " (0.0, 'Antigua and Barbuda'),\n",
       " (0.0, 'Angola'),\n",
       " (0.0, 'Andorra'),\n",
       " (0.0, 'Algeria'),\n",
       " (0.0, 'Albania'),\n",
       " (0.0, 'Afghanistan')]"
      ]
     },
     "execution_count": 115,
     "metadata": {},
     "output_type": "execute_result"
    }
   ],
   "source": [
    "sorted(list(zip(rfr.feature_importances_, input_ary.columns)), reverse=True)"
   ]
  },
  {
   "cell_type": "code",
   "execution_count": 116,
   "metadata": {},
   "outputs": [
    {
     "data": {
      "text/plain": [
       "<matplotlib.axes._subplots.AxesSubplot at 0x26a9732d848>"
      ]
     },
     "execution_count": 116,
     "metadata": {},
     "output_type": "execute_result"
    },
    {
     "data": {
      "image/png": "[encoded data removed]",
      "text/plain": [
       "<Figure size 432x288 with 1 Axes>"
      ]
     },
     "metadata": {
      "needs_background": "light"
     },
     "output_type": "display_data"
    }
   ],
   "source": [
    "y_test.hist()"
   ]
  },
  {
   "cell_type": "code",
   "execution_count": 117,
   "metadata": {},
   "outputs": [
    {
     "data": {
      "text/plain": [
       "<matplotlib.axes._subplots.AxesSubplot at 0x26a972fa9c8>"
      ]
     },
     "execution_count": 117,
     "metadata": {},
     "output_type": "execute_result"
    },
    {
     "data": {
      "image/png": "[encoded data removed]",
      "text/plain": [
       "<Figure size 432x288 with 1 Axes>"
      ]
     },
     "metadata": {
      "needs_background": "light"
     },
     "output_type": "display_data"
    }
   ],
   "source": [
    "y_train.hist()"
   ]
  },
  {
   "cell_type": "code",
   "execution_count": 118,
   "metadata": {},
   "outputs": [
    {
     "name": "stdout",
     "output_type": "stream",
     "text": [
      "Sample 1895: Predicted [147200.] vs. Actual 115000.0\n"
     ]
    }
   ],
   "source": [
    "sample=random.randint(0, len(input_ary))\n",
    "print(f'Sample {sample}: Predicted {rfr.predict([input_ary.iloc[sample]])} vs. Actual {y.iloc[sample]}')"
   ]
  },
  {
   "cell_type": "markdown",
   "metadata": {},
   "source": [
    "# Linear Regression"
   ]
  },
  {
   "cell_type": "code",
   "execution_count": 119,
   "metadata": {},
   "outputs": [
    {
     "ename": "LinAlgError",
     "evalue": "SVD did not converge in Linear Least Squares",
     "output_type": "error",
     "traceback": [
      "\u001b[1;31m---------------------------------------------------------------------------\u001b[0m",
      "\u001b[1;31mLinAlgError\u001b[0m                               Traceback (most recent call last)",
      "\u001b[1;32m<ipython-input-119-cdf511e18d86>\u001b[0m in \u001b[0;36m<module>\u001b[1;34m\u001b[0m\n\u001b[0;32m     10\u001b[0m \u001b[1;31m# lr.fit(X_train, y_train)\u001b[0m\u001b[1;33m\u001b[0m\u001b[1;33m\u001b[0m\u001b[1;33m\u001b[0m\u001b[0m\n\u001b[0;32m     11\u001b[0m \u001b[1;31m# lr.score(X_test, y_test)\u001b[0m\u001b[1;33m\u001b[0m\u001b[1;33m\u001b[0m\u001b[1;33m\u001b[0m\u001b[0m\n\u001b[1;32m---> 12\u001b[1;33m \u001b[0mlr\u001b[0m\u001b[1;33m.\u001b[0m\u001b[0mfit\u001b[0m\u001b[1;33m(\u001b[0m\u001b[0minput_ary\u001b[0m\u001b[1;33m,\u001b[0m \u001b[0my\u001b[0m\u001b[1;33m)\u001b[0m\u001b[1;33m\u001b[0m\u001b[1;33m\u001b[0m\u001b[0m\n\u001b[0m\u001b[0;32m     13\u001b[0m \u001b[0mlr\u001b[0m\u001b[1;33m.\u001b[0m\u001b[0mscore\u001b[0m\u001b[1;33m(\u001b[0m\u001b[0minput_ary\u001b[0m\u001b[1;33m,\u001b[0m \u001b[0my\u001b[0m\u001b[1;33m)\u001b[0m\u001b[1;33m\u001b[0m\u001b[1;33m\u001b[0m\u001b[0m\n",
      "\u001b[1;32mC:\\ProgramData\\Anaconda3\\lib\\site-packages\\sklearn\\linear_model\\base.py\u001b[0m in \u001b[0;36mfit\u001b[1;34m(self, X, y, sample_weight)\u001b[0m\n\u001b[0;32m    501\u001b[0m         \u001b[1;32melse\u001b[0m\u001b[1;33m:\u001b[0m\u001b[1;33m\u001b[0m\u001b[1;33m\u001b[0m\u001b[0m\n\u001b[0;32m    502\u001b[0m             \u001b[0mself\u001b[0m\u001b[1;33m.\u001b[0m\u001b[0mcoef_\u001b[0m\u001b[1;33m,\u001b[0m \u001b[0mself\u001b[0m\u001b[1;33m.\u001b[0m\u001b[0m_residues\u001b[0m\u001b[1;33m,\u001b[0m \u001b[0mself\u001b[0m\u001b[1;33m.\u001b[0m\u001b[0mrank_\u001b[0m\u001b[1;33m,\u001b[0m \u001b[0mself\u001b[0m\u001b[1;33m.\u001b[0m\u001b[0msingular_\u001b[0m \u001b[1;33m=\u001b[0m\u001b[0;31m \u001b[0m\u001b[0;31m\\\u001b[0m\u001b[1;33m\u001b[0m\u001b[1;33m\u001b[0m\u001b[0m\n\u001b[1;32m--> 503\u001b[1;33m                 \u001b[0mlinalg\u001b[0m\u001b[1;33m.\u001b[0m\u001b[0mlstsq\u001b[0m\u001b[1;33m(\u001b[0m\u001b[0mX\u001b[0m\u001b[1;33m,\u001b[0m \u001b[0my\u001b[0m\u001b[1;33m)\u001b[0m\u001b[1;33m\u001b[0m\u001b[1;33m\u001b[0m\u001b[0m\n\u001b[0m\u001b[0;32m    504\u001b[0m             \u001b[0mself\u001b[0m\u001b[1;33m.\u001b[0m\u001b[0mcoef_\u001b[0m \u001b[1;33m=\u001b[0m \u001b[0mself\u001b[0m\u001b[1;33m.\u001b[0m\u001b[0mcoef_\u001b[0m\u001b[1;33m.\u001b[0m\u001b[0mT\u001b[0m\u001b[1;33m\u001b[0m\u001b[1;33m\u001b[0m\u001b[0m\n\u001b[0;32m    505\u001b[0m \u001b[1;33m\u001b[0m\u001b[0m\n",
      "\u001b[1;32m~\\AppData\\Roaming\\Python\\Python37\\site-packages\\scipy\\linalg\\basic.py\u001b[0m in \u001b[0;36mlstsq\u001b[1;34m(a, b, cond, overwrite_a, overwrite_b, check_finite, lapack_driver)\u001b[0m\n\u001b[0;32m   1221\u001b[0m                                                cond, False, False)\n\u001b[0;32m   1222\u001b[0m         \u001b[1;32mif\u001b[0m \u001b[0minfo\u001b[0m \u001b[1;33m>\u001b[0m \u001b[1;36m0\u001b[0m\u001b[1;33m:\u001b[0m\u001b[1;33m\u001b[0m\u001b[1;33m\u001b[0m\u001b[0m\n\u001b[1;32m-> 1223\u001b[1;33m             \u001b[1;32mraise\u001b[0m \u001b[0mLinAlgError\u001b[0m\u001b[1;33m(\u001b[0m\u001b[1;34m\"SVD did not converge in Linear Least Squares\"\u001b[0m\u001b[1;33m)\u001b[0m\u001b[1;33m\u001b[0m\u001b[1;33m\u001b[0m\u001b[0m\n\u001b[0m\u001b[0;32m   1224\u001b[0m         \u001b[1;32mif\u001b[0m \u001b[0minfo\u001b[0m \u001b[1;33m<\u001b[0m \u001b[1;36m0\u001b[0m\u001b[1;33m:\u001b[0m\u001b[1;33m\u001b[0m\u001b[1;33m\u001b[0m\u001b[0m\n\u001b[0;32m   1225\u001b[0m             raise ValueError('illegal value in %d-th argument of internal %s'\n",
      "\u001b[1;31mLinAlgError\u001b[0m: SVD did not converge in Linear Least Squares"
     ]
    }
   ],
   "source": [
    "from sklearn.linear_model import LinearRegression\n",
    "from sklearn.preprocessing import StandardScaler\n",
    "\n",
    "# scaler=StandardScaler()\n",
    "# scaler.fit(X_train)\n",
    "# X_train=scaler.transform(X_train)\n",
    "# X_test=scaler.transform(X_test)\n",
    "\n",
    "lr=LinearRegression()\n",
    "# lr.fit(X_train, y_train)\n",
    "# lr.score(X_test, y_test)\n",
    "lr.fit(input_ary, y)\n",
    "lr.score(input_ary, y)"
   ]
  },
  {
   "cell_type": "code",
   "execution_count": 120,
   "metadata": {},
   "outputs": [
    {
     "data": {
      "text/html": [
       "<div>\n",
       "<style scoped>\n",
       "    .dataframe tbody tr th:only-of-type {\n",
       "        vertical-align: middle;\n",
       "    }\n",
       "\n",
       "    .dataframe tbody tr th {\n",
       "        vertical-align: top;\n",
       "    }\n",
       "\n",
       "    .dataframe thead th {\n",
       "        text-align: right;\n",
       "    }\n",
       "</style>\n",
       "<table border=\"1\" class=\"dataframe\">\n",
       "  <thead>\n",
       "    <tr style=\"text-align: right;\">\n",
       "      <th></th>\n",
       "      <th>Age</th>\n",
       "      <th>Age1stCode</th>\n",
       "      <th>YearsCode</th>\n",
       "      <th>YearsCodePro</th>\n",
       "      <th>I am a developer by profession</th>\n",
       "      <th>I am a student who is learning to code</th>\n",
       "      <th>I am not primarily a developer, but I write code sometimes as part of my work</th>\n",
       "      <th>I code primarily as a hobby</th>\n",
       "      <th>I used to be a developer by profession, but no longer am</th>\n",
       "      <th>Associate degree (A.A., A.S., etc.)</th>\n",
       "      <th>...</th>\n",
       "      <th>United Republic of Tanzania</th>\n",
       "      <th>United States</th>\n",
       "      <th>Uruguay</th>\n",
       "      <th>Uzbekistan</th>\n",
       "      <th>Venezuela, Bolivarian Republic of...</th>\n",
       "      <th>Viet Nam</th>\n",
       "      <th>Yemen</th>\n",
       "      <th>Zambia</th>\n",
       "      <th>Zimbabwe</th>\n",
       "      <th>ConvertedComp</th>\n",
       "    </tr>\n",
       "  </thead>\n",
       "  <tbody>\n",
       "    <tr>\n",
       "      <td>Age</td>\n",
       "      <td>1.000000</td>\n",
       "      <td>0.024958</td>\n",
       "      <td>0.804631</td>\n",
       "      <td>0.848196</td>\n",
       "      <td>-0.087827</td>\n",
       "      <td>NaN</td>\n",
       "      <td>0.087827</td>\n",
       "      <td>NaN</td>\n",
       "      <td>NaN</td>\n",
       "      <td>0.022553</td>\n",
       "      <td>...</td>\n",
       "      <td>NaN</td>\n",
       "      <td>NaN</td>\n",
       "      <td>NaN</td>\n",
       "      <td>NaN</td>\n",
       "      <td>NaN</td>\n",
       "      <td>NaN</td>\n",
       "      <td>NaN</td>\n",
       "      <td>NaN</td>\n",
       "      <td>NaN</td>\n",
       "      <td>0.238432</td>\n",
       "    </tr>\n",
       "    <tr>\n",
       "      <td>Age1stCode</td>\n",
       "      <td>0.024958</td>\n",
       "      <td>1.000000</td>\n",
       "      <td>-0.339182</td>\n",
       "      <td>-0.165010</td>\n",
       "      <td>-0.015597</td>\n",
       "      <td>NaN</td>\n",
       "      <td>0.015597</td>\n",
       "      <td>NaN</td>\n",
       "      <td>NaN</td>\n",
       "      <td>0.026562</td>\n",
       "      <td>...</td>\n",
       "      <td>NaN</td>\n",
       "      <td>NaN</td>\n",
       "      <td>NaN</td>\n",
       "      <td>NaN</td>\n",
       "      <td>NaN</td>\n",
       "      <td>NaN</td>\n",
       "      <td>NaN</td>\n",
       "      <td>NaN</td>\n",
       "      <td>NaN</td>\n",
       "      <td>-0.155800</td>\n",
       "    </tr>\n",
       "    <tr>\n",
       "      <td>YearsCode</td>\n",
       "      <td>0.804631</td>\n",
       "      <td>-0.339182</td>\n",
       "      <td>1.000000</td>\n",
       "      <td>0.889315</td>\n",
       "      <td>-0.034693</td>\n",
       "      <td>NaN</td>\n",
       "      <td>0.034693</td>\n",
       "      <td>NaN</td>\n",
       "      <td>NaN</td>\n",
       "      <td>-0.005927</td>\n",
       "      <td>...</td>\n",
       "      <td>NaN</td>\n",
       "      <td>NaN</td>\n",
       "      <td>NaN</td>\n",
       "      <td>NaN</td>\n",
       "      <td>NaN</td>\n",
       "      <td>NaN</td>\n",
       "      <td>NaN</td>\n",
       "      <td>NaN</td>\n",
       "      <td>NaN</td>\n",
       "      <td>0.310869</td>\n",
       "    </tr>\n",
       "    <tr>\n",
       "      <td>YearsCodePro</td>\n",
       "      <td>0.848196</td>\n",
       "      <td>-0.165010</td>\n",
       "      <td>0.889315</td>\n",
       "      <td>1.000000</td>\n",
       "      <td>-0.000252</td>\n",
       "      <td>NaN</td>\n",
       "      <td>0.000252</td>\n",
       "      <td>NaN</td>\n",
       "      <td>NaN</td>\n",
       "      <td>0.003058</td>\n",
       "      <td>...</td>\n",
       "      <td>NaN</td>\n",
       "      <td>NaN</td>\n",
       "      <td>NaN</td>\n",
       "      <td>NaN</td>\n",
       "      <td>NaN</td>\n",
       "      <td>NaN</td>\n",
       "      <td>NaN</td>\n",
       "      <td>NaN</td>\n",
       "      <td>NaN</td>\n",
       "      <td>0.318865</td>\n",
       "    </tr>\n",
       "    <tr>\n",
       "      <td>I am a developer by profession</td>\n",
       "      <td>-0.087827</td>\n",
       "      <td>-0.015597</td>\n",
       "      <td>-0.034693</td>\n",
       "      <td>-0.000252</td>\n",
       "      <td>1.000000</td>\n",
       "      <td>NaN</td>\n",
       "      <td>-1.000000</td>\n",
       "      <td>NaN</td>\n",
       "      <td>NaN</td>\n",
       "      <td>0.001171</td>\n",
       "      <td>...</td>\n",
       "      <td>NaN</td>\n",
       "      <td>NaN</td>\n",
       "      <td>NaN</td>\n",
       "      <td>NaN</td>\n",
       "      <td>NaN</td>\n",
       "      <td>NaN</td>\n",
       "      <td>NaN</td>\n",
       "      <td>NaN</td>\n",
       "      <td>NaN</td>\n",
       "      <td>0.027845</td>\n",
       "    </tr>\n",
       "    <tr>\n",
       "      <td>...</td>\n",
       "      <td>...</td>\n",
       "      <td>...</td>\n",
       "      <td>...</td>\n",
       "      <td>...</td>\n",
       "      <td>...</td>\n",
       "      <td>...</td>\n",
       "      <td>...</td>\n",
       "      <td>...</td>\n",
       "      <td>...</td>\n",
       "      <td>...</td>\n",
       "      <td>...</td>\n",
       "      <td>...</td>\n",
       "      <td>...</td>\n",
       "      <td>...</td>\n",
       "      <td>...</td>\n",
       "      <td>...</td>\n",
       "      <td>...</td>\n",
       "      <td>...</td>\n",
       "      <td>...</td>\n",
       "      <td>...</td>\n",
       "      <td>...</td>\n",
       "    </tr>\n",
       "    <tr>\n",
       "      <td>Viet Nam</td>\n",
       "      <td>NaN</td>\n",
       "      <td>NaN</td>\n",
       "      <td>NaN</td>\n",
       "      <td>NaN</td>\n",
       "      <td>NaN</td>\n",
       "      <td>NaN</td>\n",
       "      <td>NaN</td>\n",
       "      <td>NaN</td>\n",
       "      <td>NaN</td>\n",
       "      <td>NaN</td>\n",
       "      <td>...</td>\n",
       "      <td>NaN</td>\n",
       "      <td>NaN</td>\n",
       "      <td>NaN</td>\n",
       "      <td>NaN</td>\n",
       "      <td>NaN</td>\n",
       "      <td>NaN</td>\n",
       "      <td>NaN</td>\n",
       "      <td>NaN</td>\n",
       "      <td>NaN</td>\n",
       "      <td>NaN</td>\n",
       "    </tr>\n",
       "    <tr>\n",
       "      <td>Yemen</td>\n",
       "      <td>NaN</td>\n",
       "      <td>NaN</td>\n",
       "      <td>NaN</td>\n",
       "      <td>NaN</td>\n",
       "      <td>NaN</td>\n",
       "      <td>NaN</td>\n",
       "      <td>NaN</td>\n",
       "      <td>NaN</td>\n",
       "      <td>NaN</td>\n",
       "      <td>NaN</td>\n",
       "      <td>...</td>\n",
       "      <td>NaN</td>\n",
       "      <td>NaN</td>\n",
       "      <td>NaN</td>\n",
       "      <td>NaN</td>\n",
       "      <td>NaN</td>\n",
       "      <td>NaN</td>\n",
       "      <td>NaN</td>\n",
       "      <td>NaN</td>\n",
       "      <td>NaN</td>\n",
       "      <td>NaN</td>\n",
       "    </tr>\n",
       "    <tr>\n",
       "      <td>Zambia</td>\n",
       "      <td>NaN</td>\n",
       "      <td>NaN</td>\n",
       "      <td>NaN</td>\n",
       "      <td>NaN</td>\n",
       "      <td>NaN</td>\n",
       "      <td>NaN</td>\n",
       "      <td>NaN</td>\n",
       "      <td>NaN</td>\n",
       "      <td>NaN</td>\n",
       "      <td>NaN</td>\n",
       "      <td>...</td>\n",
       "      <td>NaN</td>\n",
       "      <td>NaN</td>\n",
       "      <td>NaN</td>\n",
       "      <td>NaN</td>\n",
       "      <td>NaN</td>\n",
       "      <td>NaN</td>\n",
       "      <td>NaN</td>\n",
       "      <td>NaN</td>\n",
       "      <td>NaN</td>\n",
       "      <td>NaN</td>\n",
       "    </tr>\n",
       "    <tr>\n",
       "      <td>Zimbabwe</td>\n",
       "      <td>NaN</td>\n",
       "      <td>NaN</td>\n",
       "      <td>NaN</td>\n",
       "      <td>NaN</td>\n",
       "      <td>NaN</td>\n",
       "      <td>NaN</td>\n",
       "      <td>NaN</td>\n",
       "      <td>NaN</td>\n",
       "      <td>NaN</td>\n",
       "      <td>NaN</td>\n",
       "      <td>...</td>\n",
       "      <td>NaN</td>\n",
       "      <td>NaN</td>\n",
       "      <td>NaN</td>\n",
       "      <td>NaN</td>\n",
       "      <td>NaN</td>\n",
       "      <td>NaN</td>\n",
       "      <td>NaN</td>\n",
       "      <td>NaN</td>\n",
       "      <td>NaN</td>\n",
       "      <td>NaN</td>\n",
       "    </tr>\n",
       "    <tr>\n",
       "      <td>ConvertedComp</td>\n",
       "      <td>0.238432</td>\n",
       "      <td>-0.155800</td>\n",
       "      <td>0.310869</td>\n",
       "      <td>0.318865</td>\n",
       "      <td>0.027845</td>\n",
       "      <td>NaN</td>\n",
       "      <td>-0.027845</td>\n",
       "      <td>NaN</td>\n",
       "      <td>NaN</td>\n",
       "      <td>-0.083763</td>\n",
       "      <td>...</td>\n",
       "      <td>NaN</td>\n",
       "      <td>NaN</td>\n",
       "      <td>NaN</td>\n",
       "      <td>NaN</td>\n",
       "      <td>NaN</td>\n",
       "      <td>NaN</td>\n",
       "      <td>NaN</td>\n",
       "      <td>NaN</td>\n",
       "      <td>NaN</td>\n",
       "      <td>1.000000</td>\n",
       "    </tr>\n",
       "  </tbody>\n",
       "</table>\n",
       "<p>214 rows × 214 columns</p>\n",
       "</div>"
      ],
      "text/plain": [
       "                                     Age  Age1stCode  YearsCode  YearsCodePro  \\\n",
       "Age                             1.000000    0.024958   0.804631      0.848196   \n",
       "Age1stCode                      0.024958    1.000000  -0.339182     -0.165010   \n",
       "YearsCode                       0.804631   -0.339182   1.000000      0.889315   \n",
       "YearsCodePro                    0.848196   -0.165010   0.889315      1.000000   \n",
       "I am a developer by profession -0.087827   -0.015597  -0.034693     -0.000252   \n",
       "...                                  ...         ...        ...           ...   \n",
       "Viet Nam                             NaN         NaN        NaN           NaN   \n",
       "Yemen                                NaN         NaN        NaN           NaN   \n",
       "Zambia                               NaN         NaN        NaN           NaN   \n",
       "Zimbabwe                             NaN         NaN        NaN           NaN   \n",
       "ConvertedComp                   0.238432   -0.155800   0.310869      0.318865   \n",
       "\n",
       "                                I am a developer by profession  \\\n",
       "Age                                                  -0.087827   \n",
       "Age1stCode                                           -0.015597   \n",
       "YearsCode                                            -0.034693   \n",
       "YearsCodePro                                         -0.000252   \n",
       "I am a developer by profession                        1.000000   \n",
       "...                                                        ...   \n",
       "Viet Nam                                                   NaN   \n",
       "Yemen                                                      NaN   \n",
       "Zambia                                                     NaN   \n",
       "Zimbabwe                                                   NaN   \n",
       "ConvertedComp                                         0.027845   \n",
       "\n",
       "                                I am a student who is learning to code  \\\n",
       "Age                                                                NaN   \n",
       "Age1stCode                                                         NaN   \n",
       "YearsCode                                                          NaN   \n",
       "YearsCodePro                                                       NaN   \n",
       "I am a developer by profession                                     NaN   \n",
       "...                                                                ...   \n",
       "Viet Nam                                                           NaN   \n",
       "Yemen                                                              NaN   \n",
       "Zambia                                                             NaN   \n",
       "Zimbabwe                                                           NaN   \n",
       "ConvertedComp                                                      NaN   \n",
       "\n",
       "                                I am not primarily a developer, but I write code sometimes as part of my work  \\\n",
       "Age                                                                      0.087827                               \n",
       "Age1stCode                                                               0.015597                               \n",
       "YearsCode                                                                0.034693                               \n",
       "YearsCodePro                                                             0.000252                               \n",
       "I am a developer by profession                                          -1.000000                               \n",
       "...                                                                           ...                               \n",
       "Viet Nam                                                                      NaN                               \n",
       "Yemen                                                                         NaN                               \n",
       "Zambia                                                                        NaN                               \n",
       "Zimbabwe                                                                      NaN                               \n",
       "ConvertedComp                                                           -0.027845                               \n",
       "\n",
       "                                I code primarily as a hobby  \\\n",
       "Age                                                     NaN   \n",
       "Age1stCode                                              NaN   \n",
       "YearsCode                                               NaN   \n",
       "YearsCodePro                                            NaN   \n",
       "I am a developer by profession                          NaN   \n",
       "...                                                     ...   \n",
       "Viet Nam                                                NaN   \n",
       "Yemen                                                   NaN   \n",
       "Zambia                                                  NaN   \n",
       "Zimbabwe                                                NaN   \n",
       "ConvertedComp                                           NaN   \n",
       "\n",
       "                                I used to be a developer by profession, but no longer am  \\\n",
       "Age                                                                           NaN          \n",
       "Age1stCode                                                                    NaN          \n",
       "YearsCode                                                                     NaN          \n",
       "YearsCodePro                                                                  NaN          \n",
       "I am a developer by profession                                                NaN          \n",
       "...                                                                           ...          \n",
       "Viet Nam                                                                      NaN          \n",
       "Yemen                                                                         NaN          \n",
       "Zambia                                                                        NaN          \n",
       "Zimbabwe                                                                      NaN          \n",
       "ConvertedComp                                                                 NaN          \n",
       "\n",
       "                                Associate degree (A.A., A.S., etc.)  ...  \\\n",
       "Age                                                        0.022553  ...   \n",
       "Age1stCode                                                 0.026562  ...   \n",
       "YearsCode                                                 -0.005927  ...   \n",
       "YearsCodePro                                               0.003058  ...   \n",
       "I am a developer by profession                             0.001171  ...   \n",
       "...                                                             ...  ...   \n",
       "Viet Nam                                                        NaN  ...   \n",
       "Yemen                                                           NaN  ...   \n",
       "Zambia                                                          NaN  ...   \n",
       "Zimbabwe                                                        NaN  ...   \n",
       "ConvertedComp                                             -0.083763  ...   \n",
       "\n",
       "                                United Republic of Tanzania  United States  \\\n",
       "Age                                                     NaN            NaN   \n",
       "Age1stCode                                              NaN            NaN   \n",
       "YearsCode                                               NaN            NaN   \n",
       "YearsCodePro                                            NaN            NaN   \n",
       "I am a developer by profession                          NaN            NaN   \n",
       "...                                                     ...            ...   \n",
       "Viet Nam                                                NaN            NaN   \n",
       "Yemen                                                   NaN            NaN   \n",
       "Zambia                                                  NaN            NaN   \n",
       "Zimbabwe                                                NaN            NaN   \n",
       "ConvertedComp                                           NaN            NaN   \n",
       "\n",
       "                                Uruguay  Uzbekistan  \\\n",
       "Age                                 NaN         NaN   \n",
       "Age1stCode                          NaN         NaN   \n",
       "YearsCode                           NaN         NaN   \n",
       "YearsCodePro                        NaN         NaN   \n",
       "I am a developer by profession      NaN         NaN   \n",
       "...                                 ...         ...   \n",
       "Viet Nam                            NaN         NaN   \n",
       "Yemen                               NaN         NaN   \n",
       "Zambia                              NaN         NaN   \n",
       "Zimbabwe                            NaN         NaN   \n",
       "ConvertedComp                       NaN         NaN   \n",
       "\n",
       "                                Venezuela, Bolivarian Republic of...  \\\n",
       "Age                                                              NaN   \n",
       "Age1stCode                                                       NaN   \n",
       "YearsCode                                                        NaN   \n",
       "YearsCodePro                                                     NaN   \n",
       "I am a developer by profession                                   NaN   \n",
       "...                                                              ...   \n",
       "Viet Nam                                                         NaN   \n",
       "Yemen                                                            NaN   \n",
       "Zambia                                                           NaN   \n",
       "Zimbabwe                                                         NaN   \n",
       "ConvertedComp                                                    NaN   \n",
       "\n",
       "                                Viet Nam  Yemen  Zambia  Zimbabwe  \\\n",
       "Age                                  NaN    NaN     NaN       NaN   \n",
       "Age1stCode                           NaN    NaN     NaN       NaN   \n",
       "YearsCode                            NaN    NaN     NaN       NaN   \n",
       "YearsCodePro                         NaN    NaN     NaN       NaN   \n",
       "I am a developer by profession       NaN    NaN     NaN       NaN   \n",
       "...                                  ...    ...     ...       ...   \n",
       "Viet Nam                             NaN    NaN     NaN       NaN   \n",
       "Yemen                                NaN    NaN     NaN       NaN   \n",
       "Zambia                               NaN    NaN     NaN       NaN   \n",
       "Zimbabwe                             NaN    NaN     NaN       NaN   \n",
       "ConvertedComp                        NaN    NaN     NaN       NaN   \n",
       "\n",
       "                                ConvertedComp  \n",
       "Age                                  0.238432  \n",
       "Age1stCode                          -0.155800  \n",
       "YearsCode                            0.310869  \n",
       "YearsCodePro                         0.318865  \n",
       "I am a developer by profession       0.027845  \n",
       "...                                       ...  \n",
       "Viet Nam                                  NaN  \n",
       "Yemen                                     NaN  \n",
       "Zambia                                    NaN  \n",
       "Zimbabwe                                  NaN  \n",
       "ConvertedComp                        1.000000  \n",
       "\n",
       "[214 rows x 214 columns]"
      ]
     },
     "execution_count": 120,
     "metadata": {},
     "output_type": "execute_result"
    }
   ],
   "source": [
    "pd.concat([input_ary, y], axis=1).corr()"
   ]
  },
  {
   "cell_type": "code",
   "execution_count": 35,
   "metadata": {},
   "outputs": [],
   "source": [
    "# sorted(list(zip(lr.feature_importances_, input_ary.columns)), reverse=True)"
   ]
  },
  {
   "cell_type": "code",
   "execution_count": 36,
   "metadata": {},
   "outputs": [
    {
     "name": "stdout",
     "output_type": "stream",
     "text": [
      "Sample 20939: Predicted [118998.] vs. Actual 125000.0\n"
     ]
    }
   ],
   "source": [
    "sample=random.randint(0, len(input_ary))\n",
    "print(f'Sample {sample}: Predicted {lr.predict([input_ary.iloc[sample]])} vs. Actual {y.iloc[sample]}')"
   ]
  },
  {
   "cell_type": "code",
   "execution_count": 37,
   "metadata": {
    "scrolled": true
   },
   "outputs": [
    {
     "data": {
      "text/plain": [
       "<matplotlib.axes._subplots.AxesSubplot at 0x26a8cf54f88>"
      ]
     },
     "execution_count": 37,
     "metadata": {},
     "output_type": "execute_result"
    },
    {
     "data": {
      "image/png": "[encoded data removed]",
      "text/plain": [
       "<Figure size 432x288 with 1 Axes>"
      ]
     },
     "metadata": {
      "needs_background": "light"
     },
     "output_type": "display_data"
    }
   ],
   "source": [
    "y.hist()"
   ]
  },
  {
   "cell_type": "code",
   "execution_count": 38,
   "metadata": {},
   "outputs": [
    {
     "data": {
      "text/plain": [
       "[(2426023947109233.5, 'I am a student who is learning to code'),\n",
       " (991503667328940.0, 'I code primarily as a hobby'),\n",
       " (262347868603312.0, 'Bahamas'),\n",
       " (61453302869705.805, 'Cape Verde'),\n",
       " (34734744215985.87, 'Burundi'),\n",
       " (16391583293851.691, 'Antigua and Barbuda'),\n",
       " (5609401917969.099, 'Liechtenstein'),\n",
       " (4662689295839.5625, 'Gambia'),\n",
       " (4458970706911.093, 'Libyan Arab Jamahiriya'),\n",
       " (2961356137186.703, 'Fiji'),\n",
       " (2141773325017.5042, 'Gabon'),\n",
       " (1895532133566.1768, 'Namibia'),\n",
       " (1799020161363.7231, 'Haiti'),\n",
       " (1461234517251.7798, 'Nauru'),\n",
       " (1301073169372.9092, 'Mozambique'),\n",
       " (1057935901761.39, 'Marshall Islands'),\n",
       " (983958561692.1804, 'Kiribati'),\n",
       " (626715583880.5612, 'Mauritania'),\n",
       " (273428562908.77737, 'Maldives'),\n",
       " (269915350742.3785, 'Papua New Guinea'),\n",
       " (167522928663.7578, 'Solomon Islands'),\n",
       " (141124257780.9145, 'Saint Lucia'),\n",
       " (14951.126206144287, 'I never completed any formal education'),\n",
       " (13407.59375, 'Engineering manager'),\n",
       " (12287.200543561921, 'Other doctoral degree (Ph.D., Ed.D., etc.)'),\n",
       " (11971.089734407851, 'Master’s degree (M.A., M.S., M.Eng., MBA, etc.)'),\n",
       " (8316.375, 'Scala'),\n",
       " (8047.368564276712, 'Primary/elementary school'),\n",
       " (7758.462605197914, 'Bachelor’s degree (B.A., B.S., B.Eng., etc.)'),\n",
       " (7210.25, 'Go'),\n",
       " (5799.5625, 'Ruby'),\n",
       " (5366.5, 'Engineer, site reliability'),\n",
       " (5074.145533690527,\n",
       "  'A business discipline (such as accounting, finance, marketing, etc.)'),\n",
       " (5051.5355712237815,\n",
       "  'A health science (such as nursing, pharmacy, radiology, etc.)'),\n",
       " (4987.380030418368,\n",
       "  'A social science (such as anthropology, psychology, political science, etc.)'),\n",
       " (4766.546397173487, 'Some college/university study without earning a degree'),\n",
       " (4446.9375, 'Objective-C'),\n",
       " (4411.25, 'TypeScript'),\n",
       " (4305.21875, 'Senior executive/VP'),\n",
       " (4277.5, 'Data scientist or machine learning specialist'),\n",
       " (3956.6890384217345,\n",
       "  'Secondary school (e.g. American high school, German Realschule or Gymnasium, etc.)'),\n",
       " (3646.0194718586313, 'Mathematics or statistics'),\n",
       " (3461.15625, 'DevOps specialist'),\n",
       " (3187.022970424954,\n",
       "  'Another engineering discipline (such as civil, electrical, mechanical, etc.)'),\n",
       " (3179.7973120643346, 'Professional degree (JD, MD, etc.)'),\n",
       " (3023.9551976552466,\n",
       "  'Information systems, information technology, or system administration'),\n",
       " (3002.238998719293,\n",
       "  'A natural science (such as biology, chemistry, physics, etc.)'),\n",
       " (2980.282099887949,\n",
       "  'Fine arts or performing arts (such as graphic design, music, studio art, etc.)'),\n",
       " (2684.9296437575103,\n",
       "  'Computer science, computer engineering, or software engineering'),\n",
       " (2409.625, 'Engineer, data'),\n",
       " (2231.5, 'Bash/Shell/PowerShell'),\n",
       " (2165.75, 'Product manager'),\n",
       " (1993.6482416540057,\n",
       "  'A humanities discipline (such as literature, history, philosophy, etc.)'),\n",
       " (1934.0, 'Developer, back-end'),\n",
       " (1814.4921875, 'Rust'),\n",
       " (1563.125, 'Man'),\n",
       " (1344.294298447734, 'YearsCodePro'),\n",
       " (1021.0, 'Java'),\n",
       " (976.0, 'JavaScript'),\n",
       " (858.75, 'Developer, mobile'),\n",
       " (832.0, 'Developer, full-stack'),\n",
       " (697.125, 'Swift'),\n",
       " (597.4902392717086, 'I never declared a major'),\n",
       " (587.75, 'Kotlin'),\n",
       " (561.8439342861748, 'Web development or web design'),\n",
       " (561.25, 'Python'),\n",
       " (159.51453910815803, 'Age'),\n",
       " (6.961487884039116, 'YearsCode'),\n",
       " (-212.375, 'Educator'),\n",
       " (-318.8563393865227, 'Age1stCode'),\n",
       " (-339.5625, 'Marketing or sales professional'),\n",
       " (-588.8358891169955, 'Associate degree (A.A., A.S., etc.)'),\n",
       " (-614.78125, 'Assembly'),\n",
       " (-644.75, 'C++'),\n",
       " (-754.765625, 'Non-binary, genderqueer, or gender non-conforming'),\n",
       " (-951.5, 'C'),\n",
       " (-959.3125, 'Perl'),\n",
       " (-1044.375, 'Developer, embedded applications or devices'),\n",
       " (-1066.0, 'Developer, desktop or enterprise applications'),\n",
       " (-1192.46875, 'Developer, game or graphics'),\n",
       " (-1556.75, 'Developer, front-end'),\n",
       " (-1664.09375, 'SQL'),\n",
       " (-1896.90625, 'R'),\n",
       " (-1974.875, 'Woman'),\n",
       " (-2191.921875, 'Developer, QA or test'),\n",
       " (-2491.53125, 'Haskell'),\n",
       " (-2499.25, 'C#'),\n",
       " (-2712.75, 'HTML/CSS'),\n",
       " (-2911.40625, 'Data or business analyst'),\n",
       " (-3096.046875, 'Dart'),\n",
       " (-3234.0, 'Database administrator'),\n",
       " (-3334.9375, 'VBA'),\n",
       " (-3594.9375, 'Scientist'),\n",
       " (-3753.109375, 'Julia'),\n",
       " (-4677.375, 'Designer'),\n",
       " (-5227.75, 'PHP'),\n",
       " (-5314.09375, 'System administrator'),\n",
       " (-6020.9375, 'Academic researcher'),\n",
       " (-47576009200.63533, 'Micronesia, Federated States of...'),\n",
       " (-132432197072.20187, 'Saint Vincent and the Grenadines'),\n",
       " (-308160468764.875, 'Tajikistan'),\n",
       " (-774140288749.2764, 'Sierra Leone'),\n",
       " (-781857502779.2031, 'Timor-Leste'),\n",
       " (-1651937595330.2822, 'Mali'),\n",
       " (-2989792206994.9272, 'Mongolia'),\n",
       " (-3651979556428.363, 'North Korea'),\n",
       " (-5896465852656.994, 'Eritrea'),\n",
       " (-6198137451078.858, 'Grenada'),\n",
       " (-8867385209696.305, 'Belize'),\n",
       " (-9157941095285.326, 'Chad'),\n",
       " (-10035587877697.621, 'Djibouti'),\n",
       " (-40989200445230.01, 'Congo, Republic of the...'),\n",
       " (-66475739635171.79, 'Brunei Darussalam'),\n",
       " (-76549891639761.75, 'Burkina Faso'),\n",
       " (-81492367625960.6, 'Andorra'),\n",
       " (-81492367629877.75, 'United States'),\n",
       " (-81492367641364.88, 'Israel'),\n",
       " (-81492367642595.03, 'Switzerland'),\n",
       " (-81492367651146.31, \"Lao People's Democratic Republic\"),\n",
       " (-81492367654129.48, 'Denmark'),\n",
       " (-81492367655196.5, 'Nomadic'),\n",
       " (-81492367658914.5, 'Iceland'),\n",
       " (-81492367660367.88, 'Norway'),\n",
       " (-81492367660848.28, 'Ireland'),\n",
       " (-81492367661449.47, 'Australia'),\n",
       " (-81492367662125.69, 'Luxembourg'),\n",
       " (-81492367662273.6, 'Hong Kong (S.A.R.)'),\n",
       " (-81492367664962.9, 'Canada'),\n",
       " (-81492367667937.06, 'United Kingdom'),\n",
       " (-81492367668480.75, 'Benin'),\n",
       " (-81492367672145.9, 'New Zealand'),\n",
       " (-81492367672731.62, 'Germany'),\n",
       " (-81492367672750.42, 'Singapore'),\n",
       " (-81492367673039.95, 'Saudi Arabia'),\n",
       " (-81492367674548.9, 'Netherlands'),\n",
       " (-81492367678217.14, 'Belgium'),\n",
       " (-81492367680017.42, 'Japan'),\n",
       " (-81492367680230.12, 'Costa Rica'),\n",
       " (-81492367680230.77, 'Turkmenistan'),\n",
       " (-81492367680476.62, 'Qatar'),\n",
       " (-81492367681112.19, 'Austria'),\n",
       " (-81492367681693.25, 'Sweden'),\n",
       " (-81492367682250.7, 'Finland'),\n",
       " (-81492367683317.5, 'Bahrain'),\n",
       " (-81492367683731.22, 'Zambia'),\n",
       " (-81492367683832.38, 'Oman'),\n",
       " (-81492367683872.98, 'Zimbabwe'),\n",
       " (-81492367684789.23, 'United Republic of Tanzania'),\n",
       " (-81492367685966.3, 'Malawi'),\n",
       " (-81492367686246.19, 'Republic of Korea'),\n",
       " (-81492367686973.56, 'South Korea'),\n",
       " (-81492367687066.23, 'Kuwait'),\n",
       " (-81492367687545.1, 'Lithuania'),\n",
       " (-81492367687922.22, 'Malta'),\n",
       " (-81492367688215.73, 'France'),\n",
       " (-81492367688288.2, 'Cyprus'),\n",
       " (-81492367689503.84, 'Isle of Man'),\n",
       " (-81492367690651.16, 'South Africa'),\n",
       " (-81492367691227.38, 'Paraguay'),\n",
       " (-81492367691514.7, 'Swaziland'),\n",
       " (-81492367691562.05, 'Rwanda'),\n",
       " (-81492367691676.05, 'San Marino'),\n",
       " (-81492367691848.66, 'China'),\n",
       " (-81492367692581.34, 'United Arab Emirates'),\n",
       " (-81492367693344.31, 'Taiwan'),\n",
       " (-81492367693383.1, 'Estonia'),\n",
       " (-81492367693435.25, 'Slovenia'),\n",
       " (-81492367693564.06, 'Uruguay'),\n",
       " (-81492367693877.19, 'Montenegro'),\n",
       " (-81492367693949.52, 'Spain'),\n",
       " (-81492367694448.16, 'Czech Republic'),\n",
       " (-81492367694915.06, 'Panama'),\n",
       " (-81492367695372.94, 'Romania'),\n",
       " (-81492367696297.88, 'Albania'),\n",
       " (-81492367696713.7, 'Poland'),\n",
       " (-81492367696964.75, 'Italy'),\n",
       " (-81492367697527.38, 'Yemen'),\n",
       " (-81492367697593.4, 'Latvia'),\n",
       " (-81492367698409.1, 'Bosnia and Herzegovina'),\n",
       " (-81492367698549.7, 'Slovakia'),\n",
       " (-81492367698759.25, 'Thailand'),\n",
       " (-81492367699426.8, 'Bulgaria'),\n",
       " (-81492367699823.12, 'Ukraine'),\n",
       " (-81492367700096.75, 'Lebanon'),\n",
       " (-81492367700145.34, 'Somalia'),\n",
       " (-81492367700394.16, 'Trinidad and Tobago'),\n",
       " (-81492367701391.92, 'Barbados'),\n",
       " (-81492367701765.06, 'Chile'),\n",
       " (-81492367701994.84, 'Jamaica'),\n",
       " (-81492367702208.42, 'Greece'),\n",
       " (-81492367702598.38, 'Belarus'),\n",
       " (-81492367702640.1, 'Portugal'),\n",
       " (-81492367702979.72, 'Croatia'),\n",
       " (-81492367703484.97, 'Guatemala'),\n",
       " (-81492367703909.23, 'Dominican Republic'),\n",
       " (-81492367703943.36, 'Nicaragua'),\n",
       " (-81492367704325.23, 'Botswana'),\n",
       " (-81492367704767.06, 'Mexico'),\n",
       " (-81492367704997.22, 'Jordan'),\n",
       " (-81492367705314.66, \"Côte d'Ivoire\"),\n",
       " (-81492367705431.97, 'Morocco'),\n",
       " (-81492367705521.69, 'Hungary'),\n",
       " (-81492367705882.67, 'Guinea'),\n",
       " (-81492367706013.22, 'Serbia'),\n",
       " (-81492367706101.5, 'The former Yugoslav Republic of Macedonia'),\n",
       " (-81492367706318.72, 'Guyana'),\n",
       " (-81492367706569.23, 'Monaco'),\n",
       " (-81492367706628.84, 'Democratic Republic of the Congo'),\n",
       " (-81492367706845.03, 'Russian Federation'),\n",
       " (-81492367707469.28, 'Iraq'),\n",
       " (-81492367708021.44, 'Afghanistan'),\n",
       " (-81492367708070.22, 'Kosovo'),\n",
       " (-81492367708334.56, 'Armenia'),\n",
       " (-81492367708381.95, 'Colombia'),\n",
       " (-81492367708474.3, 'Turkey'),\n",
       " (-81492367708621.61, 'Malaysia'),\n",
       " (-81492367708675.72, 'Peru'),\n",
       " (-81492367708764.11, 'Egypt'),\n",
       " (-81492367708773.6, 'Georgia'),\n",
       " (-81492367709466.03, 'Uganda'),\n",
       " (-81492367709477.39, 'Kenya'),\n",
       " (-81492367710036.34, 'Senegal'),\n",
       " (-81492367710488.25, 'Brazil'),\n",
       " (-81492367710704.06, 'Philippines'),\n",
       " (-81492367710732.56, 'Viet Nam'),\n",
       " (-81492367710779.94, 'Mauritius'),\n",
       " (-81492367711207.03, 'Ghana'),\n",
       " (-81492367711332.53, 'Honduras'),\n",
       " (-81492367711508.84, 'Nigeria'),\n",
       " (-81492367711787.86, 'Bolivia'),\n",
       " (-81492367712274.3, 'Argentina'),\n",
       " (-81492367712314.4, 'India'),\n",
       " (-81492367712477.39, 'Iran'),\n",
       " (-81492367712689.28, 'Ethiopia'),\n",
       " (-81492367712789.28, 'Cuba'),\n",
       " (-81492367712970.72, 'Ecuador'),\n",
       " (-81492367713018.61, 'Tunisia'),\n",
       " (-81492367713152.69, 'Republic of Moldova'),\n",
       " (-81492367713279.12, 'Pakistan'),\n",
       " (-81492367714357.94, 'El Salvador'),\n",
       " (-81492367714394.83, 'Niger'),\n",
       " (-81492367714810.53, 'Indonesia'),\n",
       " (-81492367714850.61, 'Angola'),\n",
       " (-81492367714909.38, 'Madagascar'),\n",
       " (-81492367715301.56, 'Azerbaijan'),\n",
       " (-81492367715443.33, 'Nepal'),\n",
       " (-81492367715779.1, 'Algeria'),\n",
       " (-81492367715800.02, 'Bangladesh'),\n",
       " (-81492367716669.34, 'Sri Lanka'),\n",
       " (-81492367716838.12, 'Kyrgyzstan'),\n",
       " (-81492367717020.56, 'Kazakhstan'),\n",
       " (-81492367718137.9, 'Uzbekistan'),\n",
       " (-81492367718861.33, 'Myanmar'),\n",
       " (-81492367719244.56, 'Sudan'),\n",
       " (-81492367720369.28, 'Venezuela, Bolivarian Republic of...'),\n",
       " (-81492367720699.69, 'Syrian Arab Republic'),\n",
       " (-81492367722249.8, 'Cameroon'),\n",
       " (-81492367723618.5, 'Lesotho'),\n",
       " (-81492367727878.67, 'Cambodia'),\n",
       " (-81492367729624.36, 'Togo'),\n",
       " (-140333660448538.98, 'Bhutan'),\n",
       " (-2277903628093340.0,\n",
       "  'I used to be a developer by profession, but no longer am'),\n",
       " (-4961443747809523.0, 'I am a developer by profession'),\n",
       " (-4961443747811219.0,\n",
       "  'I am not primarily a developer, but I write code sometimes as part of my work')]"
      ]
     },
     "execution_count": 38,
     "metadata": {},
     "output_type": "execute_result"
    }
   ],
   "source": [
    "sorted(list(zip(lr.coef_, input_ary.columns)), reverse=True)"
   ]
  },
  {
   "cell_type": "code",
   "execution_count": 39,
   "metadata": {},
   "outputs": [
    {
     "data": {
      "text/plain": [
       "200000.0"
      ]
     },
     "execution_count": 39,
     "metadata": {},
     "output_type": "execute_result"
    }
   ],
   "source": [
    "y_test.max()"
   ]
  },
  {
   "cell_type": "code",
   "execution_count": 40,
   "metadata": {},
   "outputs": [
    {
     "data": {
      "text/plain": [
       "343840236338071.0"
      ]
     },
     "execution_count": 40,
     "metadata": {},
     "output_type": "execute_result"
    }
   ],
   "source": [
    "import numpy as np\n",
    "np.max(lr.predict(X_test))"
   ]
  },
  {
   "cell_type": "code",
   "execution_count": 47,
   "metadata": {},
   "outputs": [
    {
     "data": {
      "text/plain": [
       "5042936115521417.0"
      ]
     },
     "execution_count": 47,
     "metadata": {},
     "output_type": "execute_result"
    }
   ],
   "source": [
    "lr.intercept_"
   ]
  },
  {
   "cell_type": "code",
   "execution_count": 41,
   "metadata": {
    "scrolled": false
   },
   "outputs": [
    {
     "data": {
      "text/plain": [
       "<matplotlib.collections.PathCollection at 0x26a8d35ba88>"
      ]
     },
     "execution_count": 41,
     "metadata": {},
     "output_type": "execute_result"
    },
    {
     "data": {
      "image/png": "[encoded data removed]",
      "text/plain": [
       "<Figure size 432x288 with 1 Axes>"
      ]
     },
     "metadata": {
      "needs_background": "light"
     },
     "output_type": "display_data"
    }
   ],
   "source": [
    "plt.scatter(y_test, lr.predict(X_test))"
   ]
  },
  {
   "cell_type": "code",
   "execution_count": 46,
   "metadata": {
    "scrolled": true
   },
   "outputs": [
    {
     "data": {
      "text/plain": [
       "(array([2.00e+00, 6.76e+03, 0.00e+00, 6.00e+00, 0.00e+00, 0.00e+00,\n",
       "        0.00e+00, 0.00e+00, 0.00e+00, 1.00e+00]),\n",
       " array([-5.88412927e+13, -1.85731398e+13,  2.16950131e+13,  6.19631660e+13,\n",
       "         1.02231319e+14,  1.42499472e+14,  1.82767625e+14,  2.23035778e+14,\n",
       "         2.63303931e+14,  3.03572083e+14,  3.43840236e+14]),\n",
       " <a list of 10 Patch objects>)"
      ]
     },
     "execution_count": 46,
     "metadata": {},
     "output_type": "execute_result"
    },
    {
     "data": {
      "image/png": "[encoded data removed]",
      "text/plain": [
       "<Figure size 432x288 with 1 Axes>"
      ]
     },
     "metadata": {
      "needs_background": "light"
     },
     "output_type": "display_data"
    }
   ],
   "source": [
    "plt.hist(lr.predict(X_test))"
   ]
  },
  {
   "cell_type": "code",
   "execution_count": null,
   "metadata": {},
   "outputs": [],
   "source": []
  },
  {
   "cell_type": "code",
   "execution_count": null,
   "metadata": {},
   "outputs": [],
   "source": []
  },
  {
   "cell_type": "code",
   "execution_count": null,
   "metadata": {},
   "outputs": [],
   "source": []
  },
  {
   "cell_type": "code",
   "execution_count": null,
   "metadata": {},
   "outputs": [],
   "source": []
  },
  {
   "cell_type": "code",
   "execution_count": null,
   "metadata": {},
   "outputs": [],
   "source": []
  },
  {
   "cell_type": "code",
   "execution_count": 430,
   "metadata": {},
   "outputs": [
    {
     "name": "stdout",
     "output_type": "stream",
     "text": [
      "['MainBranch', 'EdLevel', 'UndergradMajor', 'Country']\n",
      "['Age', 'Age1stCode', 'YearsCode', 'YearsCodePro']\n",
      "[]\n"
     ]
    }
   ],
   "source": [
    "print(categoricals)\n",
    "print(numericals)\n",
    "print(multi_options)"
   ]
  },
  {
   "cell_type": "markdown",
   "metadata": {},
   "source": [
    "['MainBranch', 'EdLevel', 'UndergradMajor', 'Country']\n",
    "\n",
    "['Age', 'Age1stCode', 'YearsCode', 'YearsCodePro']\n",
    "\n",
    "[]\n",
    "\n",
    "LR - -244864609971947.5\n",
    "\n",
    "RFR - 0.6037828435133481"
   ]
  },
  {
   "cell_type": "code",
   "execution_count": null,
   "metadata": {},
   "outputs": [],
   "source": []
  },
  {
   "cell_type": "code",
   "execution_count": 91,
   "metadata": {},
   "outputs": [
    {
     "data": {
      "text/plain": [
       "['Age',\n",
       " 'Age1stCode',\n",
       " 'YearsCode',\n",
       " 'YearsCodePro',\n",
       " 'I am a developer by profession',\n",
       " 'I am a student who is learning to code',\n",
       " 'I am not primarily a developer, but I write code sometimes as part of my work',\n",
       " 'I code primarily as a hobby',\n",
       " 'I used to be a developer by profession, but no longer am',\n",
       " 'Afghanistan',\n",
       " 'Albania',\n",
       " 'Algeria',\n",
       " 'Andorra',\n",
       " 'Angola',\n",
       " 'Antigua and Barbuda',\n",
       " 'Argentina',\n",
       " 'Armenia',\n",
       " 'Australia',\n",
       " 'Austria',\n",
       " 'Azerbaijan',\n",
       " 'Bahamas',\n",
       " 'Bahrain',\n",
       " 'Bangladesh',\n",
       " 'Barbados',\n",
       " 'Belarus',\n",
       " 'Belgium',\n",
       " 'Belize',\n",
       " 'Benin',\n",
       " 'Bhutan',\n",
       " 'Bolivia',\n",
       " 'Bosnia and Herzegovina',\n",
       " 'Botswana',\n",
       " 'Brazil',\n",
       " 'Brunei Darussalam',\n",
       " 'Bulgaria',\n",
       " 'Burkina Faso',\n",
       " 'Burundi',\n",
       " 'Cambodia',\n",
       " 'Cameroon',\n",
       " 'Canada',\n",
       " 'Cape Verde',\n",
       " 'Chad',\n",
       " 'Chile',\n",
       " 'China',\n",
       " 'Colombia',\n",
       " 'Congo, Republic of the...',\n",
       " 'Costa Rica',\n",
       " 'Croatia',\n",
       " 'Cuba',\n",
       " 'Cyprus',\n",
       " 'Czech Republic',\n",
       " \"Côte d'Ivoire\",\n",
       " 'Democratic Republic of the Congo',\n",
       " 'Denmark',\n",
       " 'Djibouti',\n",
       " 'Dominican Republic',\n",
       " 'Ecuador',\n",
       " 'Egypt',\n",
       " 'El Salvador',\n",
       " 'Eritrea',\n",
       " 'Estonia',\n",
       " 'Ethiopia',\n",
       " 'Fiji',\n",
       " 'Finland',\n",
       " 'France',\n",
       " 'Gabon',\n",
       " 'Gambia',\n",
       " 'Georgia',\n",
       " 'Germany',\n",
       " 'Ghana',\n",
       " 'Greece',\n",
       " 'Grenada',\n",
       " 'Guatemala',\n",
       " 'Guinea',\n",
       " 'Guyana',\n",
       " 'Haiti',\n",
       " 'Honduras',\n",
       " 'Hong Kong (S.A.R.)',\n",
       " 'Hungary',\n",
       " 'Iceland',\n",
       " 'India',\n",
       " 'Indonesia',\n",
       " 'Iran',\n",
       " 'Iraq',\n",
       " 'Ireland',\n",
       " 'Isle of Man',\n",
       " 'Israel',\n",
       " 'Italy',\n",
       " 'Jamaica',\n",
       " 'Japan',\n",
       " 'Jordan',\n",
       " 'Kazakhstan',\n",
       " 'Kenya',\n",
       " 'Kiribati',\n",
       " 'Kosovo',\n",
       " 'Kuwait',\n",
       " 'Kyrgyzstan',\n",
       " \"Lao People's Democratic Republic\",\n",
       " 'Latvia',\n",
       " 'Lebanon',\n",
       " 'Lesotho',\n",
       " 'Libyan Arab Jamahiriya',\n",
       " 'Liechtenstein',\n",
       " 'Lithuania',\n",
       " 'Luxembourg',\n",
       " 'Madagascar',\n",
       " 'Malawi',\n",
       " 'Malaysia',\n",
       " 'Maldives',\n",
       " 'Mali',\n",
       " 'Malta',\n",
       " 'Marshall Islands',\n",
       " 'Mauritania',\n",
       " 'Mauritius',\n",
       " 'Mexico',\n",
       " 'Micronesia, Federated States of...',\n",
       " 'Monaco',\n",
       " 'Mongolia',\n",
       " 'Montenegro',\n",
       " 'Morocco',\n",
       " 'Mozambique',\n",
       " 'Myanmar',\n",
       " 'Namibia',\n",
       " 'Nauru',\n",
       " 'Nepal',\n",
       " 'Netherlands',\n",
       " 'New Zealand',\n",
       " 'Nicaragua',\n",
       " 'Niger',\n",
       " 'Nigeria',\n",
       " 'Nomadic',\n",
       " 'North Korea',\n",
       " 'Norway',\n",
       " 'Oman',\n",
       " 'Pakistan',\n",
       " 'Panama',\n",
       " 'Papua New Guinea',\n",
       " 'Paraguay',\n",
       " 'Peru',\n",
       " 'Philippines',\n",
       " 'Poland',\n",
       " 'Portugal',\n",
       " 'Qatar',\n",
       " 'Republic of Korea',\n",
       " 'Republic of Moldova',\n",
       " 'Romania',\n",
       " 'Russian Federation',\n",
       " 'Rwanda',\n",
       " 'Saint Lucia',\n",
       " 'Saint Vincent and the Grenadines',\n",
       " 'San Marino',\n",
       " 'Saudi Arabia',\n",
       " 'Senegal',\n",
       " 'Serbia',\n",
       " 'Sierra Leone',\n",
       " 'Singapore',\n",
       " 'Slovakia',\n",
       " 'Slovenia',\n",
       " 'Solomon Islands',\n",
       " 'Somalia',\n",
       " 'South Africa',\n",
       " 'South Korea',\n",
       " 'Spain',\n",
       " 'Sri Lanka',\n",
       " 'Sudan',\n",
       " 'Swaziland',\n",
       " 'Sweden',\n",
       " 'Switzerland',\n",
       " 'Syrian Arab Republic',\n",
       " 'Taiwan',\n",
       " 'Tajikistan',\n",
       " 'Thailand',\n",
       " 'The former Yugoslav Republic of Macedonia',\n",
       " 'Timor-Leste',\n",
       " 'Togo',\n",
       " 'Trinidad and Tobago',\n",
       " 'Tunisia',\n",
       " 'Turkey',\n",
       " 'Turkmenistan',\n",
       " 'Uganda',\n",
       " 'Ukraine',\n",
       " 'United Arab Emirates',\n",
       " 'United Kingdom',\n",
       " 'United Republic of Tanzania',\n",
       " 'United States',\n",
       " 'Uruguay',\n",
       " 'Uzbekistan',\n",
       " 'Venezuela, Bolivarian Republic of...',\n",
       " 'Viet Nam',\n",
       " 'Yemen',\n",
       " 'Zambia',\n",
       " 'Zimbabwe',\n",
       " 'Associate degree (A.A., A.S., etc.)',\n",
       " 'Bachelor’s degree (B.A., B.S., B.Eng., etc.)',\n",
       " 'I never completed any formal education',\n",
       " 'Master’s degree (M.A., M.S., M.Eng., MBA, etc.)',\n",
       " 'Other doctoral degree (Ph.D., Ed.D., etc.)',\n",
       " 'Primary/elementary school',\n",
       " 'Professional degree (JD, MD, etc.)',\n",
       " 'Secondary school (e.g. American high school, German Realschule or Gymnasium, etc.)',\n",
       " 'Some college/university study without earning a degree',\n",
       " 'Employed full-time',\n",
       " 'Employed part-time',\n",
       " 'Independent contractor, freelancer, or self-employed',\n",
       " 'Not employed, and not looking for work',\n",
       " 'Not employed, but looking for work',\n",
       " 'Retired',\n",
       " 'Student',\n",
       " 'BSD',\n",
       " 'Linux-based',\n",
       " 'MacOS',\n",
       " 'Windows',\n",
       " 'A business discipline (such as accounting, finance, marketing, etc.)',\n",
       " 'A health science (such as nursing, pharmacy, radiology, etc.)',\n",
       " 'A humanities discipline (such as literature, history, philosophy, etc.)',\n",
       " 'A natural science (such as biology, chemistry, physics, etc.)',\n",
       " 'A social science (such as anthropology, psychology, political science, etc.)',\n",
       " 'Another engineering discipline (such as civil, electrical, mechanical, etc.)',\n",
       " 'Computer science, computer engineering, or software engineering',\n",
       " 'Fine arts or performing arts (such as graphic design, music, studio art, etc.)',\n",
       " 'I never declared a major',\n",
       " 'Information systems, information technology, or system administration',\n",
       " 'Mathematics or statistics',\n",
       " 'Web development or web design',\n",
       " 'I am a developer by profession',\n",
       " 'I am a student who is learning to code',\n",
       " 'I am not primarily a developer, but I write code sometimes as part of my work',\n",
       " 'I code primarily as a hobby',\n",
       " 'I used to be a developer by profession, but no longer am',\n",
       " 'Afghanistan',\n",
       " 'Albania',\n",
       " 'Algeria',\n",
       " 'Andorra',\n",
       " 'Angola',\n",
       " 'Antigua and Barbuda',\n",
       " 'Argentina',\n",
       " 'Armenia',\n",
       " 'Australia',\n",
       " 'Austria',\n",
       " 'Azerbaijan',\n",
       " 'Bahamas',\n",
       " 'Bahrain',\n",
       " 'Bangladesh',\n",
       " 'Barbados',\n",
       " 'Belarus',\n",
       " 'Belgium',\n",
       " 'Belize',\n",
       " 'Benin',\n",
       " 'Bhutan',\n",
       " 'Bolivia',\n",
       " 'Bosnia and Herzegovina',\n",
       " 'Botswana',\n",
       " 'Brazil',\n",
       " 'Brunei Darussalam',\n",
       " 'Bulgaria',\n",
       " 'Burkina Faso',\n",
       " 'Burundi',\n",
       " 'Cambodia',\n",
       " 'Cameroon',\n",
       " 'Canada',\n",
       " 'Cape Verde',\n",
       " 'Chad',\n",
       " 'Chile',\n",
       " 'China',\n",
       " 'Colombia',\n",
       " 'Congo, Republic of the...',\n",
       " 'Costa Rica',\n",
       " 'Croatia',\n",
       " 'Cuba',\n",
       " 'Cyprus',\n",
       " 'Czech Republic',\n",
       " \"Côte d'Ivoire\",\n",
       " 'Democratic Republic of the Congo',\n",
       " 'Denmark',\n",
       " 'Djibouti',\n",
       " 'Dominican Republic',\n",
       " 'Ecuador',\n",
       " 'Egypt',\n",
       " 'El Salvador',\n",
       " 'Eritrea',\n",
       " 'Estonia',\n",
       " 'Ethiopia',\n",
       " 'Fiji',\n",
       " 'Finland',\n",
       " 'France',\n",
       " 'Gabon',\n",
       " 'Gambia',\n",
       " 'Georgia',\n",
       " 'Germany',\n",
       " 'Ghana',\n",
       " 'Greece',\n",
       " 'Grenada',\n",
       " 'Guatemala',\n",
       " 'Guinea',\n",
       " 'Guyana',\n",
       " 'Haiti',\n",
       " 'Honduras',\n",
       " 'Hong Kong (S.A.R.)',\n",
       " 'Hungary',\n",
       " 'Iceland',\n",
       " 'India',\n",
       " 'Indonesia',\n",
       " 'Iran',\n",
       " 'Iraq',\n",
       " 'Ireland',\n",
       " 'Isle of Man',\n",
       " 'Israel',\n",
       " 'Italy',\n",
       " 'Jamaica',\n",
       " 'Japan',\n",
       " 'Jordan',\n",
       " 'Kazakhstan',\n",
       " 'Kenya',\n",
       " 'Kiribati',\n",
       " 'Kosovo',\n",
       " 'Kuwait',\n",
       " 'Kyrgyzstan',\n",
       " \"Lao People's Democratic Republic\",\n",
       " 'Latvia',\n",
       " 'Lebanon',\n",
       " 'Lesotho',\n",
       " 'Libyan Arab Jamahiriya',\n",
       " 'Liechtenstein',\n",
       " 'Lithuania',\n",
       " 'Luxembourg',\n",
       " 'Madagascar',\n",
       " 'Malawi',\n",
       " 'Malaysia',\n",
       " 'Maldives',\n",
       " 'Mali',\n",
       " 'Malta',\n",
       " 'Marshall Islands',\n",
       " 'Mauritania',\n",
       " 'Mauritius',\n",
       " 'Mexico',\n",
       " 'Micronesia, Federated States of...',\n",
       " 'Monaco',\n",
       " 'Mongolia',\n",
       " 'Montenegro',\n",
       " 'Morocco',\n",
       " 'Mozambique',\n",
       " 'Myanmar',\n",
       " 'Namibia',\n",
       " 'Nauru',\n",
       " 'Nepal',\n",
       " 'Netherlands',\n",
       " 'New Zealand',\n",
       " 'Nicaragua',\n",
       " 'Niger',\n",
       " 'Nigeria',\n",
       " 'Nomadic',\n",
       " 'North Korea',\n",
       " 'Norway',\n",
       " 'Oman',\n",
       " 'Pakistan',\n",
       " 'Panama',\n",
       " 'Papua New Guinea',\n",
       " 'Paraguay',\n",
       " 'Peru',\n",
       " 'Philippines',\n",
       " 'Poland',\n",
       " 'Portugal',\n",
       " 'Qatar',\n",
       " 'Republic of Korea',\n",
       " 'Republic of Moldova',\n",
       " 'Romania',\n",
       " 'Russian Federation',\n",
       " 'Rwanda',\n",
       " 'Saint Lucia',\n",
       " 'Saint Vincent and the Grenadines',\n",
       " 'San Marino',\n",
       " 'Saudi Arabia',\n",
       " 'Senegal',\n",
       " 'Serbia',\n",
       " 'Sierra Leone',\n",
       " 'Singapore',\n",
       " 'Slovakia',\n",
       " 'Slovenia',\n",
       " 'Solomon Islands',\n",
       " 'Somalia',\n",
       " 'South Africa',\n",
       " 'South Korea',\n",
       " 'Spain',\n",
       " 'Sri Lanka',\n",
       " 'Sudan',\n",
       " 'Swaziland',\n",
       " 'Sweden',\n",
       " 'Switzerland',\n",
       " 'Syrian Arab Republic',\n",
       " 'Taiwan',\n",
       " 'Tajikistan',\n",
       " 'Thailand',\n",
       " 'The former Yugoslav Republic of Macedonia',\n",
       " 'Timor-Leste',\n",
       " 'Togo',\n",
       " 'Trinidad and Tobago',\n",
       " 'Tunisia',\n",
       " 'Turkey',\n",
       " 'Turkmenistan',\n",
       " 'Uganda',\n",
       " 'Ukraine',\n",
       " 'United Arab Emirates',\n",
       " 'United Kingdom',\n",
       " 'United Republic of Tanzania',\n",
       " 'United States',\n",
       " 'Uruguay',\n",
       " 'Uzbekistan',\n",
       " 'Venezuela, Bolivarian Republic of...',\n",
       " 'Viet Nam',\n",
       " 'Yemen',\n",
       " 'Zambia',\n",
       " 'Zimbabwe',\n",
       " 'Associate degree (A.A., A.S., etc.)',\n",
       " 'Bachelor’s degree (B.A., B.S., B.Eng., etc.)',\n",
       " 'I never completed any formal education',\n",
       " 'Master’s degree (M.A., M.S., M.Eng., MBA, etc.)',\n",
       " 'Other doctoral degree (Ph.D., Ed.D., etc.)',\n",
       " 'Primary/elementary school',\n",
       " 'Professional degree (JD, MD, etc.)',\n",
       " 'Secondary school (e.g. American high school, German Realschule or Gymnasium, etc.)',\n",
       " 'Some college/university study without earning a degree',\n",
       " 'Employed full-time',\n",
       " 'Employed part-time',\n",
       " 'Independent contractor, freelancer, or self-employed',\n",
       " 'Not employed, and not looking for work',\n",
       " 'Not employed, but looking for work',\n",
       " 'Retired',\n",
       " 'Student',\n",
       " 'BSD',\n",
       " 'Linux-based',\n",
       " 'MacOS',\n",
       " 'Windows',\n",
       " 'A business discipline (such as accounting, finance, marketing, etc.)',\n",
       " 'A health science (such as nursing, pharmacy, radiology, etc.)',\n",
       " 'A humanities discipline (such as literature, history, philosophy, etc.)',\n",
       " 'A natural science (such as biology, chemistry, physics, etc.)',\n",
       " 'A social science (such as anthropology, psychology, political science, etc.)',\n",
       " 'Another engineering discipline (such as civil, electrical, mechanical, etc.)',\n",
       " 'Computer science, computer engineering, or software engineering',\n",
       " 'Fine arts or performing arts (such as graphic design, music, studio art, etc.)',\n",
       " 'I never declared a major',\n",
       " 'Information systems, information technology, or system administration',\n",
       " 'Mathematics or statistics',\n",
       " 'Web development or web design']"
      ]
     },
     "execution_count": 91,
     "metadata": {},
     "output_type": "execute_result"
    }
   ],
   "source": [
    "list(input_ary.columns)"
   ]
  },
  {
   "cell_type": "code",
   "execution_count": 24,
   "metadata": {
    "scrolled": true
   },
   "outputs": [
    {
     "data": {
      "text/plain": [
       "{'MainBranch': 5,\n",
       " 'Hobbyist': 2,\n",
       " 'Age1stCode': 63,\n",
       " 'CompFreq': 3,\n",
       " 'Country': 183,\n",
       " 'CurrencyDesc': 142,\n",
       " 'CurrencySymbol': 141,\n",
       " 'DatabaseDesireNextYear': 3193,\n",
       " 'DatabaseWorkedWith': 2808,\n",
       " 'DevType': 8269,\n",
       " 'EdLevel': 9,\n",
       " 'Employment': 7,\n",
       " 'Ethnicity': 208,\n",
       " 'Gender': 7,\n",
       " 'JobFactors': 230,\n",
       " 'JobSat': 5,\n",
       " 'JobSeek': 3,\n",
       " 'LanguageDesireNextYear': 16243,\n",
       " 'LanguageWorkedWith': 14256,\n",
       " 'MiscTechDesireNextYear': 5216,\n",
       " 'MiscTechWorkedWith': 2730,\n",
       " 'NEWCollabToolsDesireNextYear': 1277,\n",
       " 'NEWCollabToolsWorkedWith': 1153,\n",
       " 'NEWDevOps': 3,\n",
       " 'NEWDevOpsImpt': 5,\n",
       " 'NEWEdImpt': 5,\n",
       " 'NEWJobHunt': 2172,\n",
       " 'NEWJobHuntResearch': 63,\n",
       " 'NEWLearn': 4,\n",
       " 'NEWOffTopic': 3,\n",
       " 'NEWOnboardGood': 3,\n",
       " 'NEWOtherComms': 2,\n",
       " 'NEWOvertime': 5,\n",
       " 'NEWPurchaseResearch': 63,\n",
       " 'NEWPurpleLink': 4,\n",
       " 'NEWSOSites': 61,\n",
       " 'NEWStuck': 444,\n",
       " 'OpSys': 4,\n",
       " 'OrgSize': 9,\n",
       " 'PlatformDesireNextYear': 7471,\n",
       " 'PlatformWorkedWith': 6287,\n",
       " 'PurchaseWhat': 3,\n",
       " 'Sexuality': 14,\n",
       " 'SOAccount': 3,\n",
       " 'SOComm': 6,\n",
       " 'SOPartFreq': 6,\n",
       " 'SOVisitFreq': 6,\n",
       " 'SurveyEase': 3,\n",
       " 'SurveyLength': 3,\n",
       " 'Trans': 2,\n",
       " 'UndergradMajor': 12,\n",
       " 'WebframeDesireNextYear': 3986,\n",
       " 'WebframeWorkedWith': 3789,\n",
       " 'WelcomeChange': 6,\n",
       " 'YearsCode': 52,\n",
       " 'YearsCodePro': 52}"
      ]
     },
     "execution_count": 24,
     "metadata": {},
     "output_type": "execute_result"
    }
   ],
   "source": [
    "categoricals={}\n",
    "for col, col_type in df.dtypes.iteritems(): \n",
    "    if col_type=='O':\n",
    "        categoricals[col]=df[col].nunique()\n",
    "#         print(f'{col} is {col_type}')\n",
    "        \n",
    "categoricals"
   ]
  },
  {
   "cell_type": "code",
   "execution_count": null,
   "metadata": {},
   "outputs": [],
   "source": []
  },
  {
   "cell_type": "code",
   "execution_count": 74,
   "metadata": {
    "scrolled": true
   },
   "outputs": [
    {
     "data": {
      "text/plain": [
       "array(['x0_Man',\n",
       "       'x0_Man;Non-binary, genderqueer, or gender non-conforming',\n",
       "       'x0_Non-binary, genderqueer, or gender non-conforming', 'x0_Woman',\n",
       "       'x0_Woman;Man',\n",
       "       'x0_Woman;Man;Non-binary, genderqueer, or gender non-conforming',\n",
       "       'x0_Woman;Non-binary, genderqueer, or gender non-conforming'],\n",
       "      dtype=object)"
      ]
     },
     "execution_count": 74,
     "metadata": {},
     "output_type": "execute_result"
    }
   ],
   "source": [
    "ohe.get_feature_names()"
   ]
  },
  {
   "cell_type": "code",
   "execution_count": 75,
   "metadata": {},
   "outputs": [
    {
     "data": {
      "text/html": [
       "<div>\n",
       "<style scoped>\n",
       "    .dataframe tbody tr th:only-of-type {\n",
       "        vertical-align: middle;\n",
       "    }\n",
       "\n",
       "    .dataframe tbody tr th {\n",
       "        vertical-align: top;\n",
       "    }\n",
       "\n",
       "    .dataframe thead th {\n",
       "        text-align: right;\n",
       "    }\n",
       "</style>\n",
       "<table border=\"1\" class=\"dataframe\">\n",
       "  <thead>\n",
       "    <tr style=\"text-align: right;\">\n",
       "      <th></th>\n",
       "      <th>Man</th>\n",
       "      <th>Non-binary, genderqueer, or gender non-conforming</th>\n",
       "      <th>Woman</th>\n",
       "    </tr>\n",
       "  </thead>\n",
       "  <tbody>\n",
       "    <tr>\n",
       "      <td>0</td>\n",
       "      <td>1</td>\n",
       "      <td>0</td>\n",
       "      <td>0</td>\n",
       "    </tr>\n",
       "    <tr>\n",
       "      <td>1</td>\n",
       "      <td>0</td>\n",
       "      <td>0</td>\n",
       "      <td>0</td>\n",
       "    </tr>\n",
       "    <tr>\n",
       "      <td>2</td>\n",
       "      <td>0</td>\n",
       "      <td>0</td>\n",
       "      <td>0</td>\n",
       "    </tr>\n",
       "    <tr>\n",
       "      <td>3</td>\n",
       "      <td>1</td>\n",
       "      <td>0</td>\n",
       "      <td>0</td>\n",
       "    </tr>\n",
       "    <tr>\n",
       "      <td>4</td>\n",
       "      <td>1</td>\n",
       "      <td>0</td>\n",
       "      <td>0</td>\n",
       "    </tr>\n",
       "    <tr>\n",
       "      <td>...</td>\n",
       "      <td>...</td>\n",
       "      <td>...</td>\n",
       "      <td>...</td>\n",
       "    </tr>\n",
       "    <tr>\n",
       "      <td>64456</td>\n",
       "      <td>0</td>\n",
       "      <td>0</td>\n",
       "      <td>0</td>\n",
       "    </tr>\n",
       "    <tr>\n",
       "      <td>64457</td>\n",
       "      <td>0</td>\n",
       "      <td>0</td>\n",
       "      <td>0</td>\n",
       "    </tr>\n",
       "    <tr>\n",
       "      <td>64458</td>\n",
       "      <td>0</td>\n",
       "      <td>0</td>\n",
       "      <td>0</td>\n",
       "    </tr>\n",
       "    <tr>\n",
       "      <td>64459</td>\n",
       "      <td>0</td>\n",
       "      <td>0</td>\n",
       "      <td>0</td>\n",
       "    </tr>\n",
       "    <tr>\n",
       "      <td>64460</td>\n",
       "      <td>0</td>\n",
       "      <td>0</td>\n",
       "      <td>0</td>\n",
       "    </tr>\n",
       "  </tbody>\n",
       "</table>\n",
       "<p>64461 rows × 3 columns</p>\n",
       "</div>"
      ],
      "text/plain": [
       "       Man  Non-binary, genderqueer, or gender non-conforming  Woman\n",
       "0        1                                                  0      0\n",
       "1        0                                                  0      0\n",
       "2        0                                                  0      0\n",
       "3        1                                                  0      0\n",
       "4        1                                                  0      0\n",
       "...    ...                                                ...    ...\n",
       "64456    0                                                  0      0\n",
       "64457    0                                                  0      0\n",
       "64458    0                                                  0      0\n",
       "64459    0                                                  0      0\n",
       "64460    0                                                  0      0\n",
       "\n",
       "[64461 rows x 3 columns]"
      ]
     },
     "execution_count": 75,
     "metadata": {},
     "output_type": "execute_result"
    }
   ],
   "source": [
    "df['Gender'].str.get_dummies(sep=';')"
   ]
  },
  {
   "cell_type": "code",
   "execution_count": null,
   "metadata": {},
   "outputs": [],
   "source": []
  },
  {
   "cell_type": "code",
   "execution_count": 53,
   "metadata": {},
   "outputs": [
    {
     "name": "stdout",
     "output_type": "stream",
     "text": [
      "MainBranch options: ['I am a developer by profession' 'I code primarily as a hobby'\n",
      " 'I used to be a developer by profession, but no longer am'\n",
      " 'I am not primarily a developer, but I write code sometimes as part of my work'\n",
      " 'I am a student who is learning to code' nan]\n",
      "====================\n",
      "Hobbyist options: ['Yes' 'No' nan]\n",
      "====================\n",
      "Age1stCode options: ['13' '19' '15' '18' '16' '14' '12' '20' '42' '8' '25' '22' '30' '17' '21'\n",
      " '10' '46' '9' '7' '11' '6' nan '31' '29' '5' 'Younger than 5 years' '28'\n",
      " '38' '23' '27' '41' '24' '53' '26' '35' '32' '40' '33' '36' '54' '48'\n",
      " '56' '45' '44' '34' 'Older than 85' '39' '51' '68' '50' '37' '47' '43'\n",
      " '52' '85' '64' '55' '58' '49' '76' '72' '73' '83' '63']\n",
      "====================\n",
      "CompFreq options: ['Monthly' nan 'Yearly' 'Weekly']\n",
      "====================\n",
      "EdLevel options: ['Master’s degree (M.A., M.S., M.Eng., MBA, etc.)'\n",
      " 'Bachelor’s degree (B.A., B.S., B.Eng., etc.)' nan\n",
      " 'Secondary school (e.g. American high school, German Realschule or Gymnasium, etc.)'\n",
      " 'Professional degree (JD, MD, etc.)'\n",
      " 'Some college/university study without earning a degree'\n",
      " 'Associate degree (A.A., A.S., etc.)'\n",
      " 'Other doctoral degree (Ph.D., Ed.D., etc.)' 'Primary/elementary school'\n",
      " 'I never completed any formal education']\n",
      "====================\n",
      "Employment options: ['Independent contractor, freelancer, or self-employed'\n",
      " 'Employed full-time' nan 'Student' 'Not employed, but looking for work'\n",
      " 'Employed part-time' 'Retired' 'Not employed, and not looking for work']\n",
      "====================\n",
      "Gender options: ['Man' nan 'Woman' 'Man;Non-binary, genderqueer, or gender non-conforming'\n",
      " 'Non-binary, genderqueer, or gender non-conforming'\n",
      " 'Woman;Non-binary, genderqueer, or gender non-conforming'\n",
      " 'Woman;Man;Non-binary, genderqueer, or gender non-conforming' 'Woman;Man']\n",
      "====================\n",
      "JobSat options: ['Slightly satisfied' 'Very dissatisfied' nan 'Slightly dissatisfied'\n",
      " 'Very satisfied' 'Neither satisfied nor dissatisfied']\n",
      "====================\n",
      "JobSeek options: ['I am not interested in new job opportunities' nan\n",
      " 'I’m not actively looking, but I am open to new opportunities'\n",
      " 'I am actively looking for a job']\n",
      "====================\n",
      "NEWDevOps options: ['No' nan 'Not sure' 'Yes']\n",
      "====================\n",
      "NEWDevOpsImpt options: ['Somewhat important' nan 'Extremely important' 'Neutral'\n",
      " 'Not at all important' 'Not very important']\n",
      "====================\n",
      "NEWEdImpt options: ['Fairly important' nan 'Not at all important/not necessary'\n",
      " 'Very important' 'Somewhat important' 'Critically important']\n",
      "====================\n",
      "NEWJobHuntResearch options: [nan\n",
      " 'Read company media, such as employee blogs or company culture videos;Company reviews from third party sites (e.g. Glassdoor, Blind);Publicly available financial information (e.g. Crunchbase);Personal network - friends or family'\n",
      " 'Read company media, such as employee blogs or company culture videos;Company reviews from third party sites (e.g. Glassdoor, Blind);Personal network - friends or family;Read other media like news articles, founder profiles, etc. about the company'\n",
      " 'Company reviews from third party sites (e.g. Glassdoor, Blind);Publicly available financial information (e.g. Crunchbase);Personal network - friends or family;Read other media like news articles, founder profiles, etc. about the company'\n",
      " 'Read company media, such as employee blogs or company culture videos;Company reviews from third party sites (e.g. Glassdoor, Blind);Publicly available financial information (e.g. Crunchbase);Personal network - friends or family;Read other media like news articles, founder profiles, etc. about the company;Directly asking current or past employees at the company'\n",
      " 'Personal network - friends or family;Directly asking current or past employees at the company'\n",
      " 'Read company media, such as employee blogs or company culture videos'\n",
      " 'Read company media, such as employee blogs or company culture videos;Company reviews from third party sites (e.g. Glassdoor, Blind);Publicly available financial information (e.g. Crunchbase);Read other media like news articles, founder profiles, etc. about the company'\n",
      " 'Company reviews from third party sites (e.g. Glassdoor, Blind);Personal network - friends or family;Read other media like news articles, founder profiles, etc. about the company;Directly asking current or past employees at the company'\n",
      " 'Company reviews from third party sites (e.g. Glassdoor, Blind);Personal network - friends or family;Directly asking current or past employees at the company'\n",
      " 'Personal network - friends or family'\n",
      " 'Company reviews from third party sites (e.g. Glassdoor, Blind)'\n",
      " 'Company reviews from third party sites (e.g. Glassdoor, Blind);Personal network - friends or family;Read other media like news articles, founder profiles, etc. about the company'\n",
      " 'Read company media, such as employee blogs or company culture videos;Company reviews from third party sites (e.g. Glassdoor, Blind);Publicly available financial information (e.g. Crunchbase);Personal network - friends or family;Directly asking current or past employees at the company'\n",
      " 'Read company media, such as employee blogs or company culture videos;Company reviews from third party sites (e.g. Glassdoor, Blind)'\n",
      " 'Personal network - friends or family;Read other media like news articles, founder profiles, etc. about the company;Directly asking current or past employees at the company'\n",
      " 'Company reviews from third party sites (e.g. Glassdoor, Blind);Publicly available financial information (e.g. Crunchbase);Personal network - friends or family;Read other media like news articles, founder profiles, etc. about the company;Directly asking current or past employees at the company'\n",
      " 'Read company media, such as employee blogs or company culture videos;Company reviews from third party sites (e.g. Glassdoor, Blind);Read other media like news articles, founder profiles, etc. about the company'\n",
      " 'Directly asking current or past employees at the company'\n",
      " 'Company reviews from third party sites (e.g. Glassdoor, Blind);Personal network - friends or family'\n",
      " 'Company reviews from third party sites (e.g. Glassdoor, Blind);Read other media like news articles, founder profiles, etc. about the company'\n",
      " 'Read company media, such as employee blogs or company culture videos;Company reviews from third party sites (e.g. Glassdoor, Blind);Publicly available financial information (e.g. Crunchbase)'\n",
      " 'Read company media, such as employee blogs or company culture videos;Company reviews from third party sites (e.g. Glassdoor, Blind);Personal network - friends or family'\n",
      " 'Read company media, such as employee blogs or company culture videos;Personal network - friends or family;Read other media like news articles, founder profiles, etc. about the company;Directly asking current or past employees at the company'\n",
      " 'Read company media, such as employee blogs or company culture videos;Company reviews from third party sites (e.g. Glassdoor, Blind);Personal network - friends or family;Directly asking current or past employees at the company'\n",
      " 'Publicly available financial information (e.g. Crunchbase);Personal network - friends or family;Directly asking current or past employees at the company'\n",
      " 'Read company media, such as employee blogs or company culture videos;Publicly available financial information (e.g. Crunchbase);Personal network - friends or family'\n",
      " 'Read company media, such as employee blogs or company culture videos;Personal network - friends or family;Directly asking current or past employees at the company'\n",
      " 'Read company media, such as employee blogs or company culture videos;Company reviews from third party sites (e.g. Glassdoor, Blind);Publicly available financial information (e.g. Crunchbase);Read other media like news articles, founder profiles, etc. about the company;Directly asking current or past employees at the company'\n",
      " 'Read company media, such as employee blogs or company culture videos;Company reviews from third party sites (e.g. Glassdoor, Blind);Personal network - friends or family;Read other media like news articles, founder profiles, etc. about the company;Directly asking current or past employees at the company'\n",
      " 'Read company media, such as employee blogs or company culture videos;Read other media like news articles, founder profiles, etc. about the company'\n",
      " 'Read company media, such as employee blogs or company culture videos;Publicly available financial information (e.g. Crunchbase);Personal network - friends or family;Read other media like news articles, founder profiles, etc. about the company;Directly asking current or past employees at the company'\n",
      " 'Company reviews from third party sites (e.g. Glassdoor, Blind);Publicly available financial information (e.g. Crunchbase);Read other media like news articles, founder profiles, etc. about the company'\n",
      " 'Company reviews from third party sites (e.g. Glassdoor, Blind);Directly asking current or past employees at the company'\n",
      " 'Read company media, such as employee blogs or company culture videos;Company reviews from third party sites (e.g. Glassdoor, Blind);Publicly available financial information (e.g. Crunchbase);Directly asking current or past employees at the company'\n",
      " 'Company reviews from third party sites (e.g. Glassdoor, Blind);Publicly available financial information (e.g. Crunchbase);Personal network - friends or family;Directly asking current or past employees at the company'\n",
      " 'Read company media, such as employee blogs or company culture videos;Company reviews from third party sites (e.g. Glassdoor, Blind);Publicly available financial information (e.g. Crunchbase);Personal network - friends or family;Read other media like news articles, founder profiles, etc. about the company'\n",
      " 'Read company media, such as employee blogs or company culture videos;Company reviews from third party sites (e.g. Glassdoor, Blind);Directly asking current or past employees at the company'\n",
      " 'Read company media, such as employee blogs or company culture videos;Personal network - friends or family'\n",
      " 'Publicly available financial information (e.g. Crunchbase);Personal network - friends or family;Read other media like news articles, founder profiles, etc. about the company'\n",
      " 'Read company media, such as employee blogs or company culture videos;Directly asking current or past employees at the company'\n",
      " 'Company reviews from third party sites (e.g. Glassdoor, Blind);Publicly available financial information (e.g. Crunchbase);Personal network - friends or family'\n",
      " 'Read company media, such as employee blogs or company culture videos;Company reviews from third party sites (e.g. Glassdoor, Blind);Read other media like news articles, founder profiles, etc. about the company;Directly asking current or past employees at the company'\n",
      " 'Read company media, such as employee blogs or company culture videos;Personal network - friends or family;Read other media like news articles, founder profiles, etc. about the company'\n",
      " 'Read other media like news articles, founder profiles, etc. about the company;Directly asking current or past employees at the company'\n",
      " 'Read company media, such as employee blogs or company culture videos;Publicly available financial information (e.g. Crunchbase)'\n",
      " 'Read other media like news articles, founder profiles, etc. about the company'\n",
      " 'Company reviews from third party sites (e.g. Glassdoor, Blind);Publicly available financial information (e.g. Crunchbase);Directly asking current or past employees at the company'\n",
      " 'Company reviews from third party sites (e.g. Glassdoor, Blind);Publicly available financial information (e.g. Crunchbase)'\n",
      " 'Read company media, such as employee blogs or company culture videos;Publicly available financial information (e.g. Crunchbase);Personal network - friends or family;Read other media like news articles, founder profiles, etc. about the company'\n",
      " 'Personal network - friends or family;Read other media like news articles, founder profiles, etc. about the company'\n",
      " 'Read company media, such as employee blogs or company culture videos;Publicly available financial information (e.g. Crunchbase);Personal network - friends or family;Directly asking current or past employees at the company'\n",
      " 'Read company media, such as employee blogs or company culture videos;Read other media like news articles, founder profiles, etc. about the company;Directly asking current or past employees at the company'\n",
      " 'Publicly available financial information (e.g. Crunchbase);Read other media like news articles, founder profiles, etc. about the company'\n",
      " 'Publicly available financial information (e.g. Crunchbase);Personal network - friends or family;Read other media like news articles, founder profiles, etc. about the company;Directly asking current or past employees at the company'\n",
      " 'Company reviews from third party sites (e.g. Glassdoor, Blind);Read other media like news articles, founder profiles, etc. about the company;Directly asking current or past employees at the company'\n",
      " 'Read company media, such as employee blogs or company culture videos;Publicly available financial information (e.g. Crunchbase);Read other media like news articles, founder profiles, etc. about the company'\n",
      " 'Publicly available financial information (e.g. Crunchbase);Read other media like news articles, founder profiles, etc. about the company;Directly asking current or past employees at the company'\n",
      " 'Read company media, such as employee blogs or company culture videos;Publicly available financial information (e.g. Crunchbase);Read other media like news articles, founder profiles, etc. about the company;Directly asking current or past employees at the company'\n",
      " 'Publicly available financial information (e.g. Crunchbase);Personal network - friends or family'\n",
      " 'Read company media, such as employee blogs or company culture videos;Publicly available financial information (e.g. Crunchbase);Directly asking current or past employees at the company'\n",
      " 'Company reviews from third party sites (e.g. Glassdoor, Blind);Publicly available financial information (e.g. Crunchbase);Read other media like news articles, founder profiles, etc. about the company;Directly asking current or past employees at the company'\n",
      " 'Publicly available financial information (e.g. Crunchbase)'\n",
      " 'Publicly available financial information (e.g. Crunchbase);Directly asking current or past employees at the company']\n",
      "====================\n",
      "NEWLearn options: ['Once a year' 'Once a decade' 'Every few months' 'Once every few years'\n",
      " nan]\n",
      "====================\n",
      "NEWOffTopic options: ['Not sure' nan 'No' 'Yes']\n",
      "====================\n",
      "NEWOnboardGood options: [nan 'Yes' 'No' 'Onboarding? What onboarding?']\n",
      "====================\n",
      "NEWOtherComms options: ['No' 'Yes' nan]\n",
      "====================\n",
      "NEWOvertime options: ['Often: 1-2 days per week or more' nan\n",
      " 'Occasionally: 1-2 days per quarter but less than monthly' 'Never'\n",
      " 'Sometimes: 1-2 days per month but less than weekly'\n",
      " 'Rarely: 1-2 days per year or less']\n",
      "====================\n",
      "NEWPurchaseResearch options: ['Start a free trial;Ask developers I know/work with' nan\n",
      " 'Start a free trial;Ask developers I know/work with;Visit developer communities like Stack Overflow;Read ratings or reviews on third party sites like G2Crowd;Research companies that have advertised on sites I visit'\n",
      " 'Ask developers I know/work with;Read ratings or reviews on third party sites like G2Crowd'\n",
      " 'Start a free trial;Ask developers I know/work with;Visit developer communities like Stack Overflow;Read ratings or reviews on third party sites like G2Crowd'\n",
      " 'Start a free trial'\n",
      " 'Start a free trial;Ask developers I know/work with;Visit developer communities like Stack Overflow'\n",
      " 'Ask developers I know/work with'\n",
      " 'Ask developers I know/work with;Visit developer communities like Stack Overflow'\n",
      " 'Research companies that have advertised on sites I visit'\n",
      " 'Visit developer communities like Stack Overflow;Read ratings or reviews on third party sites like G2Crowd'\n",
      " 'Start a free trial;Visit developer communities like Stack Overflow'\n",
      " 'Start a free trial;Visit developer communities like Stack Overflow;Read ratings or reviews on third party sites like G2Crowd'\n",
      " 'Start a free trial;Visit developer communities like Stack Overflow;Research companies that have advertised on sites I visit'\n",
      " 'Read ratings or reviews on third party sites like G2Crowd'\n",
      " 'Start a free trial;Ask developers I know/work with;Research companies that have advertised on sites I visit'\n",
      " 'Start a free trial;Ask developers I know/work with;Read ratings or reviews on third party sites like G2Crowd'\n",
      " 'Start a free trial;Ask developers I know/work with;Visit developer communities like Stack Overflow;Read ratings or reviews on third party sites like G2Crowd;Research companies that have advertised on sites I visit;Research companies that have emailed me'\n",
      " 'Start a free trial;Ask developers I know/work with;Read ratings or reviews on third party sites like G2Crowd;Research companies that have advertised on sites I visit'\n",
      " 'Start a free trial;Read ratings or reviews on third party sites like G2Crowd'\n",
      " 'Start a free trial;Visit developer communities like Stack Overflow;Read ratings or reviews on third party sites like G2Crowd;Research companies that have advertised on sites I visit'\n",
      " 'Start a free trial;Ask developers I know/work with;Visit developer communities like Stack Overflow;Research companies that have advertised on sites I visit'\n",
      " 'Ask developers I know/work with;Visit developer communities like Stack Overflow;Read ratings or reviews on third party sites like G2Crowd'\n",
      " 'Start a free trial;Ask developers I know/work with;Visit developer communities like Stack Overflow;Research companies that have emailed me'\n",
      " 'Ask developers I know/work with;Visit developer communities like Stack Overflow;Research companies that have advertised on sites I visit'\n",
      " 'Ask developers I know/work with;Read ratings or reviews on third party sites like G2Crowd;Research companies that have advertised on sites I visit'\n",
      " 'Ask developers I know/work with;Visit developer communities like Stack Overflow;Research companies that have advertised on sites I visit;Research companies that have emailed me'\n",
      " 'Start a free trial;Research companies that have advertised on sites I visit;Research companies that have emailed me'\n",
      " 'Start a free trial;Ask developers I know/work with;Research companies that have advertised on sites I visit;Research companies that have emailed me'\n",
      " 'Ask developers I know/work with;Visit developer communities like Stack Overflow;Read ratings or reviews on third party sites like G2Crowd;Research companies that have advertised on sites I visit'\n",
      " 'Start a free trial;Ask developers I know/work with;Visit developer communities like Stack Overflow;Research companies that have advertised on sites I visit;Research companies that have emailed me'\n",
      " 'Start a free trial;Ask developers I know/work with;Visit developer communities like Stack Overflow;Read ratings or reviews on third party sites like G2Crowd;Research companies that have emailed me'\n",
      " 'Visit developer communities like Stack Overflow'\n",
      " 'Start a free trial;Ask developers I know/work with;Research companies that have emailed me'\n",
      " 'Ask developers I know/work with;Visit developer communities like Stack Overflow;Research companies that have emailed me'\n",
      " 'Start a free trial;Ask developers I know/work with;Read ratings or reviews on third party sites like G2Crowd;Research companies that have advertised on sites I visit;Research companies that have emailed me'\n",
      " 'Ask developers I know/work with;Read ratings or reviews on third party sites like G2Crowd;Research companies that have advertised on sites I visit;Research companies that have emailed me'\n",
      " 'Start a free trial;Research companies that have advertised on sites I visit'\n",
      " 'Visit developer communities like Stack Overflow;Read ratings or reviews on third party sites like G2Crowd;Research companies that have advertised on sites I visit'\n",
      " 'Start a free trial;Visit developer communities like Stack Overflow;Read ratings or reviews on third party sites like G2Crowd;Research companies that have emailed me'\n",
      " 'Ask developers I know/work with;Research companies that have advertised on sites I visit'\n",
      " 'Start a free trial;Read ratings or reviews on third party sites like G2Crowd;Research companies that have advertised on sites I visit'\n",
      " 'Visit developer communities like Stack Overflow;Read ratings or reviews on third party sites like G2Crowd;Research companies that have advertised on sites I visit;Research companies that have emailed me'\n",
      " 'Start a free trial;Visit developer communities like Stack Overflow;Research companies that have emailed me'\n",
      " 'Ask developers I know/work with;Visit developer communities like Stack Overflow;Read ratings or reviews on third party sites like G2Crowd;Research companies that have advertised on sites I visit;Research companies that have emailed me'\n",
      " 'Ask developers I know/work with;Read ratings or reviews on third party sites like G2Crowd;Research companies that have emailed me'\n",
      " 'Start a free trial;Research companies that have emailed me'\n",
      " 'Read ratings or reviews on third party sites like G2Crowd;Research companies that have advertised on sites I visit'\n",
      " 'Start a free trial;Ask developers I know/work with;Read ratings or reviews on third party sites like G2Crowd;Research companies that have emailed me'\n",
      " 'Visit developer communities like Stack Overflow;Research companies that have advertised on sites I visit'\n",
      " 'Visit developer communities like Stack Overflow;Research companies that have advertised on sites I visit;Research companies that have emailed me'\n",
      " 'Ask developers I know/work with;Research companies that have advertised on sites I visit;Research companies that have emailed me'\n",
      " 'Start a free trial;Read ratings or reviews on third party sites like G2Crowd;Research companies that have advertised on sites I visit;Research companies that have emailed me'\n",
      " 'Start a free trial;Visit developer communities like Stack Overflow;Research companies that have advertised on sites I visit;Research companies that have emailed me'\n",
      " 'Start a free trial;Visit developer communities like Stack Overflow;Read ratings or reviews on third party sites like G2Crowd;Research companies that have advertised on sites I visit;Research companies that have emailed me'\n",
      " 'Research companies that have emailed me'\n",
      " 'Ask developers I know/work with;Visit developer communities like Stack Overflow;Read ratings or reviews on third party sites like G2Crowd;Research companies that have emailed me'\n",
      " 'Ask developers I know/work with;Research companies that have emailed me'\n",
      " 'Start a free trial;Read ratings or reviews on third party sites like G2Crowd;Research companies that have emailed me'\n",
      " 'Research companies that have advertised on sites I visit;Research companies that have emailed me'\n",
      " 'Read ratings or reviews on third party sites like G2Crowd;Research companies that have advertised on sites I visit;Research companies that have emailed me'\n",
      " 'Visit developer communities like Stack Overflow;Research companies that have emailed me'\n",
      " 'Visit developer communities like Stack Overflow;Read ratings or reviews on third party sites like G2Crowd;Research companies that have emailed me'\n",
      " 'Read ratings or reviews on third party sites like G2Crowd;Research companies that have emailed me']\n",
      "====================\n",
      "NEWPurpleLink options: ['Amused' nan 'Hello, old friend' 'Annoyed' 'Indifferent']\n",
      "====================\n",
      "NEWSOSites options: ['Stack Overflow (public Q&A for anyone who codes)'\n",
      " 'Stack Overflow (public Q&A for anyone who codes);Stack Exchange (public Q&A for a variety of topics);Stack Overflow Jobs (for job seekers)'\n",
      " 'Stack Overflow (public Q&A for anyone who codes);Stack Exchange (public Q&A for a variety of topics);Stack Overflow Jobs (for job seekers);Stack Overflow for Teams (private Q&A for organizations);Stack Overflow Talent (for hiring companies/recruiters)'\n",
      " 'Stack Overflow (public Q&A for anyone who codes);Stack Exchange (public Q&A for a variety of topics)'\n",
      " 'Stack Overflow (public Q&A for anyone who codes);Stack Overflow Jobs (for job seekers)'\n",
      " 'Stack Overflow (public Q&A for anyone who codes);Stack Exchange (public Q&A for a variety of topics);Stack Overflow for Teams (private Q&A for organizations)'\n",
      " 'Stack Overflow (public Q&A for anyone who codes);Stack Overflow Jobs (for job seekers);Stack Overflow for Teams (private Q&A for organizations)'\n",
      " 'Stack Overflow (public Q&A for anyone who codes);Stack Overflow for Teams (private Q&A for organizations)'\n",
      " 'Stack Overflow (public Q&A for anyone who codes);Stack Exchange (public Q&A for a variety of topics);Stack Overflow Jobs (for job seekers);Stack Overflow for Teams (private Q&A for organizations)'\n",
      " 'Stack Overflow (public Q&A for anyone who codes);Stack Exchange (public Q&A for a variety of topics);Stack Overflow Jobs (for job seekers);Stack Overflow for Teams (private Q&A for organizations);Stack Overflow Talent (for hiring companies/recruiters);Stack Overflow Advertising (for technology companies)'\n",
      " nan\n",
      " 'Stack Overflow (public Q&A for anyone who codes);Stack Exchange (public Q&A for a variety of topics);Stack Overflow Jobs (for job seekers);Stack Overflow Talent (for hiring companies/recruiters)'\n",
      " 'Stack Overflow (public Q&A for anyone who codes);Stack Exchange (public Q&A for a variety of topics);Stack Overflow Talent (for hiring companies/recruiters)'\n",
      " 'Stack Exchange (public Q&A for a variety of topics)'\n",
      " 'Stack Overflow (public Q&A for anyone who codes);Stack Overflow for Teams (private Q&A for organizations);Stack Overflow Talent (for hiring companies/recruiters);Stack Overflow Advertising (for technology companies)'\n",
      " 'Stack Overflow (public Q&A for anyone who codes);Stack Exchange (public Q&A for a variety of topics);Stack Overflow Jobs (for job seekers);Stack Overflow Talent (for hiring companies/recruiters);Stack Overflow Advertising (for technology companies)'\n",
      " 'Stack Overflow (public Q&A for anyone who codes);Stack Overflow Jobs (for job seekers);Stack Overflow Talent (for hiring companies/recruiters)'\n",
      " 'I have never visited any of these sites'\n",
      " 'Stack Overflow Jobs (for job seekers)'\n",
      " 'Stack Exchange (public Q&A for a variety of topics);Stack Overflow Talent (for hiring companies/recruiters)'\n",
      " 'Stack Overflow Talent (for hiring companies/recruiters)'\n",
      " 'Stack Overflow (public Q&A for anyone who codes);Stack Exchange (public Q&A for a variety of topics);Stack Overflow for Teams (private Q&A for organizations);Stack Overflow Advertising (for technology companies)'\n",
      " 'Stack Overflow (public Q&A for anyone who codes);Stack Exchange (public Q&A for a variety of topics);Stack Overflow Advertising (for technology companies)'\n",
      " 'Stack Overflow (public Q&A for anyone who codes);Stack Exchange (public Q&A for a variety of topics);Stack Overflow Jobs (for job seekers);Stack Overflow Advertising (for technology companies)'\n",
      " 'Stack Exchange (public Q&A for a variety of topics);Stack Overflow Jobs (for job seekers)'\n",
      " 'Stack Overflow for Teams (private Q&A for organizations);Stack Overflow Talent (for hiring companies/recruiters);Stack Overflow Advertising (for technology companies)'\n",
      " 'Stack Overflow Jobs (for job seekers);Stack Overflow for Teams (private Q&A for organizations);Stack Overflow Talent (for hiring companies/recruiters);Stack Overflow Advertising (for technology companies)'\n",
      " 'Stack Overflow (public Q&A for anyone who codes);Stack Overflow Talent (for hiring companies/recruiters)'\n",
      " 'Stack Overflow Jobs (for job seekers);Stack Overflow for Teams (private Q&A for organizations);Stack Overflow Talent (for hiring companies/recruiters)'\n",
      " 'Stack Exchange (public Q&A for a variety of topics);Stack Overflow Jobs (for job seekers);Stack Overflow for Teams (private Q&A for organizations);Stack Overflow Talent (for hiring companies/recruiters);Stack Overflow Advertising (for technology companies)'\n",
      " 'Stack Overflow (public Q&A for anyone who codes);Stack Exchange (public Q&A for a variety of topics);Stack Overflow Jobs (for job seekers);Stack Overflow for Teams (private Q&A for organizations);Stack Overflow Advertising (for technology companies)'\n",
      " 'Stack Overflow Jobs (for job seekers);Stack Overflow Talent (for hiring companies/recruiters)'\n",
      " 'Stack Overflow (public Q&A for anyone who codes);Stack Exchange (public Q&A for a variety of topics);Stack Overflow for Teams (private Q&A for organizations);Stack Overflow Talent (for hiring companies/recruiters)'\n",
      " 'Stack Overflow (public Q&A for anyone who codes);Stack Overflow Jobs (for job seekers);Stack Overflow for Teams (private Q&A for organizations);Stack Overflow Talent (for hiring companies/recruiters)'\n",
      " 'Stack Exchange (public Q&A for a variety of topics);Stack Overflow Jobs (for job seekers);Stack Overflow Advertising (for technology companies)'\n",
      " 'Stack Exchange (public Q&A for a variety of topics);Stack Overflow for Teams (private Q&A for organizations);Stack Overflow Advertising (for technology companies)'\n",
      " 'Stack Overflow (public Q&A for anyone who codes);Stack Overflow Advertising (for technology companies)'\n",
      " 'Stack Exchange (public Q&A for a variety of topics);Stack Overflow Jobs (for job seekers);Stack Overflow for Teams (private Q&A for organizations);Stack Overflow Talent (for hiring companies/recruiters)'\n",
      " 'Stack Overflow (public Q&A for anyone who codes);Stack Overflow Jobs (for job seekers);Stack Overflow Advertising (for technology companies)'\n",
      " 'Stack Overflow (public Q&A for anyone who codes);Stack Overflow Jobs (for job seekers);Stack Overflow Talent (for hiring companies/recruiters);Stack Overflow Advertising (for technology companies)'\n",
      " 'Stack Overflow for Teams (private Q&A for organizations)'\n",
      " 'Stack Overflow (public Q&A for anyone who codes);Stack Overflow Jobs (for job seekers);Stack Overflow for Teams (private Q&A for organizations);Stack Overflow Advertising (for technology companies)'\n",
      " 'Stack Overflow for Teams (private Q&A for organizations);Stack Overflow Talent (for hiring companies/recruiters)'\n",
      " 'Stack Overflow Jobs (for job seekers);Stack Overflow for Teams (private Q&A for organizations);Stack Overflow Advertising (for technology companies)'\n",
      " 'Stack Overflow for Teams (private Q&A for organizations);Stack Overflow Advertising (for technology companies)'\n",
      " 'Stack Overflow (public Q&A for anyone who codes);Stack Overflow for Teams (private Q&A for organizations);Stack Overflow Talent (for hiring companies/recruiters)'\n",
      " 'Stack Overflow (public Q&A for anyone who codes);Stack Exchange (public Q&A for a variety of topics);Stack Overflow Talent (for hiring companies/recruiters);Stack Overflow Advertising (for technology companies)'\n",
      " 'Stack Overflow (public Q&A for anyone who codes);Stack Overflow Jobs (for job seekers);Stack Overflow for Teams (private Q&A for organizations);Stack Overflow Talent (for hiring companies/recruiters);Stack Overflow Advertising (for technology companies)'\n",
      " 'Stack Overflow Advertising (for technology companies)'\n",
      " 'Stack Overflow Jobs (for job seekers);Stack Overflow for Teams (private Q&A for organizations)'\n",
      " 'Stack Overflow (public Q&A for anyone who codes);Stack Exchange (public Q&A for a variety of topics);Stack Overflow for Teams (private Q&A for organizations);Stack Overflow Talent (for hiring companies/recruiters);Stack Overflow Advertising (for technology companies)'\n",
      " 'Stack Overflow (public Q&A for anyone who codes);Stack Overflow Talent (for hiring companies/recruiters);Stack Overflow Advertising (for technology companies)'\n",
      " 'Stack Overflow Talent (for hiring companies/recruiters);Stack Overflow Advertising (for technology companies)'\n",
      " 'Stack Exchange (public Q&A for a variety of topics);Stack Overflow for Teams (private Q&A for organizations)'\n",
      " 'Stack Overflow Jobs (for job seekers);Stack Overflow Talent (for hiring companies/recruiters);Stack Overflow Advertising (for technology companies)'\n",
      " 'Stack Overflow Jobs (for job seekers);Stack Overflow Advertising (for technology companies)'\n",
      " 'Stack Exchange (public Q&A for a variety of topics);Stack Overflow Jobs (for job seekers);Stack Overflow Talent (for hiring companies/recruiters);Stack Overflow Advertising (for technology companies)'\n",
      " 'Stack Overflow (public Q&A for anyone who codes);Stack Overflow for Teams (private Q&A for organizations);Stack Overflow Advertising (for technology companies)'\n",
      " 'Stack Exchange (public Q&A for a variety of topics);Stack Overflow Jobs (for job seekers);Stack Overflow for Teams (private Q&A for organizations)'\n",
      " 'Stack Exchange (public Q&A for a variety of topics);Stack Overflow for Teams (private Q&A for organizations);Stack Overflow Talent (for hiring companies/recruiters);Stack Overflow Advertising (for technology companies)'\n",
      " 'Stack Exchange (public Q&A for a variety of topics);Stack Overflow Jobs (for job seekers);Stack Overflow Talent (for hiring companies/recruiters)'\n",
      " 'Stack Exchange (public Q&A for a variety of topics);Stack Overflow Advertising (for technology companies)']\n",
      "====================\n",
      "OpSys options: ['Windows' 'MacOS' 'Linux-based' nan 'BSD']\n",
      "====================\n",
      "OrgSize options: ['2 to 9 employees' '1,000 to 4,999 employees' nan '20 to 99 employees'\n",
      " 'Just me - I am a freelancer, sole proprietor, etc.'\n",
      " '10,000 or more employees' '100 to 499 employees' '500 to 999 employees'\n",
      " '10 to 19 employees' '5,000 to 9,999 employees']\n",
      "====================\n",
      "PurchaseWhat options: [nan 'I have little or no influence' 'I have a great deal of influence'\n",
      " 'I have some influence']\n",
      "====================\n",
      "Sexuality options: ['Straight / Heterosexual' nan 'Gay or Lesbian' 'Queer'\n",
      " 'Bisexual;Straight / Heterosexual' 'Bisexual' 'Bisexual;Queer'\n",
      " 'Gay or Lesbian;Queer'\n",
      " 'Bisexual;Gay or Lesbian;Straight / Heterosexual;Queer'\n",
      " 'Bisexual;Straight / Heterosexual;Queer' 'Bisexual;Gay or Lesbian'\n",
      " 'Straight / Heterosexual;Queer'\n",
      " 'Bisexual;Gay or Lesbian;Straight / Heterosexual'\n",
      " 'Gay or Lesbian;Straight / Heterosexual' 'Bisexual;Gay or Lesbian;Queer']\n",
      "====================\n",
      "SOAccount options: ['No' 'Yes' nan \"Not sure/can't remember\"]\n",
      "====================\n",
      "SOComm options: ['No, not at all' 'Yes, definitely' 'Yes, somewhat' 'No, not really'\n",
      " 'Neutral' nan 'Not sure']\n",
      "====================\n",
      "SOPartFreq options: [nan 'Less than once per month or monthly'\n",
      " 'A few times per month or weekly' 'Multiple times per day'\n",
      " 'I have never participated in Q&A on Stack Overflow'\n",
      " 'A few times per week' 'Daily or almost daily']\n",
      "====================\n",
      "SOVisitFreq options: ['Multiple times per day' 'Daily or almost daily'\n",
      " 'A few times per month or weekly' 'A few times per week'\n",
      " 'I have never visited Stack Overflow (before today)' nan\n",
      " 'Less than once per month or monthly']\n",
      "====================\n",
      "SurveyEase options: ['Neither easy nor difficult' nan 'Easy' 'Difficult']\n",
      "====================\n",
      "SurveyLength options: ['Appropriate in length' nan 'Too short' 'Too long']\n",
      "====================\n",
      "Trans options: ['No' nan 'Yes']\n",
      "====================\n",
      "UndergradMajor options: ['Computer science, computer engineering, or software engineering' nan\n",
      " 'Mathematics or statistics'\n",
      " 'Another engineering discipline (such as civil, electrical, mechanical, etc.)'\n",
      " 'A humanities discipline (such as literature, history, philosophy, etc.)'\n",
      " 'A health science (such as nursing, pharmacy, radiology, etc.)'\n",
      " 'Information systems, information technology, or system administration'\n",
      " 'Web development or web design'\n",
      " 'A natural science (such as biology, chemistry, physics, etc.)'\n",
      " 'Fine arts or performing arts (such as graphic design, music, studio art, etc.)'\n",
      " 'I never declared a major'\n",
      " 'A social science (such as anthropology, psychology, political science, etc.)'\n",
      " 'A business discipline (such as accounting, finance, marketing, etc.)']\n",
      "====================\n",
      "WelcomeChange options: ['Just as welcome now as I felt last year'\n",
      " 'Somewhat more welcome now than last year'\n",
      " 'Somewhat less welcome now than last year' nan\n",
      " 'A lot more welcome now than last year'\n",
      " 'A lot less welcome now than last year'\n",
      " 'Not applicable - I did not use Stack Overflow last year']\n",
      "====================\n",
      "YearsCode options: ['36' '7' '4' '15' '6' '17' '8' '10' '35' '5' '37' '19' '9' '22' '30' '23'\n",
      " '20' '2' 'Less than 1 year' '3' '13' '25' '16' '43' '11' '38' '33' nan\n",
      " '24' '21' '12' '40' '27' '50' '46' '14' '18' '28' '32' '44' '26' '42'\n",
      " '31' '34' '29' '1' '39' '41' '45' 'More than 50 years' '47' '49' '48']\n",
      "====================\n",
      "YearsCodePro options: ['27' '4' nan '8' '13' '2' '7' '20' '1' '23' '3' '12' '17' '18' '10' '14'\n",
      " '29' '6' '28' '9' '15' '11' '16' '25' 'Less than 1 year' '5' '21' '19'\n",
      " '35' '24' '32' '22' '30' '38' '26' '40' '33' '31' 'More than 50 years'\n",
      " '34' '36' '39' '37' '41' '45' '47' '42' '46' '50' '43' '44' '48' '49']\n",
      "====================\n"
     ]
    }
   ],
   "source": [
    "for each_col in categoricals: \n",
    "    if categoricals[each_col]<100: \n",
    "        print(f'{each_col} options: {df[each_col].unique()}')\n",
    "        print('='*20)"
   ]
  },
  {
   "cell_type": "code",
   "execution_count": 44,
   "metadata": {},
   "outputs": [
    {
     "data": {
      "text/html": [
       "<div>\n",
       "<style scoped>\n",
       "    .dataframe tbody tr th:only-of-type {\n",
       "        vertical-align: middle;\n",
       "    }\n",
       "\n",
       "    .dataframe tbody tr th {\n",
       "        vertical-align: top;\n",
       "    }\n",
       "\n",
       "    .dataframe thead th {\n",
       "        text-align: right;\n",
       "    }\n",
       "</style>\n",
       "<table border=\"1\" class=\"dataframe\">\n",
       "  <thead>\n",
       "    <tr style=\"text-align: right;\">\n",
       "      <th></th>\n",
       "      <th>CompFreq</th>\n",
       "      <th>CompTotal</th>\n",
       "      <th>ConvertedComp</th>\n",
       "      <th>Country</th>\n",
       "      <th>CurrencyDesc</th>\n",
       "      <th>CurrencySymbol</th>\n",
       "    </tr>\n",
       "  </thead>\n",
       "  <tbody>\n",
       "    <tr>\n",
       "      <td>85</td>\n",
       "      <td>Weekly</td>\n",
       "      <td>2.000000e+03</td>\n",
       "      <td>108100.0</td>\n",
       "      <td>France</td>\n",
       "      <td>European Euro</td>\n",
       "      <td>EUR</td>\n",
       "    </tr>\n",
       "    <tr>\n",
       "      <td>121</td>\n",
       "      <td>Weekly</td>\n",
       "      <td>1.200000e+05</td>\n",
       "      <td>2000000.0</td>\n",
       "      <td>United States</td>\n",
       "      <td>United States dollar</td>\n",
       "      <td>USD</td>\n",
       "    </tr>\n",
       "    <tr>\n",
       "      <td>132</td>\n",
       "      <td>Weekly</td>\n",
       "      <td>3.250000e+03</td>\n",
       "      <td>210050.0</td>\n",
       "      <td>United Kingdom</td>\n",
       "      <td>Pound sterling</td>\n",
       "      <td>GBP</td>\n",
       "    </tr>\n",
       "    <tr>\n",
       "      <td>173</td>\n",
       "      <td>Weekly</td>\n",
       "      <td>7.600000e+02</td>\n",
       "      <td>41100.0</td>\n",
       "      <td>Netherlands</td>\n",
       "      <td>European Euro</td>\n",
       "      <td>EUR</td>\n",
       "    </tr>\n",
       "    <tr>\n",
       "      <td>191</td>\n",
       "      <td>Weekly</td>\n",
       "      <td>1.200000e+05</td>\n",
       "      <td>2000000.0</td>\n",
       "      <td>United States</td>\n",
       "      <td>United States dollar</td>\n",
       "      <td>USD</td>\n",
       "    </tr>\n",
       "    <tr>\n",
       "      <td>...</td>\n",
       "      <td>...</td>\n",
       "      <td>...</td>\n",
       "      <td>...</td>\n",
       "      <td>...</td>\n",
       "      <td>...</td>\n",
       "      <td>...</td>\n",
       "    </tr>\n",
       "    <tr>\n",
       "      <td>63762</td>\n",
       "      <td>Weekly</td>\n",
       "      <td>1.600000e+03</td>\n",
       "      <td>80000.0</td>\n",
       "      <td>United States</td>\n",
       "      <td>United States dollar</td>\n",
       "      <td>USD</td>\n",
       "    </tr>\n",
       "    <tr>\n",
       "      <td>63925</td>\n",
       "      <td>Weekly</td>\n",
       "      <td>8.740000e+09</td>\n",
       "      <td>1000000.0</td>\n",
       "      <td>Afghanistan</td>\n",
       "      <td>Afghan afghani</td>\n",
       "      <td>AFN</td>\n",
       "    </tr>\n",
       "    <tr>\n",
       "      <td>63993</td>\n",
       "      <td>Weekly</td>\n",
       "      <td>5.521171e+09</td>\n",
       "      <td>1000000.0</td>\n",
       "      <td>Afghanistan</td>\n",
       "      <td>Afghan afghani</td>\n",
       "      <td>AFN</td>\n",
       "    </tr>\n",
       "    <tr>\n",
       "      <td>64035</td>\n",
       "      <td>Weekly</td>\n",
       "      <td>6.600000e+04</td>\n",
       "      <td>2000000.0</td>\n",
       "      <td>United States</td>\n",
       "      <td>United States dollar</td>\n",
       "      <td>USD</td>\n",
       "    </tr>\n",
       "    <tr>\n",
       "      <td>64129</td>\n",
       "      <td>Weekly</td>\n",
       "      <td>3.000000e+03</td>\n",
       "      <td>150000.0</td>\n",
       "      <td>United States</td>\n",
       "      <td>United States dollar</td>\n",
       "      <td>USD</td>\n",
       "    </tr>\n",
       "  </tbody>\n",
       "</table>\n",
       "<p>969 rows × 6 columns</p>\n",
       "</div>"
      ],
      "text/plain": [
       "      CompFreq     CompTotal  ConvertedComp         Country  \\\n",
       "85      Weekly  2.000000e+03       108100.0          France   \n",
       "121     Weekly  1.200000e+05      2000000.0   United States   \n",
       "132     Weekly  3.250000e+03       210050.0  United Kingdom   \n",
       "173     Weekly  7.600000e+02        41100.0     Netherlands   \n",
       "191     Weekly  1.200000e+05      2000000.0   United States   \n",
       "...        ...           ...            ...             ...   \n",
       "63762   Weekly  1.600000e+03        80000.0   United States   \n",
       "63925   Weekly  8.740000e+09      1000000.0     Afghanistan   \n",
       "63993   Weekly  5.521171e+09      1000000.0     Afghanistan   \n",
       "64035   Weekly  6.600000e+04      2000000.0   United States   \n",
       "64129   Weekly  3.000000e+03       150000.0   United States   \n",
       "\n",
       "               CurrencyDesc CurrencySymbol  \n",
       "85            European Euro            EUR  \n",
       "121    United States dollar            USD  \n",
       "132          Pound sterling            GBP  \n",
       "173           European Euro            EUR  \n",
       "191    United States dollar            USD  \n",
       "...                     ...            ...  \n",
       "63762  United States dollar            USD  \n",
       "63925        Afghan afghani            AFN  \n",
       "63993        Afghan afghani            AFN  \n",
       "64035  United States dollar            USD  \n",
       "64129  United States dollar            USD  \n",
       "\n",
       "[969 rows x 6 columns]"
      ]
     },
     "execution_count": 44,
     "metadata": {},
     "output_type": "execute_result"
    }
   ],
   "source": [
    "comp_cols=['CompFreq','CompTotal', 'ConvertedComp', 'Country', 'CurrencyDesc','CurrencySymbol']\n",
    "comp_df=df[comp_cols].dropna()\n",
    "comp_df[comp_df['CompFreq']=='Weekly']"
   ]
  },
  {
   "cell_type": "code",
   "execution_count": 52,
   "metadata": {
    "scrolled": true
   },
   "outputs": [
    {
     "data": {
      "text/plain": [
       "(-2000.001, 100000.0]     26847\n",
       "(100000.0, 200000.0]       5603\n",
       "(200000.0, 300000.0]        686\n",
       "(900000.0, 1000000.0]       338\n",
       "(1900000.0, 2000000.0]      265\n",
       "(300000.0, 400000.0]        235\n",
       "(400000.0, 500000.0]        159\n",
       "(500000.0, 600000.0]        154\n",
       "(600000.0, 700000.0]        133\n",
       "(700000.0, 800000.0]        110\n",
       "(800000.0, 900000.0]         93\n",
       "(1400000.0, 1500000.0]       22\n",
       "(1100000.0, 1200000.0]       22\n",
       "(1000000.0, 1100000.0]       21\n",
       "(1200000.0, 1300000.0]       17\n",
       "(1700000.0, 1800000.0]       14\n",
       "(1300000.0, 1400000.0]       13\n",
       "(1600000.0, 1700000.0]       13\n",
       "(1500000.0, 1600000.0]        6\n",
       "(1800000.0, 1900000.0]        5\n",
       "Name: ConvertedComp, dtype: int64"
      ]
     },
     "execution_count": 52,
     "metadata": {},
     "output_type": "execute_result"
    },
    {
     "data": {
      "image/png": "[encoded data removed]",
      "text/plain": [
       "<Figure size 432x288 with 1 Axes>"
      ]
     },
     "metadata": {
      "needs_background": "light"
     },
     "output_type": "display_data"
    }
   ],
   "source": [
    "# comp_df[comp_df['ConvertedComp']<500000]['ConvertedComp'].hist()\n",
    "# comp_df[comp_df['ConvertedComp']<500000]['ConvertedComp'].value_counts(bins=10)\n",
    "comp_df['ConvertedComp'].hist()\n",
    "comp_df['ConvertedComp'].value_counts(bins=20)"
   ]
  },
  {
   "cell_type": "code",
   "execution_count": 35,
   "metadata": {},
   "outputs": [
    {
     "data": {
      "text/plain": [
       "{'CAD': 1.2857142857,\n",
       " 'HKD': 7.7506373879,\n",
       " 'ISK': 125.0925240563,\n",
       " 'PHP': 48.0549387285,\n",
       " 'DKK': 6.1213093182,\n",
       " 'HUF': 294.9008964553,\n",
       " 'CZK': 21.8093593223,\n",
       " 'GBP': 0.7425117197,\n",
       " 'RON': 4.0073196809,\n",
       " 'SEK': 8.4363845711,\n",
       " 'IDR': 14164.2980508265,\n",
       " 'INR': 73.7523645037,\n",
       " 'BRL': 5.1615264413,\n",
       " 'RUB': 74.0750884119,\n",
       " 'HRK': 6.2024015133,\n",
       " 'JPY': 103.9888148696,\n",
       " 'THB': 30.1603750308,\n",
       " 'CHF': 0.8900402994,\n",
       " 'EUR': 0.8224360556,\n",
       " 'MYR': 4.0600378321,\n",
       " 'BGN': 1.6085204375,\n",
       " 'TRY': 7.7832058557,\n",
       " 'CNY': 6.5318693972,\n",
       " 'NOK': 8.7670038654,\n",
       " 'NZD': 1.4190311703,\n",
       " 'ZAR': 15.1882556131,\n",
       " 'USD': 1.0,\n",
       " 'MXN': 19.828193108,\n",
       " 'SGD': 1.3328398717,\n",
       " 'AUD': 1.3477259643,\n",
       " 'ILS': 3.2667160128,\n",
       " 'KRW': 1086.109055021,\n",
       " 'PLN': 3.6819639773}"
      ]
     },
     "execution_count": 35,
     "metadata": {},
     "output_type": "execute_result"
    }
   ],
   "source": [
    "currency_api_url='https://api.exchangeratesapi.io/latest?base=USD'\n",
    "response=requests.get(currency_api_url)\n",
    "currency_conv=response.json()['rates']\n",
    "currency_conv"
   ]
  },
  {
   "cell_type": "code",
   "execution_count": null,
   "metadata": {},
   "outputs": [],
   "source": []
  },
  {
   "cell_type": "code",
   "execution_count": 37,
   "metadata": {},
   "outputs": [
    {
     "ename": "KeyError",
     "evalue": "('CompTotal', 'occurred at index Respondent')",
     "output_type": "error",
     "traceback": [
      "\u001b[1;31m---------------------------------------------------------------------------\u001b[0m",
      "\u001b[1;31mKeyError\u001b[0m                                  Traceback (most recent call last)",
      "\u001b[1;32m<ipython-input-37-8a21a6c3f8bf>\u001b[0m in \u001b[0;36m<module>\u001b[1;34m\u001b[0m\n\u001b[0;32m      1\u001b[0m \u001b[1;31m#df['Comp_USD']=\u001b[0m\u001b[1;33m\u001b[0m\u001b[1;33m\u001b[0m\u001b[1;33m\u001b[0m\u001b[0m\n\u001b[1;32m----> 2\u001b[1;33m \u001b[0mdf\u001b[0m\u001b[1;33m.\u001b[0m\u001b[0mapply\u001b[0m\u001b[1;33m(\u001b[0m\u001b[1;32mlambda\u001b[0m \u001b[0mx\u001b[0m\u001b[1;33m:\u001b[0m \u001b[0mx\u001b[0m\u001b[1;33m[\u001b[0m\u001b[1;34m'CompTotal'\u001b[0m\u001b[1;33m]\u001b[0m\u001b[1;33m/\u001b[0m\u001b[0mcurrency_conv\u001b[0m\u001b[1;33m[\u001b[0m\u001b[1;34m'CurrencySymbol'\u001b[0m\u001b[1;33m]\u001b[0m\u001b[1;33m)\u001b[0m\u001b[1;31m# if x['CurrencySymbol'] != 'USD')\u001b[0m\u001b[1;33m\u001b[0m\u001b[1;33m\u001b[0m\u001b[0m\n\u001b[0m",
      "\u001b[1;32mC:\\ProgramData\\Anaconda3\\lib\\site-packages\\pandas\\core\\frame.py\u001b[0m in \u001b[0;36mapply\u001b[1;34m(self, func, axis, broadcast, raw, reduce, result_type, args, **kwds)\u001b[0m\n\u001b[0;32m   6911\u001b[0m             \u001b[0mkwds\u001b[0m\u001b[1;33m=\u001b[0m\u001b[0mkwds\u001b[0m\u001b[1;33m,\u001b[0m\u001b[1;33m\u001b[0m\u001b[1;33m\u001b[0m\u001b[0m\n\u001b[0;32m   6912\u001b[0m         )\n\u001b[1;32m-> 6913\u001b[1;33m         \u001b[1;32mreturn\u001b[0m \u001b[0mop\u001b[0m\u001b[1;33m.\u001b[0m\u001b[0mget_result\u001b[0m\u001b[1;33m(\u001b[0m\u001b[1;33m)\u001b[0m\u001b[1;33m\u001b[0m\u001b[1;33m\u001b[0m\u001b[0m\n\u001b[0m\u001b[0;32m   6914\u001b[0m \u001b[1;33m\u001b[0m\u001b[0m\n\u001b[0;32m   6915\u001b[0m     \u001b[1;32mdef\u001b[0m \u001b[0mapplymap\u001b[0m\u001b[1;33m(\u001b[0m\u001b[0mself\u001b[0m\u001b[1;33m,\u001b[0m \u001b[0mfunc\u001b[0m\u001b[1;33m)\u001b[0m\u001b[1;33m:\u001b[0m\u001b[1;33m\u001b[0m\u001b[1;33m\u001b[0m\u001b[0m\n",
      "\u001b[1;32mC:\\ProgramData\\Anaconda3\\lib\\site-packages\\pandas\\core\\apply.py\u001b[0m in \u001b[0;36mget_result\u001b[1;34m(self)\u001b[0m\n\u001b[0;32m    184\u001b[0m             \u001b[1;32mreturn\u001b[0m \u001b[0mself\u001b[0m\u001b[1;33m.\u001b[0m\u001b[0mapply_raw\u001b[0m\u001b[1;33m(\u001b[0m\u001b[1;33m)\u001b[0m\u001b[1;33m\u001b[0m\u001b[1;33m\u001b[0m\u001b[0m\n\u001b[0;32m    185\u001b[0m \u001b[1;33m\u001b[0m\u001b[0m\n\u001b[1;32m--> 186\u001b[1;33m         \u001b[1;32mreturn\u001b[0m \u001b[0mself\u001b[0m\u001b[1;33m.\u001b[0m\u001b[0mapply_standard\u001b[0m\u001b[1;33m(\u001b[0m\u001b[1;33m)\u001b[0m\u001b[1;33m\u001b[0m\u001b[1;33m\u001b[0m\u001b[0m\n\u001b[0m\u001b[0;32m    187\u001b[0m \u001b[1;33m\u001b[0m\u001b[0m\n\u001b[0;32m    188\u001b[0m     \u001b[1;32mdef\u001b[0m \u001b[0mapply_empty_result\u001b[0m\u001b[1;33m(\u001b[0m\u001b[0mself\u001b[0m\u001b[1;33m)\u001b[0m\u001b[1;33m:\u001b[0m\u001b[1;33m\u001b[0m\u001b[1;33m\u001b[0m\u001b[0m\n",
      "\u001b[1;32mC:\\ProgramData\\Anaconda3\\lib\\site-packages\\pandas\\core\\apply.py\u001b[0m in \u001b[0;36mapply_standard\u001b[1;34m(self)\u001b[0m\n\u001b[0;32m    290\u001b[0m \u001b[1;33m\u001b[0m\u001b[0m\n\u001b[0;32m    291\u001b[0m         \u001b[1;31m# compute the result using the series generator\u001b[0m\u001b[1;33m\u001b[0m\u001b[1;33m\u001b[0m\u001b[1;33m\u001b[0m\u001b[0m\n\u001b[1;32m--> 292\u001b[1;33m         \u001b[0mself\u001b[0m\u001b[1;33m.\u001b[0m\u001b[0mapply_series_generator\u001b[0m\u001b[1;33m(\u001b[0m\u001b[1;33m)\u001b[0m\u001b[1;33m\u001b[0m\u001b[1;33m\u001b[0m\u001b[0m\n\u001b[0m\u001b[0;32m    293\u001b[0m \u001b[1;33m\u001b[0m\u001b[0m\n\u001b[0;32m    294\u001b[0m         \u001b[1;31m# wrap results\u001b[0m\u001b[1;33m\u001b[0m\u001b[1;33m\u001b[0m\u001b[1;33m\u001b[0m\u001b[0m\n",
      "\u001b[1;32mC:\\ProgramData\\Anaconda3\\lib\\site-packages\\pandas\\core\\apply.py\u001b[0m in \u001b[0;36mapply_series_generator\u001b[1;34m(self)\u001b[0m\n\u001b[0;32m    319\u001b[0m             \u001b[1;32mtry\u001b[0m\u001b[1;33m:\u001b[0m\u001b[1;33m\u001b[0m\u001b[1;33m\u001b[0m\u001b[0m\n\u001b[0;32m    320\u001b[0m                 \u001b[1;32mfor\u001b[0m \u001b[0mi\u001b[0m\u001b[1;33m,\u001b[0m \u001b[0mv\u001b[0m \u001b[1;32min\u001b[0m \u001b[0menumerate\u001b[0m\u001b[1;33m(\u001b[0m\u001b[0mseries_gen\u001b[0m\u001b[1;33m)\u001b[0m\u001b[1;33m:\u001b[0m\u001b[1;33m\u001b[0m\u001b[1;33m\u001b[0m\u001b[0m\n\u001b[1;32m--> 321\u001b[1;33m                     \u001b[0mresults\u001b[0m\u001b[1;33m[\u001b[0m\u001b[0mi\u001b[0m\u001b[1;33m]\u001b[0m \u001b[1;33m=\u001b[0m \u001b[0mself\u001b[0m\u001b[1;33m.\u001b[0m\u001b[0mf\u001b[0m\u001b[1;33m(\u001b[0m\u001b[0mv\u001b[0m\u001b[1;33m)\u001b[0m\u001b[1;33m\u001b[0m\u001b[1;33m\u001b[0m\u001b[0m\n\u001b[0m\u001b[0;32m    322\u001b[0m                     \u001b[0mkeys\u001b[0m\u001b[1;33m.\u001b[0m\u001b[0mappend\u001b[0m\u001b[1;33m(\u001b[0m\u001b[0mv\u001b[0m\u001b[1;33m.\u001b[0m\u001b[0mname\u001b[0m\u001b[1;33m)\u001b[0m\u001b[1;33m\u001b[0m\u001b[1;33m\u001b[0m\u001b[0m\n\u001b[0;32m    323\u001b[0m             \u001b[1;32mexcept\u001b[0m \u001b[0mException\u001b[0m \u001b[1;32mas\u001b[0m \u001b[0me\u001b[0m\u001b[1;33m:\u001b[0m\u001b[1;33m\u001b[0m\u001b[1;33m\u001b[0m\u001b[0m\n",
      "\u001b[1;32m<ipython-input-37-8a21a6c3f8bf>\u001b[0m in \u001b[0;36m<lambda>\u001b[1;34m(x)\u001b[0m\n\u001b[0;32m      1\u001b[0m \u001b[1;31m#df['Comp_USD']=\u001b[0m\u001b[1;33m\u001b[0m\u001b[1;33m\u001b[0m\u001b[1;33m\u001b[0m\u001b[0m\n\u001b[1;32m----> 2\u001b[1;33m \u001b[0mdf\u001b[0m\u001b[1;33m.\u001b[0m\u001b[0mapply\u001b[0m\u001b[1;33m(\u001b[0m\u001b[1;32mlambda\u001b[0m \u001b[0mx\u001b[0m\u001b[1;33m:\u001b[0m \u001b[0mx\u001b[0m\u001b[1;33m[\u001b[0m\u001b[1;34m'CompTotal'\u001b[0m\u001b[1;33m]\u001b[0m\u001b[1;33m/\u001b[0m\u001b[0mcurrency_conv\u001b[0m\u001b[1;33m[\u001b[0m\u001b[1;34m'CurrencySymbol'\u001b[0m\u001b[1;33m]\u001b[0m\u001b[1;33m)\u001b[0m\u001b[1;31m# if x['CurrencySymbol'] != 'USD')\u001b[0m\u001b[1;33m\u001b[0m\u001b[1;33m\u001b[0m\u001b[0m\n\u001b[0m",
      "\u001b[1;32mC:\\ProgramData\\Anaconda3\\lib\\site-packages\\pandas\\core\\series.py\u001b[0m in \u001b[0;36m__getitem__\u001b[1;34m(self, key)\u001b[0m\n\u001b[0;32m   1066\u001b[0m         \u001b[0mkey\u001b[0m \u001b[1;33m=\u001b[0m \u001b[0mcom\u001b[0m\u001b[1;33m.\u001b[0m\u001b[0mapply_if_callable\u001b[0m\u001b[1;33m(\u001b[0m\u001b[0mkey\u001b[0m\u001b[1;33m,\u001b[0m \u001b[0mself\u001b[0m\u001b[1;33m)\u001b[0m\u001b[1;33m\u001b[0m\u001b[1;33m\u001b[0m\u001b[0m\n\u001b[0;32m   1067\u001b[0m         \u001b[1;32mtry\u001b[0m\u001b[1;33m:\u001b[0m\u001b[1;33m\u001b[0m\u001b[1;33m\u001b[0m\u001b[0m\n\u001b[1;32m-> 1068\u001b[1;33m             \u001b[0mresult\u001b[0m \u001b[1;33m=\u001b[0m \u001b[0mself\u001b[0m\u001b[1;33m.\u001b[0m\u001b[0mindex\u001b[0m\u001b[1;33m.\u001b[0m\u001b[0mget_value\u001b[0m\u001b[1;33m(\u001b[0m\u001b[0mself\u001b[0m\u001b[1;33m,\u001b[0m \u001b[0mkey\u001b[0m\u001b[1;33m)\u001b[0m\u001b[1;33m\u001b[0m\u001b[1;33m\u001b[0m\u001b[0m\n\u001b[0m\u001b[0;32m   1069\u001b[0m \u001b[1;33m\u001b[0m\u001b[0m\n\u001b[0;32m   1070\u001b[0m             \u001b[1;32mif\u001b[0m \u001b[1;32mnot\u001b[0m \u001b[0mis_scalar\u001b[0m\u001b[1;33m(\u001b[0m\u001b[0mresult\u001b[0m\u001b[1;33m)\u001b[0m\u001b[1;33m:\u001b[0m\u001b[1;33m\u001b[0m\u001b[1;33m\u001b[0m\u001b[0m\n",
      "\u001b[1;32mC:\\ProgramData\\Anaconda3\\lib\\site-packages\\pandas\\core\\indexes\\base.py\u001b[0m in \u001b[0;36mget_value\u001b[1;34m(self, series, key)\u001b[0m\n\u001b[0;32m   4728\u001b[0m         \u001b[0mk\u001b[0m \u001b[1;33m=\u001b[0m \u001b[0mself\u001b[0m\u001b[1;33m.\u001b[0m\u001b[0m_convert_scalar_indexer\u001b[0m\u001b[1;33m(\u001b[0m\u001b[0mk\u001b[0m\u001b[1;33m,\u001b[0m \u001b[0mkind\u001b[0m\u001b[1;33m=\u001b[0m\u001b[1;34m\"getitem\"\u001b[0m\u001b[1;33m)\u001b[0m\u001b[1;33m\u001b[0m\u001b[1;33m\u001b[0m\u001b[0m\n\u001b[0;32m   4729\u001b[0m         \u001b[1;32mtry\u001b[0m\u001b[1;33m:\u001b[0m\u001b[1;33m\u001b[0m\u001b[1;33m\u001b[0m\u001b[0m\n\u001b[1;32m-> 4730\u001b[1;33m             \u001b[1;32mreturn\u001b[0m \u001b[0mself\u001b[0m\u001b[1;33m.\u001b[0m\u001b[0m_engine\u001b[0m\u001b[1;33m.\u001b[0m\u001b[0mget_value\u001b[0m\u001b[1;33m(\u001b[0m\u001b[0ms\u001b[0m\u001b[1;33m,\u001b[0m \u001b[0mk\u001b[0m\u001b[1;33m,\u001b[0m \u001b[0mtz\u001b[0m\u001b[1;33m=\u001b[0m\u001b[0mgetattr\u001b[0m\u001b[1;33m(\u001b[0m\u001b[0mseries\u001b[0m\u001b[1;33m.\u001b[0m\u001b[0mdtype\u001b[0m\u001b[1;33m,\u001b[0m \u001b[1;34m\"tz\"\u001b[0m\u001b[1;33m,\u001b[0m \u001b[1;32mNone\u001b[0m\u001b[1;33m)\u001b[0m\u001b[1;33m)\u001b[0m\u001b[1;33m\u001b[0m\u001b[1;33m\u001b[0m\u001b[0m\n\u001b[0m\u001b[0;32m   4731\u001b[0m         \u001b[1;32mexcept\u001b[0m \u001b[0mKeyError\u001b[0m \u001b[1;32mas\u001b[0m \u001b[0me1\u001b[0m\u001b[1;33m:\u001b[0m\u001b[1;33m\u001b[0m\u001b[1;33m\u001b[0m\u001b[0m\n\u001b[0;32m   4732\u001b[0m             \u001b[1;32mif\u001b[0m \u001b[0mlen\u001b[0m\u001b[1;33m(\u001b[0m\u001b[0mself\u001b[0m\u001b[1;33m)\u001b[0m \u001b[1;33m>\u001b[0m \u001b[1;36m0\u001b[0m \u001b[1;32mand\u001b[0m \u001b[1;33m(\u001b[0m\u001b[0mself\u001b[0m\u001b[1;33m.\u001b[0m\u001b[0mholds_integer\u001b[0m\u001b[1;33m(\u001b[0m\u001b[1;33m)\u001b[0m \u001b[1;32mor\u001b[0m \u001b[0mself\u001b[0m\u001b[1;33m.\u001b[0m\u001b[0mis_boolean\u001b[0m\u001b[1;33m(\u001b[0m\u001b[1;33m)\u001b[0m\u001b[1;33m)\u001b[0m\u001b[1;33m:\u001b[0m\u001b[1;33m\u001b[0m\u001b[1;33m\u001b[0m\u001b[0m\n",
      "\u001b[1;32mpandas\\_libs\\index.pyx\u001b[0m in \u001b[0;36mpandas._libs.index.IndexEngine.get_value\u001b[1;34m()\u001b[0m\n",
      "\u001b[1;32mpandas\\_libs\\index.pyx\u001b[0m in \u001b[0;36mpandas._libs.index.IndexEngine.get_value\u001b[1;34m()\u001b[0m\n",
      "\u001b[1;32mpandas\\_libs\\index.pyx\u001b[0m in \u001b[0;36mpandas._libs.index.IndexEngine.get_loc\u001b[1;34m()\u001b[0m\n",
      "\u001b[1;32mpandas\\_libs\\index_class_helper.pxi\u001b[0m in \u001b[0;36mpandas._libs.index.Int64Engine._check_type\u001b[1;34m()\u001b[0m\n",
      "\u001b[1;31mKeyError\u001b[0m: ('CompTotal', 'occurred at index Respondent')"
     ]
    }
   ],
   "source": [
    "#df['Comp_USD']=\n",
    "df.dropna()\n",
    "df.apply(lambda x: x['CompTotal']/currency_conv['CurrencySymbol'])# if x['CurrencySymbol'] != 'USD')"
   ]
  },
  {
   "cell_type": "code",
   "execution_count": null,
   "metadata": {},
   "outputs": [],
   "source": []
  }
 ],
 "metadata": {
  "kernelspec": {
   "display_name": "Python 3",
   "language": "python",
   "name": "python3"
  },
  "language_info": {
   "codemirror_mode": {
    "name": "ipython",
    "version": 3
   },
   "file_extension": ".py",
   "mimetype": "text/x-python",
   "name": "python",
   "nbconvert_exporter": "python",
   "pygments_lexer": "ipython3",
   "version": "3.7.4"
  }
 },
 "nbformat": 4,
 "nbformat_minor": 2
}

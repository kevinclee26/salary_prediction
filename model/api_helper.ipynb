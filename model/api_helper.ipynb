{
 "cells": [
  {
   "cell_type": "code",
   "execution_count": 8,
   "metadata": {},
   "outputs": [],
   "source": [
    "import pickle\n",
    "import pandas as pd"
   ]
  },
  {
   "cell_type": "code",
   "execution_count": 2,
   "metadata": {},
   "outputs": [],
   "source": [
    "file_name='final_model.sav'\n",
    "input_format_file='input_columns.sav'\n",
    "input_scaler_file='input_scaler.sav'\n",
    "rfr=pickle.load(open(file_name, 'rb'))\n",
    "input_columns=pickle.load(open(input_format_file, 'rb'))\n",
    "scaler=pickle.load(open(input_scaler_file, 'rb'))"
   ]
  },
  {
   "cell_type": "code",
   "execution_count": 36,
   "metadata": {},
   "outputs": [
    {
     "data": {
      "text/plain": [
       "Index(['YearsCodePro', 'Academic researcher', 'Data or business analyst',\n",
       "       'Data scientist or machine learning specialist',\n",
       "       'Database administrator', 'Designer', 'DevOps specialist',\n",
       "       'Developer, QA or test', 'Developer, back-end',\n",
       "       'Developer, desktop or enterprise applications',\n",
       "       'Developer, embedded applications or devices', 'Developer, front-end',\n",
       "       'Developer, full-stack', 'Developer, game or graphics',\n",
       "       'Developer, mobile', 'Educator', 'Engineer, data',\n",
       "       'Engineer, site reliability', 'Engineering manager',\n",
       "       'Marketing or sales professional', 'Product manager', 'Scientist',\n",
       "       'Senior executive/VP', 'System administrator',\n",
       "       'Associate degree (A.A., A.S., etc.)',\n",
       "       'Bachelor’s degree (B.A., B.S., B.Eng., etc.)',\n",
       "       'I never completed any formal education',\n",
       "       'Master’s degree (M.A., M.S., M.Eng., MBA, etc.)',\n",
       "       'Other doctoral degree (Ph.D., Ed.D., etc.)',\n",
       "       'Primary/elementary school', 'Professional degree (JD, MD, etc.)',\n",
       "       'Secondary school (e.g. American high school, German Realschule or Gymnasium, etc.)',\n",
       "       'Some college/university study without earning a degree', 'BSD',\n",
       "       'Linux-based', 'MacOS', 'Windows'],\n",
       "      dtype='object')"
      ]
     },
     "execution_count": 36,
     "metadata": {},
     "output_type": "execute_result"
    }
   ],
   "source": [
    "input_columns"
   ]
  },
  {
   "cell_type": "code",
   "execution_count": 17,
   "metadata": {},
   "outputs": [
    {
     "data": {
      "text/plain": [
       "array([113394.])"
      ]
     },
     "execution_count": 17,
     "metadata": {},
     "output_type": "execute_result"
    }
   ],
   "source": [
    "inputs={'YearsCodePro': 10, 'Data scientist or machine learning specialist': 1, 'Windows': 1}\n",
    "# df=pd.DataFrame(columns=input_columns)\n",
    "# input_df=pd.concat([df, pd.DataFrame(inputs, [0])]).fillna(0)\n",
    "# input_scaled=scaler.transform(input_df)\n",
    "# rfr.predict(input_scaled)"
   ]
  },
  {
   "cell_type": "code",
   "execution_count": 26,
   "metadata": {},
   "outputs": [
    {
     "data": {
      "text/plain": [
       "array([113394.])"
      ]
     },
     "execution_count": 26,
     "metadata": {},
     "output_type": "execute_result"
    }
   ],
   "source": [
    "input_ary=[]\n",
    "for each_feature in input_columns: \n",
    "    try: \n",
    "        input_ary.append(inputs[each_feature])\n",
    "    except: \n",
    "        input_ary.append(0)\n",
    "input_scaled=scaler.transform([input_ary])\n",
    "rfr.predict(input_scaled)"
   ]
  },
  {
   "cell_type": "code",
   "execution_count": 45,
   "metadata": {
    "scrolled": true
   },
   "outputs": [
    {
     "data": {
      "text/plain": [
       "array([169676.32142857])"
      ]
     },
     "execution_count": 45,
     "metadata": {},
     "output_type": "execute_result"
    }
   ],
   "source": [
    "inputs={'YearsCodePro': 10, \n",
    "        'Data scientist or machine learning specialist': 1, \n",
    "        'MacOS': 1, \n",
    "        'Master’s degree (M.A., M.S., M.Eng., MBA, etc.)': 1}\n",
    "input_ary=[inputs[each_feature] if (each_feature in inputs) else 0 for each_feature in input_columns]\n",
    "input_scaled=scaler.transform([input_ary])\n",
    "rfr.predict(input_scaled)"
   ]
  },
  {
   "cell_type": "code",
   "execution_count": 47,
   "metadata": {},
   "outputs": [
    {
     "data": {
      "text/plain": [
       "array([175016.])"
      ]
     },
     "execution_count": 47,
     "metadata": {},
     "output_type": "execute_result"
    }
   ],
   "source": [
    "inputs={'YearsCodePro': 10, \n",
    "        'Data scientist or machine learning specialist': 1, \n",
    "        'MacOS': 1, \n",
    "        'Other doctoral degree (Ph.D., Ed.D., etc.)': 1}\n",
    "input_ary=[inputs[each_feature] if (each_feature in inputs) else 0 for each_feature in input_columns]\n",
    "input_scaled=scaler.transform([input_ary])\n",
    "rfr.predict(input_scaled)"
   ]
  },
  {
   "cell_type": "code",
   "execution_count": 48,
   "metadata": {},
   "outputs": [
    {
     "data": {
      "text/plain": [
       "array([158738.41269841])"
      ]
     },
     "execution_count": 48,
     "metadata": {},
     "output_type": "execute_result"
    }
   ],
   "source": [
    "inputs={'YearsCodePro': 10, \n",
    "        'Data scientist or machine learning specialist': 1, \n",
    "        'MacOS': 1, \n",
    "        'Bachelor’s degree (B.A., B.S., B.Eng., etc.)': 1}\n",
    "input_ary=[inputs[each_feature] if (each_feature in inputs) else 0 for each_feature in input_columns]\n",
    "input_scaled=scaler.transform([input_ary])\n",
    "rfr.predict(input_scaled)"
   ]
  },
  {
   "cell_type": "code",
   "execution_count": 49,
   "metadata": {},
   "outputs": [
    {
     "data": {
      "text/plain": [
       "array([160962.63492063])"
      ]
     },
     "execution_count": 49,
     "metadata": {},
     "output_type": "execute_result"
    }
   ],
   "source": [
    "inputs={'YearsCodePro': 10, \n",
    "        'Data scientist or machine learning specialist': 1, \n",
    "        'MacOS': 1}\n",
    "input_ary=[inputs[each_feature] if (each_feature in inputs) else 0 for each_feature in input_columns]\n",
    "input_scaled=scaler.transform([input_ary])\n",
    "rfr.predict(input_scaled)"
   ]
  },
  {
   "cell_type": "code",
   "execution_count": 51,
   "metadata": {},
   "outputs": [
    {
     "data": {
      "text/plain": [
       "array([140740.])"
      ]
     },
     "execution_count": 51,
     "metadata": {},
     "output_type": "execute_result"
    }
   ],
   "source": [
    "inputs={'YearsCodePro': 10, \n",
    "        'Data scientist or machine learning specialist': 1, \n",
    "        'MacOS': 1, \n",
    "        'Associate degree (A.A., A.S., etc.)': 1}\n",
    "input_ary=[inputs[each_feature] if (each_feature in inputs) else 0 for each_feature in input_columns]\n",
    "input_scaled=scaler.transform([input_ary])\n",
    "rfr.predict(input_scaled)"
   ]
  },
  {
   "cell_type": "code",
   "execution_count": 52,
   "metadata": {},
   "outputs": [
    {
     "data": {
      "text/plain": [
       "array([160962.63492063])"
      ]
     },
     "execution_count": 52,
     "metadata": {},
     "output_type": "execute_result"
    }
   ],
   "source": [
    "inputs={'YearsCodePro': 10, \n",
    "        'Data scientist or machine learning specialist': 1, \n",
    "        'MacOS': 1, \n",
    "        'I never completed any formal education': 1}\n",
    "input_ary=[inputs[each_feature] if (each_feature in inputs) else 0 for each_feature in input_columns]\n",
    "input_scaled=scaler.transform([input_ary])\n",
    "rfr.predict(input_scaled)"
   ]
  },
  {
   "cell_type": "code",
   "execution_count": null,
   "metadata": {},
   "outputs": [],
   "source": []
  }
 ],
 "metadata": {
  "kernelspec": {
   "display_name": "Python 3",
   "language": "python",
   "name": "python3"
  },
  "language_info": {
   "codemirror_mode": {
    "name": "ipython",
    "version": 3
   },
   "file_extension": ".py",
   "mimetype": "text/x-python",
   "name": "python",
   "nbconvert_exporter": "python",
   "pygments_lexer": "ipython3",
   "version": "3.7.4"
  }
 },
 "nbformat": 4,
 "nbformat_minor": 2
}

{
 "cells": [
  {
   "cell_type": "code",
   "execution_count": 8,
   "metadata": {},
   "outputs": [],
   "source": [
    "import pickle\n",
    "import pandas as pd"
   ]
  },
  {
   "cell_type": "code",
   "execution_count": 2,
   "metadata": {},
   "outputs": [],
   "source": [
    "file_name='final_model.sav'\n",
    "input_format_file='input_columns.sav'\n",
    "input_scaler_file='input_scaler.sav'\n",
    "rfr=pickle.load(open(file_name, 'rb'))\n",
    "input_columns=pickle.load(open(input_format_file, 'rb'))\n",
    "scaler=pickle.load(open(input_scaler_file, 'rb'))"
   ]
  },
  {
   "cell_type": "code",
   "execution_count": 36,
   "metadata": {},
   "outputs": [
    {
     "data": {
      "text/plain": [
       "Index(['YearsCodePro', 'Academic researcher', 'Data or business analyst',\n",
       "       'Data scientist or machine learning specialist',\n",
       "       'Database administrator', 'Designer', 'DevOps specialist',\n",
       "       'Developer, QA or test', 'Developer, back-end',\n",
       "       'Developer, desktop or enterprise applications',\n",
       "       'Developer, embedded applications or devices', 'Developer, front-end',\n",
       "       'Developer, full-stack', 'Developer, game or graphics',\n",
       "       'Developer, mobile', 'Educator', 'Engineer, data',\n",
       "       'Engineer, site reliability', 'Engineering manager',\n",
       "       'Marketing or sales professional', 'Product manager', 'Scientist',\n",
       "       'Senior executive/VP', 'System administrator',\n",
       "       'Associate degree (A.A., A.S., etc.)',\n",
       "       'Bachelor’s degree (B.A., B.S., B.Eng., etc.)',\n",
       "       'I never completed any formal education',\n",
       "       'Master’s degree (M.A., M.S., M.Eng., MBA, etc.)',\n",
       "       'Other doctoral degree (Ph.D., Ed.D., etc.)',\n",
       "       'Primary/elementary school', 'Professional degree (JD, MD, etc.)',\n",
       "       'Secondary school (e.g. American high school, German Realschule or Gymnasium, etc.)',\n",
       "       'Some college/university study without earning a degree', 'BSD',\n",
       "       'Linux-based', 'MacOS', 'Windows'],\n",
       "      dtype='object')"
      ]
     },
     "execution_count": 36,
     "metadata": {},
     "output_type": "execute_result"
    }
   ],
   "source": [
    "input_columns"
   ]
  },
  {
   "cell_type": "code",
   "execution_count": 17,
   "metadata": {},
   "outputs": [
    {
     "data": {
      "text/plain": [
       "array([113394.])"
      ]
     },
     "execution_count": 17,
     "metadata": {},
     "output_type": "execute_result"
    }
   ],
   "source": [
    "inputs={'YearsCodePro': 10, 'Data scientist or machine learning specialist': 1, 'Windows': 1}\n",
    "# df=pd.DataFrame(columns=input_columns)\n",
    "# input_df=pd.concat([df, pd.DataFrame(inputs, [0])]).fillna(0)\n",
    "# input_scaled=scaler.transform(input_df)\n",
    "# rfr.predict(input_scaled)"
   ]
  },
  {
   "cell_type": "code",
   "execution_count": 26,
   "metadata": {},
   "outputs": [
    {
     "data": {
      "text/plain": [
       "array([113394.])"
      ]
     },
     "execution_count": 26,
     "metadata": {},
     "output_type": "execute_result"
    }
   ],
   "source": [
    "input_ary=[]\n",
    "for each_feature in input_columns: \n",
    "    try: \n",
    "        input_ary.append(inputs[each_feature])\n",
    "    except: \n",
    "        input_ary.append(0)\n",
    "input_scaled=scaler.transform([input_ary])\n",
    "rfr.predict(input_scaled)"
   ]
  },
  {
   "cell_type": "code",
   "execution_count": 45,
   "metadata": {
    "scrolled": true
   },
   "outputs": [
    {
     "data": {
      "text/plain": [
       "array([169676.32142857])"
      ]
     },
     "execution_count": 45,
     "metadata": {},
     "output_type": "execute_result"
    }
   ],
   "source": [
    "inputs={'YearsCodePro': 10, \n",
    "        'Data scientist or machine learning specialist': 1, \n",
    "        'MacOS': 1, \n",
    "        'Master’s degree (M.A., M.S., M.Eng., MBA, etc.)': 1}\n",
    "input_ary=[inputs[each_feature] if (each_feature in inputs) else 0 for each_feature in input_columns]\n",
    "input_scaled=scaler.transform([input_ary])\n",
    "rfr.predict(input_scaled)"
   ]
  },
  {
   "cell_type": "code",
   "execution_count": 47,
   "metadata": {},
   "outputs": [
    {
     "data": {
      "text/plain": [
       "array([175016.])"
      ]
     },
     "execution_count": 47,
     "metadata": {},
     "output_type": "execute_result"
    }
   ],
   "source": [
    "inputs={'YearsCodePro': 10, \n",
    "        'Data scientist or machine learning specialist': 1, \n",
    "        'MacOS': 1, \n",
    "        'Other doctoral degree (Ph.D., Ed.D., etc.)': 1}\n",
    "input_ary=[inputs[each_feature] if (each_feature in inputs) else 0 for each_feature in input_columns]\n",
    "input_scaled=scaler.transform([input_ary])\n",
    "rfr.predict(input_scaled)"
   ]
  },
  {
   "cell_type": "code",
   "execution_count": 48,
   "metadata": {},
   "outputs": [
    {
     "data": {
      "text/plain": [
       "array([158738.41269841])"
      ]
     },
     "execution_count": 48,
     "metadata": {},
     "output_type": "execute_result"
    }
   ],
   "source": [
    "inputs={'YearsCodePro': 10, \n",
    "        'Data scientist or machine learning specialist': 1, \n",
    "        'MacOS': 1, \n",
    "        'Bachelor’s degree (B.A., B.S., B.Eng., etc.)': 1}\n",
    "input_ary=[inputs[each_feature] if (each_feature in inputs) else 0 for each_feature in input_columns]\n",
    "input_scaled=scaler.transform([input_ary])\n",
    "rfr.predict(input_scaled)"
   ]
  },
  {
   "cell_type": "code",
   "execution_count": 49,
   "metadata": {},
   "outputs": [
    {
     "data": {
      "text/plain": [
       "array([160962.63492063])"
      ]
     },
     "execution_count": 49,
     "metadata": {},
     "output_type": "execute_result"
    }
   ],
   "source": [
    "inputs={'YearsCodePro': 10, \n",
    "        'Data scientist or machine learning specialist': 1, \n",
    "        'MacOS': 1}\n",
    "input_ary=[inputs[each_feature] if (each_feature in inputs) else 0 for each_feature in input_columns]\n",
    "input_scaled=scaler.transform([input_ary])\n",
    "rfr.predict(input_scaled)"
   ]
  },
  {
   "cell_type": "code",
   "execution_count": 51,
   "metadata": {},
   "outputs": [
    {
     "data": {
      "text/plain": [
       "array([140740.])"
      ]
     },
     "execution_count": 51,
     "metadata": {},
     "output_type": "execute_result"
    }
   ],
   "source": [
    "inputs={'YearsCodePro': 10, \n",
    "        'Data scientist or machine learning specialist': 1, \n",
    "        'MacOS': 1, \n",
    "        'Associate degree (A.A., A.S., etc.)': 1}\n",
    "input_ary=[inputs[each_feature] if (each_feature in inputs) else 0 for each_feature in input_columns]\n",
    "input_scaled=scaler.transform([input_ary])\n",
    "rfr.predict(input_scaled)"
   ]
  },
  {
   "cell_type": "code",
   "execution_count": 52,
   "metadata": {},
   "outputs": [
    {
     "data": {
      "text/plain": [
       "array([160962.63492063])"
      ]
     },
     "execution_count": 52,
     "metadata": {},
     "output_type": "execute_result"
    }
   ],
   "source": [
    "inputs={'YearsCodePro': 10, \n",
    "        'Data scientist or machine learning specialist': 1, \n",
    "        'MacOS': 1, \n",
    "        'I never completed any formal education': 1}\n",
    "input_ary=[inputs[each_feature] if (each_feature in inputs) else 0 for each_feature in input_columns]\n",
    "input_scaled=scaler.transform([input_ary])\n",
    "rfr.predict(input_scaled)"
   ]
  },
  {
   "cell_type": "code",
   "execution_count": 13,
   "metadata": {},
   "outputs": [],
   "source": [
    "import csv\n",
    "with open('column_dict.csv') as f: \n",
    "    csvreader=csv.reader(f)\n",
    "#     for each_row in csvreader: \n",
    "#         print(each_row)\n",
    "#     print(dict(csvreader))\n",
    "    column_dictionary=dict(csvreader)"
   ]
  },
  {
   "cell_type": "code",
   "execution_count": 8,
   "metadata": {},
   "outputs": [
    {
     "data": {
      "text/plain": [
       "'test'"
      ]
     },
     "execution_count": 8,
     "metadata": {},
     "output_type": "execute_result"
    }
   ],
   "source": [
    "test={'': 'test'}\n",
    "test['']"
   ]
  },
  {
   "cell_type": "code",
   "execution_count": 9,
   "metadata": {},
   "outputs": [
    {
     "ename": "KeyError",
     "evalue": "None",
     "output_type": "error",
     "traceback": [
      "\u001b[1;31m---------------------------------------------------------------------------\u001b[0m",
      "\u001b[1;31mKeyError\u001b[0m                                  Traceback (most recent call last)",
      "\u001b[1;32m<ipython-input-9-6f8e747327ec>\u001b[0m in \u001b[0;36m<module>\u001b[1;34m\u001b[0m\n\u001b[1;32m----> 1\u001b[1;33m \u001b[0mtest\u001b[0m\u001b[1;33m[\u001b[0m\u001b[1;32mNone\u001b[0m\u001b[1;33m]\u001b[0m\u001b[1;33m\u001b[0m\u001b[1;33m\u001b[0m\u001b[0m\n\u001b[0m",
      "\u001b[1;31mKeyError\u001b[0m: None"
     ]
    }
   ],
   "source": [
    "test[None]"
   ]
  },
  {
   "cell_type": "code",
   "execution_count": 27,
   "metadata": {},
   "outputs": [
    {
     "data": {
      "text/plain": [
       "{'Windows': 1}"
      ]
     },
     "execution_count": 27,
     "metadata": {},
     "output_type": "execute_result"
    }
   ],
   "source": [
    "test={'OpySys': 'windows', 'EdLevel': 'bachelors', 'DevType': 'data_scientist'}\n",
    "{column_dictionary[name]: 1 for name in test.values() if name in ['windows']}"
   ]
  },
  {
   "cell_type": "code",
   "execution_count": 20,
   "metadata": {},
   "outputs": [
    {
     "data": {
      "text/plain": [
       "dict_values(['windows', 'bachelors', 'data_scientist'])"
      ]
     },
     "execution_count": 20,
     "metadata": {},
     "output_type": "execute_result"
    }
   ],
   "source": [
    "test.values()"
   ]
  },
  {
   "cell_type": "code",
   "execution_count": 18,
   "metadata": {},
   "outputs": [
    {
     "data": {
      "text/plain": [
       "{'OpySys': 'windows', 'EdLevel': 'bachelors', 'DevType': 'data_scientist'}"
      ]
     },
     "execution_count": 18,
     "metadata": {},
     "output_type": "execute_result"
    }
   ],
   "source": [
    "test"
   ]
  },
  {
   "cell_type": "code",
   "execution_count": 38,
   "metadata": {},
   "outputs": [
    {
     "data": {
      "text/plain": [
       "{'YearsCodePro': {'type': 'numericals'},\n",
       " 'DevType': {'type': 'categorical',\n",
       "  'options': {'researcher': 'Academic researcher',\n",
       "   'analyst': 'Data or business analyst',\n",
       "   'data_scientist': 'Data scientist or machine learning specialist',\n",
       "   'machine_learning_specialist': 'Data scientist or machine learning specialist',\n",
       "   'database_admin': 'Database administrator',\n",
       "   'designer': 'Designer',\n",
       "   'devops': 'DevOps specialist',\n",
       "   'dev_qa': 'Developer, QA or test',\n",
       "   'dev_backend': 'Developer, back-end',\n",
       "   'dev_desktop': 'Developer, desktop or enterprise applications',\n",
       "   'dev_embedded': 'Developer, embedded applications or devices',\n",
       "   'dev_frontend': 'Developer, front-end',\n",
       "   'dev_fullstack': 'Developer, full-stack',\n",
       "   'dev_game': 'Developer, game or graphics',\n",
       "   'dev_mobile': 'Developer, mobile',\n",
       "   'educator': 'Educator',\n",
       "   'data_engineer': 'Engineer, data',\n",
       "   'site_reliability_engineer': 'Engineer, site reliability',\n",
       "   'engineering_manager': 'Engineering manager',\n",
       "   'marketing': 'Marketing or sales professional',\n",
       "   'sales': 'Marketing or sales professional',\n",
       "   'product_manager': 'Product manager',\n",
       "   'scientist': 'Scientist',\n",
       "   'senior_executive': 'Senior executive/VP',\n",
       "   'system_admin': 'System administrator'}},\n",
       " 'EdLevel': {'type': 'categorical',\n",
       "  'options': {'associate': 'Associate degree (A.A., A.S., etc.)',\n",
       "   'bachelors': 'Bachelorâ€™s degree (B.A., B.S., B.Eng., etc.)',\n",
       "   'none': 'I never completed any formal education',\n",
       "   'masters': 'Masterâ€™s degree (M.A., M.S., M.Eng., MBA, etc.)',\n",
       "   'doctoral': 'Other doctoral degree (Ph.D., Ed.D., etc.)',\n",
       "   'primary': 'Primary/elementary school',\n",
       "   'professional': 'Professional degree (JD, MD, etc.)',\n",
       "   'secondary': 'Secondary school (e.g. American high school, German Realschule or Gymnasium, etc.)',\n",
       "   'some': 'Some college/university study without earning a degree'}},\n",
       " 'OpSys': {'type': 'categorical',\n",
       "  'options': {'bsd': 'BSD',\n",
       "   'linux': 'Linux-based',\n",
       "   'macos': 'MacOS',\n",
       "   'windows': 'Windows'}}}"
      ]
     },
     "execution_count": 38,
     "metadata": {},
     "output_type": "execute_result"
    }
   ],
   "source": [
    "import json\n",
    "with open('input_dictionary.json') as f: \n",
    "    input_dictionary=json.load(f)\n",
    "input_dictionary"
   ]
  },
  {
   "cell_type": "code",
   "execution_count": 37,
   "metadata": {},
   "outputs": [
    {
     "data": {
      "text/plain": [
       "list"
      ]
     },
     "execution_count": 37,
     "metadata": {},
     "output_type": "execute_result"
    }
   ],
   "source": [
    "type(input_dictionary)"
   ]
  },
  {
   "cell_type": "code",
   "execution_count": 58,
   "metadata": {},
   "outputs": [
    {
     "data": {
      "text/plain": [
       "{'researcher': 'Academic researcher',\n",
       " 'analyst': 'Data or business analyst',\n",
       " 'data_scientist': 'Data scientist or machine learning specialist',\n",
       " 'machine_learning_specialist': 'Data scientist or machine learning specialist',\n",
       " 'database_admin': 'Database administrator',\n",
       " 'designer': 'Designer',\n",
       " 'devops': 'DevOps specialist',\n",
       " 'dev_qa': 'Developer, QA or test',\n",
       " 'dev_backend': 'Developer, back-end',\n",
       " 'dev_desktop': 'Developer, desktop or enterprise applications',\n",
       " 'dev_embedded': 'Developer, embedded applications or devices',\n",
       " 'dev_frontend': 'Developer, front-end',\n",
       " 'dev_fullstack': 'Developer, full-stack',\n",
       " 'dev_game': 'Developer, game or graphics',\n",
       " 'dev_mobile': 'Developer, mobile',\n",
       " 'educator': 'Educator',\n",
       " 'data_engineer': 'Engineer, data',\n",
       " 'site_reliability_engineer': 'Engineer, site reliability',\n",
       " 'engineering_manager': 'Engineering manager',\n",
       " 'marketing': 'Marketing or sales professional',\n",
       " 'sales': 'Marketing or sales professional',\n",
       " 'product_manager': 'Product manager',\n",
       " 'scientist': 'Scientist',\n",
       " 'senior_executive': 'Senior executive/VP',\n",
       " 'system_admin': 'System administrator',\n",
       " 'associate': 'Associate degree (A.A., A.S., etc.)',\n",
       " 'bachelors': 'Bachelorâ€™s degree (B.A., B.S., B.Eng., etc.)',\n",
       " 'none': 'I never completed any formal education',\n",
       " 'masters': 'Masterâ€™s degree (M.A., M.S., M.Eng., MBA, etc.)',\n",
       " 'doctoral': 'Other doctoral degree (Ph.D., Ed.D., etc.)',\n",
       " 'primary': 'Primary/elementary school',\n",
       " 'professional': 'Professional degree (JD, MD, etc.)',\n",
       " 'secondary': 'Secondary school (e.g. American high school, German Realschule or Gymnasium, etc.)',\n",
       " 'some': 'Some college/university study without earning a degree',\n",
       " 'bsd': 'BSD',\n",
       " 'linux': 'Linux-based',\n",
       " 'macos': 'MacOS',\n",
       " 'windows': 'Windows'}"
      ]
     },
     "execution_count": 58,
     "metadata": {},
     "output_type": "execute_result"
    }
   ],
   "source": [
    "test_dictionary={}\n",
    "for key in input_dictionary.keys(): \n",
    "    if input_dictionary[key]['type']=='categorical': \n",
    "        test_dictionary.update(input_dictionary[key]['options'])\n",
    "test_dictionary"
   ]
  },
  {
   "cell_type": "code",
   "execution_count": 70,
   "metadata": {
    "scrolled": true
   },
   "outputs": [
    {
     "data": {
      "text/plain": [
       "{'input(s)': {'Bachelor’s degree (B.A., B.S., B.Eng., etc.)': 1,\n",
       "  'Data scientist or machine learning specialist': 1,\n",
       "  'MacOS': 1,\n",
       "  'YearsCodePro': '10'},\n",
       " 'output': 175947.61904761905}"
      ]
     },
     "execution_count": 70,
     "metadata": {},
     "output_type": "execute_result"
    }
   ],
   "source": [
    "import requests\n",
    "response=requests.get('http://127.0.0.1:5000/salary/?YearsCodePro=10&DevType=data_scientist&EdLevel=bachelors&OpSys=macos')\n",
    "response.json()"
   ]
  },
  {
   "cell_type": "code",
   "execution_count": null,
   "metadata": {},
   "outputs": [],
   "source": [
    "requests.get('http://127.0.0.1:5000/salary/?YearsCodePro=10&DevType=data_scientist&EdLevel=bachelors&OpSys=macos')"
   ]
  }
 ],
 "metadata": {
  "kernelspec": {
   "display_name": "Python 3",
   "language": "python",
   "name": "python3"
  },
  "language_info": {
   "codemirror_mode": {
    "name": "ipython",
    "version": 3
   },
   "file_extension": ".py",
   "mimetype": "text/x-python",
   "name": "python",
   "nbconvert_exporter": "python",
   "pygments_lexer": "ipython3",
   "version": "3.7.4"
  }
 },
 "nbformat": 4,
 "nbformat_minor": 2
}
